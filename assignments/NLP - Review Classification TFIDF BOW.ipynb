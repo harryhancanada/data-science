{
 "cells": [
  {
   "cell_type": "code",
   "execution_count": 94,
   "metadata": {},
   "outputs": [],
   "source": [
    "import pandas as pd\n",
    "import numpy as np\n",
    "data = pd.read_csv('reviews.csv', delimiter='\\t',header=None)"
   ]
  },
  {
   "cell_type": "code",
   "execution_count": 95,
   "metadata": {},
   "outputs": [],
   "source": [
    "data=data.rename(columns={0: \"Name\", 2: \"Date\",1:\"Rating\",3:\"Review\"})"
   ]
  },
  {
   "cell_type": "code",
   "execution_count": 96,
   "metadata": {},
   "outputs": [
    {
     "data": {
      "text/html": [
       "<div>\n",
       "<style scoped>\n",
       "    .dataframe tbody tr th:only-of-type {\n",
       "        vertical-align: middle;\n",
       "    }\n",
       "\n",
       "    .dataframe tbody tr th {\n",
       "        vertical-align: top;\n",
       "    }\n",
       "\n",
       "    .dataframe thead th {\n",
       "        text-align: right;\n",
       "    }\n",
       "</style>\n",
       "<table border=\"1\" class=\"dataframe\">\n",
       "  <thead>\n",
       "    <tr style=\"text-align: right;\">\n",
       "      <th></th>\n",
       "      <th>Name</th>\n",
       "      <th>Rating</th>\n",
       "      <th>Date</th>\n",
       "      <th>Review</th>\n",
       "    </tr>\n",
       "  </thead>\n",
       "  <tbody>\n",
       "    <tr>\n",
       "      <th>0</th>\n",
       "      <td>Skype</td>\n",
       "      <td>3</td>\n",
       "      <td>2021-01-12T17:06:39+00:00</td>\n",
       "      <td>It shows my credit in Danish Corona but I live...</td>\n",
       "    </tr>\n",
       "    <tr>\n",
       "      <th>1</th>\n",
       "      <td>Skype</td>\n",
       "      <td>1</td>\n",
       "      <td>2021-01-10T16:58:00+00:00</td>\n",
       "      <td>Disgusting. Skype effectively operated as a sc...</td>\n",
       "    </tr>\n",
       "    <tr>\n",
       "      <th>2</th>\n",
       "      <td>Skype</td>\n",
       "      <td>3</td>\n",
       "      <td>2020-12-28T11:57:59+00:00</td>\n",
       "      <td>Outdated.\\n\\n Simply an outdated platform, it ...</td>\n",
       "    </tr>\n",
       "    <tr>\n",
       "      <th>3</th>\n",
       "      <td>Skype</td>\n",
       "      <td>1</td>\n",
       "      <td>2020-12-27T14:29:41+00:00</td>\n",
       "      <td>When Skype came out I thought it was a great a...</td>\n",
       "    </tr>\n",
       "    <tr>\n",
       "      <th>4</th>\n",
       "      <td>Skype</td>\n",
       "      <td>5</td>\n",
       "      <td>2020-12-20T21:05:07+00:00</td>\n",
       "      <td>My favorite app for business calls.</td>\n",
       "    </tr>\n",
       "  </tbody>\n",
       "</table>\n",
       "</div>"
      ],
      "text/plain": [
       "    Name  Rating                       Date  \\\n",
       "0  Skype       3  2021-01-12T17:06:39+00:00   \n",
       "1  Skype       1  2021-01-10T16:58:00+00:00   \n",
       "2  Skype       3  2020-12-28T11:57:59+00:00   \n",
       "3  Skype       1  2020-12-27T14:29:41+00:00   \n",
       "4  Skype       5  2020-12-20T21:05:07+00:00   \n",
       "\n",
       "                                              Review  \n",
       "0  It shows my credit in Danish Corona but I live...  \n",
       "1  Disgusting. Skype effectively operated as a sc...  \n",
       "2  Outdated.\\n\\n Simply an outdated platform, it ...  \n",
       "3  When Skype came out I thought it was a great a...  \n",
       "4                My favorite app for business calls.  "
      ]
     },
     "execution_count": 96,
     "metadata": {},
     "output_type": "execute_result"
    }
   ],
   "source": [
    "#check data\n",
    "data.head()"
   ]
  },
  {
   "cell_type": "code",
   "execution_count": 97,
   "metadata": {},
   "outputs": [],
   "source": [
    "#replace rating with 0 for negative, 1 for neutral, 2 for positive\n",
    "data['Sentiment']=data['Rating'].replace({1:0,2:0,3:1,4:2,5:2})"
   ]
  },
  {
   "cell_type": "code",
   "execution_count": 149,
   "metadata": {},
   "outputs": [
    {
     "data": {
      "text/html": [
       "<div>\n",
       "<style scoped>\n",
       "    .dataframe tbody tr th:only-of-type {\n",
       "        vertical-align: middle;\n",
       "    }\n",
       "\n",
       "    .dataframe tbody tr th {\n",
       "        vertical-align: top;\n",
       "    }\n",
       "\n",
       "    .dataframe thead th {\n",
       "        text-align: right;\n",
       "    }\n",
       "</style>\n",
       "<table border=\"1\" class=\"dataframe\">\n",
       "  <thead>\n",
       "    <tr style=\"text-align: right;\">\n",
       "      <th></th>\n",
       "      <th>Review</th>\n",
       "      <th>Sentiment</th>\n",
       "    </tr>\n",
       "  </thead>\n",
       "  <tbody>\n",
       "    <tr>\n",
       "      <th>0</th>\n",
       "      <td>It shows my credit in Danish Corona but I live...</td>\n",
       "      <td>1</td>\n",
       "    </tr>\n",
       "    <tr>\n",
       "      <th>1</th>\n",
       "      <td>Disgusting. Skype effectively operated as a sc...</td>\n",
       "      <td>0</td>\n",
       "    </tr>\n",
       "    <tr>\n",
       "      <th>2</th>\n",
       "      <td>Outdated.\\n\\n Simply an outdated platform, it ...</td>\n",
       "      <td>1</td>\n",
       "    </tr>\n",
       "    <tr>\n",
       "      <th>3</th>\n",
       "      <td>When Skype came out I thought it was a great a...</td>\n",
       "      <td>0</td>\n",
       "    </tr>\n",
       "    <tr>\n",
       "      <th>4</th>\n",
       "      <td>My favorite app for business calls.</td>\n",
       "      <td>2</td>\n",
       "    </tr>\n",
       "  </tbody>\n",
       "</table>\n",
       "</div>"
      ],
      "text/plain": [
       "                                              Review  Sentiment\n",
       "0  It shows my credit in Danish Corona but I live...          1\n",
       "1  Disgusting. Skype effectively operated as a sc...          0\n",
       "2  Outdated.\\n\\n Simply an outdated platform, it ...          1\n",
       "3  When Skype came out I thought it was a great a...          0\n",
       "4                My favorite app for business calls.          2"
      ]
     },
     "execution_count": 149,
     "metadata": {},
     "output_type": "execute_result"
    }
   ],
   "source": [
    "#Check data\n",
    "data=data[['Review','Sentiment']]\n",
    "data.head()"
   ]
  },
  {
   "cell_type": "code",
   "execution_count": 150,
   "metadata": {},
   "outputs": [],
   "source": [
    "#shuffle data and split\n",
    "msk = np.random.rand(len(data)) < 0.8\n",
    "train = data[msk]\n",
    "test = data[~msk]\n",
    "train.to_csv('training.csv')\n",
    "test.to_csv('valid.csv')"
   ]
  },
  {
   "cell_type": "code",
   "execution_count": 151,
   "metadata": {},
   "outputs": [],
   "source": [
    "#Get Train and test for X and y\n",
    "X_train = train['Review']\n",
    "y_train = train['Sentiment']\n",
    "X_test = test['Review']\n",
    "y_test = test['Sentiment']"
   ]
  },
  {
   "cell_type": "code",
   "execution_count": 152,
   "metadata": {},
   "outputs": [
    {
     "data": {
      "text/plain": [
       "(1022, 4613)"
      ]
     },
     "execution_count": 152,
     "metadata": {},
     "output_type": "execute_result"
    }
   ],
   "source": [
    "# Count \n",
    "from sklearn.feature_extraction.text import CountVectorizer\n",
    "count_vect = CountVectorizer()\n",
    "X_train_counts = count_vect.fit_transform(train['Review'])\n",
    "X_train_counts.shape"
   ]
  },
  {
   "cell_type": "code",
   "execution_count": 193,
   "metadata": {},
   "outputs": [
    {
     "data": {
      "text/plain": [
       "(1022, 4613)"
      ]
     },
     "execution_count": 193,
     "metadata": {},
     "output_type": "execute_result"
    }
   ],
   "source": [
    "# Transform to TF-idf\n",
    "tfidf_transformer = TfidfTransformer()\n",
    "X_train_tfidf = tfidf_transformer.fit_transform(X_train_counts)\n",
    "X_train_tfidf.shape"
   ]
  },
  {
   "cell_type": "code",
   "execution_count": 194,
   "metadata": {},
   "outputs": [
    {
     "name": "stdout",
     "output_type": "stream",
     "text": [
      "Best Score:  0.8415064562410329\n",
      "Best Params:  {'mnb__alpha': 0.5, 'mnb__fit_prior': False}\n"
     ]
    }
   ],
   "source": [
    "#Gridsearch parameters\n",
    "from sklearn.naive_bayes import MultinomialNB\n",
    "from sklearn.model_selection import GridSearchCV\n",
    "from sklearn.pipeline import Pipeline\n",
    "mnb_pipeline = Pipeline([\n",
    "       ('mnb', MultinomialNB())\n",
    "])\n",
    "grid_params = {\n",
    "  'mnb__alpha': np.linspace(0.5, 1.5, 5,10),\n",
    "  'mnb__fit_prior': [True, False],  \n",
    "}\n",
    "clf = GridSearchCV(mnb_pipeline, grid_params)\n",
    "clf.fit(X_train_tfidf,y_train)\n",
    "print(\"Best Score: \", clf.best_score_)\n",
    "print(\"Best Params: \", clf.best_params_)"
   ]
  },
  {
   "cell_type": "code",
   "execution_count": 195,
   "metadata": {},
   "outputs": [
    {
     "data": {
      "text/plain": [
       "MultinomialNB(alpha=0.5, fit_prior=False)"
      ]
     },
     "execution_count": 195,
     "metadata": {},
     "output_type": "execute_result"
    }
   ],
   "source": [
    "#fit for train\n",
    "clf = MultinomialNB(alpha=0.5,fit_prior=False)\n",
    "clf.fit(X_train_tfidf,y_train)\n"
   ]
  },
  {
   "cell_type": "code",
   "execution_count": 196,
   "metadata": {},
   "outputs": [],
   "source": [
    "#tranfor test set to tfidf format and predict result\n",
    "X_test_counts = count_vect.transform(test['Review'])\n",
    "X_test_tfidf = tfidf_transformer.transform(X_test_counts)\n",
    "\n",
    "y_pred = clf.predict(X_test_tfidf)\n",
    "y_true = test['Sentiment'].values"
   ]
  },
  {
   "cell_type": "code",
   "execution_count": 197,
   "metadata": {},
   "outputs": [
    {
     "name": "stdout",
     "output_type": "stream",
     "text": [
      "Accuracy: 0.9296296296296296\n",
      "F1 score: 0.920088835121515\n",
      "Confusion Matrix (Accuracy 0.9296)\n",
      "\n",
      "       Prediction\n",
      "Actual   0   1   2\n",
      "     0 178   0   2\n",
      "     1   9   4   1\n",
      "     2   7   0  69\n"
     ]
    }
   ],
   "source": [
    "#print result\n",
    "from sklearn.metrics import accuracy_score\n",
    "from sklearn.metrics import f1_score\n",
    "from dmba import classificationSummary\n",
    "\n",
    "print ('Accuracy:', accuracy_score(y_true, y_pred))\n",
    "print ('F1 score:', f1_score(y_true, y_pred,average='weighted'))\n",
    "\n",
    "classificationSummary(y_true, y_pred)"
   ]
  },
  {
   "cell_type": "code",
   "execution_count": null,
   "metadata": {},
   "outputs": [],
   "source": []
  }
 ],
 "metadata": {
  "kernelspec": {
   "display_name": "Python 3",
   "language": "python",
   "name": "python3"
  },
  "language_info": {
   "codemirror_mode": {
    "name": "ipython",
    "version": 3
   },
   "file_extension": ".py",
   "mimetype": "text/x-python",
   "name": "python",
   "nbconvert_exporter": "python",
   "pygments_lexer": "ipython3",
   "version": "3.6.5"
  }
 },
 "nbformat": 4,
 "nbformat_minor": 2
}
