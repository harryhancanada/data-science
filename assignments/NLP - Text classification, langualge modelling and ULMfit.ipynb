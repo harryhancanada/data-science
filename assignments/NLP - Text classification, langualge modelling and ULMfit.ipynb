{
  "nbformat": 4,
  "nbformat_minor": 0,
  "metadata": {
    "kernelspec": {
      "display_name": "Python 3",
      "language": "python",
      "name": "python3"
    },
    "language_info": {
      "codemirror_mode": {
        "name": "ipython",
        "version": 3
      },
      "file_extension": ".py",
      "mimetype": "text/x-python",
      "name": "python",
      "nbconvert_exporter": "python",
      "pygments_lexer": "ipython3",
      "version": "3.6.5"
    },
    "colab": {
      "name": "Assignment 3.ipynb",
      "private_outputs": true,
      "provenance": [],
      "collapsed_sections": []
    },
    "accelerator": "GPU"
  },
  "cells": [
    {
      "cell_type": "code",
      "metadata": {
        "id": "uDondgJgSzDd"
      },
      "source": [
        "! [ -e /content ] && pip install -Uqq fastai\n",
        "! pip install dmba"
      ],
      "execution_count": null,
      "outputs": []
    },
    {
      "cell_type": "code",
      "metadata": {
        "id": "lJMaGfuwmwy1"
      },
      "source": [
        "import pandas as pd\n",
        "import numpy as np\n",
        "data = pd.read_csv('review.csv', delimiter='\\t')"
      ],
      "execution_count": null,
      "outputs": []
    },
    {
      "cell_type": "code",
      "metadata": {
        "id": "zgLuItRImwy4"
      },
      "source": [
        "data=data.rename(columns={0: \"Name\", 2: \"Date\",1:\"Rating\",3:\"Review\"})"
      ],
      "execution_count": null,
      "outputs": []
    },
    {
      "cell_type": "code",
      "metadata": {
        "id": "ddpTyhRXmwy5"
      },
      "source": [
        "#check data\n",
        "data.head()\n"
      ],
      "execution_count": null,
      "outputs": []
    },
    {
      "cell_type": "code",
      "metadata": {
        "id": "UsMwkM9Mmwy6"
      },
      "source": [
        "#replace rating with 0 for negative, 1 for neutral, 2 for positive\n",
        "data['Sentiment']=data['RatingValue'].replace({1:0,2:0,3:1,4:2,5:2})"
      ],
      "execution_count": null,
      "outputs": []
    },
    {
      "cell_type": "code",
      "metadata": {
        "id": "szP-Kyxvmwy6"
      },
      "source": [
        "#Check data\n",
        "data=data[['Review','Sentiment']]\n",
        "data.head()"
      ],
      "execution_count": null,
      "outputs": []
    },
    {
      "cell_type": "code",
      "metadata": {
        "id": "Ew79DGIkmwy6"
      },
      "source": [
        "#shuffle data and split\n",
        "np.random.seed(seed=1)\n",
        "msk = np.random.rand(len(data)) < 0.8\n",
        "train = data[msk]\n",
        "valid = data[~msk]\n",
        "train.to_csv('training.csv')\n",
        "valid.to_csv('valid.csv')"
      ],
      "execution_count": null,
      "outputs": []
    },
    {
      "cell_type": "code",
      "metadata": {
        "id": "QH3CdMYTmwy7"
      },
      "source": [
        "import fastai\n",
        "print(fastai.__version__)\n",
        "import fastai.text.all as ft\n",
        "import pickle\n",
        "import time "
      ],
      "execution_count": null,
      "outputs": []
    },
    {
      "cell_type": "code",
      "metadata": {
        "id": "PkX4Q6CXhnm5"
      },
      "source": [
        "#load\n",
        "with open('finetuned_lm_vocab.pkl', 'rb') as f:\n",
        "  lm_vocab = pickle.load(f)"
      ],
      "execution_count": null,
      "outputs": []
    },
    {
      "cell_type": "code",
      "metadata": {
        "id": "_YuRszutoMBN"
      },
      "source": [
        "# dataloader for the classifier\n",
        "dls_cls = ft.TextDataLoaders.from_df(data, path='.', text_vocab=lm_vocab, valid_pct=0.2, is_lm=False, valid='test', text_col ='Review')\n",
        "# dataloader for the language model\n",
        "dls_lm = ft.TextDataLoaders.from_df(data, path='.', text_vocab=lm_vocab, valid_pct=0.2, is_lm=True,  valid='test', text_col ='Review')"
      ],
      "execution_count": null,
      "outputs": []
    },
    {
      "cell_type": "code",
      "metadata": {
        "id": "VoJVib3Xi9lV"
      },
      "source": [
        "dls_cls.show_batch()"
      ],
      "execution_count": null,
      "outputs": []
    },
    {
      "cell_type": "code",
      "metadata": {
        "id": "1-bA_DxJoDSD"
      },
      "source": [
        "dls_lm.show_batch()"
      ],
      "execution_count": null,
      "outputs": []
    },
    {
      "cell_type": "code",
      "metadata": {
        "id": "HnqJrmD1o5Rc"
      },
      "source": [
        "learn_lm = ft.language_model_learner(dls_lm, ft.AWD_LSTM, metrics=[ft.accuracy, ft.Perplexity()], wd=0.1).to_fp16()"
      ],
      "execution_count": null,
      "outputs": []
    },
    {
      "cell_type": "code",
      "metadata": {
        "id": "SkymFg5pug20"
      },
      "source": [
        "learn_lm.fit_one_cycle(1, 1e-2)\n"
      ],
      "execution_count": null,
      "outputs": []
    },
    {
      "cell_type": "code",
      "metadata": {
        "id": "lSQ4mxMQuxyZ"
      },
      "source": [
        "learn_lm.save_encoder('/content/1epoch_lm')"
      ],
      "execution_count": null,
      "outputs": []
    },
    {
      "cell_type": "code",
      "metadata": {
        "id": "Tdd5nAlLuN67"
      },
      "source": [
        "learn_lm.show_results()"
      ],
      "execution_count": null,
      "outputs": []
    },
    {
      "cell_type": "code",
      "metadata": {
        "id": "0GvtwwDP_NPw"
      },
      "source": [
        "\n",
        "learn_lm.export(fname=\"1_tuned.pkl\")"
      ],
      "execution_count": null,
      "outputs": []
    },
    {
      "cell_type": "code",
      "metadata": {
        "id": "XrpYNYoQsDut"
      },
      "source": [
        "learn_cls = ft.text_classifier_learner(dls_cls, ft.AWD_LSTM, drop_mult=0.5, metrics=ft.accuracy)"
      ],
      "execution_count": null,
      "outputs": []
    },
    {
      "cell_type": "code",
      "metadata": {
        "id": "KPujBfBwAuor"
      },
      "source": [
        "learn_lm.model"
      ],
      "execution_count": null,
      "outputs": []
    },
    {
      "cell_type": "code",
      "metadata": {
        "id": "3hy1BkpSAz_d"
      },
      "source": [
        "learn_cls.model"
      ],
      "execution_count": null,
      "outputs": []
    },
    {
      "cell_type": "code",
      "metadata": {
        "id": "Z7LTKlDgA3TB"
      },
      "source": [
        "learn_cls.fit_one_cycle(1, 2e-2)"
      ],
      "execution_count": null,
      "outputs": []
    },
    {
      "cell_type": "code",
      "metadata": {
        "id": "Umf9IdZMBxTc"
      },
      "source": [
        "learn_cls.freeze_to(-3)\n",
        "learn_cls.fit_one_cycle(1, slice(5e-3/(2.6**4),5e-3))"
      ],
      "execution_count": null,
      "outputs": []
    },
    {
      "cell_type": "code",
      "metadata": {
        "id": "qqjWeEqBB2Sy"
      },
      "source": [
        "learn_cls.unfreeze()\n",
        "learn_cls.fit_one_cycle(2, slice(1e-3/(2.6**4),1e-3))"
      ],
      "execution_count": null,
      "outputs": []
    },
    {
      "cell_type": "code",
      "metadata": {
        "id": "J7RHloSuH_06"
      },
      "source": [
        "learn_lm.model"
      ],
      "execution_count": null,
      "outputs": []
    },
    {
      "cell_type": "code",
      "metadata": {
        "id": "uqz-WtOZHBv1"
      },
      "source": [
        "learn_cls.model"
      ],
      "execution_count": null,
      "outputs": []
    },
    {
      "cell_type": "code",
      "metadata": {
        "id": "ScQXNU7uFd6Q"
      },
      "source": [
        "learn_cls.export(fname=\"fine_tuned1.pkl\")"
      ],
      "execution_count": null,
      "outputs": []
    },
    {
      "cell_type": "code",
      "metadata": {
        "id": "MJRaYWSvIJ77"
      },
      "source": [
        "learn_cls.save_encoder('/content/fine_tuned_cls')"
      ],
      "execution_count": null,
      "outputs": []
    },
    {
      "cell_type": "code",
      "metadata": {
        "id": "4UOV_jrWU1zs"
      },
      "source": [
        "learn_cls"
      ],
      "execution_count": null,
      "outputs": []
    },
    {
      "cell_type": "code",
      "metadata": {
        "id": "vTR-TFdQB5ZV"
      },
      "source": [
        "#test\n",
        "learn_cls.predict('i like it')[0]\n"
      ],
      "execution_count": null,
      "outputs": []
    },
    {
      "cell_type": "code",
      "metadata": {
        "id": "K808I3eFIXlG"
      },
      "source": [
        "valid.head()"
      ],
      "execution_count": null,
      "outputs": []
    },
    {
      "cell_type": "code",
      "metadata": {
        "id": "KOxcb26_C7rP"
      },
      "source": [
        "y_predict=[]\n",
        "for review in valid['Review']:\n",
        "  y_predict.append(learn_cls.predict(review))"
      ],
      "execution_count": null,
      "outputs": []
    },
    {
      "cell_type": "code",
      "metadata": {
        "id": "TiIrno2NS80y"
      },
      "source": [
        "y_predict = np.array(y_predict)\n",
        "y_predict = y_predict[:,0]"
      ],
      "execution_count": null,
      "outputs": []
    },
    {
      "cell_type": "code",
      "metadata": {
        "id": "lJVFQYmoUK-h"
      },
      "source": [
        "y_true = valid['Sentiment']"
      ],
      "execution_count": null,
      "outputs": []
    },
    {
      "cell_type": "code",
      "metadata": {
        "id": "Pgc_uFYoURvR"
      },
      "source": [
        "pip install dmba"
      ],
      "execution_count": null,
      "outputs": []
    },
    {
      "cell_type": "code",
      "metadata": {
        "id": "t0E3N707UjpC"
      },
      "source": [
        "y_true"
      ],
      "execution_count": null,
      "outputs": []
    },
    {
      "cell_type": "code",
      "metadata": {
        "id": "8gtkNLm9UY1_"
      },
      "source": [
        "y_predict = y_predict.astype(int)"
      ],
      "execution_count": null,
      "outputs": []
    },
    {
      "cell_type": "code",
      "metadata": {
        "id": "19d4JE1MCkmN"
      },
      "source": [
        "from sklearn.metrics import accuracy_score\n",
        "from sklearn.metrics import f1_score\n",
        "from dmba import classificationSummary\n",
        "\n",
        "print ('Accuracy:', accuracy_score(y_true, y_predict))\n",
        "print ('F1 score:', f1_score(y_true, y_predict,average='weighted'))\n",
        "classificationSummary(y_true, y_predict)"
      ],
      "execution_count": null,
      "outputs": []
    },
    {
      "cell_type": "code",
      "metadata": {
        "id": "3WkodvRxVY3l"
      },
      "source": [
        "learn_cls.summary()"
      ],
      "execution_count": null,
      "outputs": []
    }
  ]
}