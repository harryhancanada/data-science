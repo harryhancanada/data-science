{
  "nbformat": 4,
  "nbformat_minor": 0,
  "metadata": {
    "kernelspec": {
      "display_name": "Python 3",
      "language": "python",
      "name": "python3"
    },
    "language_info": {
      "codemirror_mode": {
        "name": "ipython",
        "version": 3
      },
      "file_extension": ".py",
      "mimetype": "text/x-python",
      "name": "python",
      "nbconvert_exporter": "python",
      "pygments_lexer": "ipython3",
      "version": "3.6.5"
    },
    "colab": {
      "name": "MMAI5000_assignment3.ipynb",
      "provenance": [],
      "collapsed_sections": []
    }
  },
  "cells": [
    {
      "cell_type": "markdown",
      "metadata": {
        "id": "CzH2hvYRwS8n"
      },
      "source": [
        "# AI Fundamentals - Assignment 3\n",
        "\n",
        "This assignment requires you to use [Tensorflow](https://www.tensorflow.org) and [Keras](https://keras.io/). Keras is a high-level Deep Learning API written in Python working as an interface to TensorFlow.\n",
        "\n",
        "This assignment is divided in two parts. In the first part you will learn about Keras with the help of the example below and the Keras [documentation](https://keras.io/). In the second part, you will practise training a Deep Learning model.\n",
        "\n",
        "## How to submit\n",
        "Submit by uploading this notebook to Canvas. It should include **plots**, **results** and **code** showing how the results were genereated.  Remember to name your file(s) appropriately.\n",
        "It is due on 11:59 of December 9, 2020.\n",
        "\n",
        "## Installation\n",
        "Instructions can be found here:\n",
        "* [Tensorflow](https://www.tensorflow.org/install/)\n",
        "\n",
        "Since Tensorflow 2.0, Keras is included in Tensorflow and will be automatically installed with Tensorflow. It can be accessed as ```tensorflow.keras```\n",
        "\n",
        "I recommend using ```pip```. For Tensorflow is it sufficient to install the CPU version. The GPU version requires a good workstation with high-end Nvidia GPU(s), and it is not necessary for this tutorial.\n",
        "\n",
        "If you're using a virtualenv:\n",
        "```\n",
        "pip3 install tensorflow\n",
        "```\n",
        "Add ```sudo``` for a systemwide installation (i.e. no ```virtualenv```).\n",
        "```\n",
        "sudo pip3 install tensorflow\n",
        "```\n",
        "Make sure that you have ```sklearn```, ```matplotlib``` and ```numpy``` installed, too.\n",
        "\n",
        "\n",
        "## Part 1 - understand a model\n",
        "\n",
        "### Optimizers\n",
        "\n",
        "Loss is the penalty for a bad prediction. That is, loss is a number indicating how bad the model's prediction was on a single example. If the model's prediction is perfect, the loss is zero; otherwise, the loss is greater than zero. The goal of training a model is to find a set of weights and biases (i.e. parameters) that have, on average, a low loss across all examples. The term cost is used interchangably with loss. See the [loss section](https://keras.io/losses/) in the Keras documentation for a list and descriptions of what is available.\n",
        "\n",
        "![Side by side loss](https://drive.google.com/uc?id=1DdbQEQLCLCSw4uPsuf0C1nJCfUICT0Ae)\n",
        "<b>Figure 1.</b> Left: high loss and right: low loss.\n",
        "\n",
        "<!-- https://drive.google.com/file/d/1DdbQEQLCLCSw4uPsuf0C1nJCfUICT0Ae/view?usp=sharing\n",
        "<img src=\"./fig/LossSideBySide.png\" width=\"500\">\n",
        "<figcaption>Figure. Left: high loss and right: low loss.</figcaption>\n",
        " -->\n",
        "The optimizer is the algorithm used to minimize the loss/cost. Optimizers in neural networks work by finding the gradient/derivative of the loss with respect to the parameters (i.e. the weights). \"Gradient\" is the correct term since a we are looking at multi-dimensional systems (i.e. many parameters), however, the terms are often used interchangably. For those who didn't take multivariate calculus, just think of the gradient as a derivative. The derivative of the loss with respect to a parameters tells us how much the loss changes when we nudge a weight up or down. So, by knowing how a given parameter affects the loss the optimizer can change it so as to decrease the loss. The various optimizers differ in how they change the weights. \n",
        "\n",
        "#### Mini-overview over popular optimizers\n",
        "\n",
        "* **Stochastic Gradient Descent (SGD)**. This is the most basic and easy to understand optimizer. It updates the weights in the negative direction of the gradient by taking the average gradient of mini-batch of data (e.g. 20-1000 examples) in each step. Vanilla SGD only has one hyper-parameter, the learning rate.\n",
        "* **Momentum**. This optimizer \"gains speed\" when the gradient has pointed in the same direction for several consecutive updates. That is, it has a momentum and want to keep moving in that direction. It gains momentum by accumulating an exponentially decaying moving average of past gradients. The step size depends on how large and aligned the sequence of gradients are. The most important hyper-parameter is alpha and common values are 0.5 and 0.9.\n",
        "* **Nesterov Momentum**. This is a modification of the standard momentum optimizer.\n",
        "* **AdaGrad**. This optimizer Ada-ptively sets the learning rate depending on the steepness/magnitude of the Grad-ients. This is done so that weights with big gradients get a smaller effective learning rate, and weights with small gradients will get a greater effective learning rate. The result is quicker progress in the more gently sloped directions of the weight space and a slowdown in stepp regions.\n",
        "* **RMSProp**. This is modification of AdaGrad, where the accumulated gradient decays, that is, the influence of previous gradients gradually decreases.\n",
        "* **Adam**. The name comes from \"adaptive moments\", and it is a combination of RMSProp and momentum. It has several hyper-parameters.\n",
        "\n",
        "The above list just gives a quick overview of some of the most common. However, old optimizers are constantly improved and new are developed. SGD and momentum are most basic and easiest to understand and implement. They are still in use, but the more advanced optimizers tend to be better for practical use. Which one to use is generally an emperical question depending on both the data and the model.\n",
        "\n",
        "For a more complete overview of optimization algorithms see [this comparison](http://ruder.io/optimizing-gradient-descent/), and to see what is available in Keras, see the [optimizer section](https://keras.io/optimizers/) of the documentation.\n",
        "\n",
        "See the images below for a comparison of optimizers in a 2D space (NAG: Nesterov accelerated gradient, Adadelta: an extension of AdaGrad).\n",
        "\n",
        "![Contours - optimizer comparison](https://drive.google.com/uc?id=1CmrD-UPZ7EIUjRuO_ib7k9CL1FO2bbLk)\n",
        "<b>Figure 2.</b> Comparison of six different optimizers.\n",
        "\n",
        "\n",
        "![Saddle point - optimizer comparison](https://drive.google.com/uc?id=1QVhN9rAvCjXtGyNZkmFivyyCzNsntObh)\n",
        "<b>Figure 3.</b> Comparison of six different optimizers at a saddle point.\n",
        "\n",
        "<!-- <img src=\"./fig/contours_evaluation_optimizers.gif\" width=\"500\">\n",
        "<img src=\"./fig/saddle_point_evaluation_optimizers.gif\" width=\"500\"> -->"
      ]
    },
    {
      "cell_type": "code",
      "metadata": {
        "id": "epl9xrNnwS8o"
      },
      "source": [
        "###!pip install -U --ignore-installed wrapt enum34 simplejson netaddr"
      ],
      "execution_count": null,
      "outputs": []
    },
    {
      "cell_type": "code",
      "metadata": {
        "id": "wI4CDz0WwS8o"
      },
      "source": [
        "# imports\n",
        "import numpy as np\n",
        "from sklearn.datasets import fetch_openml\n",
        "from sklearn.model_selection import train_test_split\n",
        "import matplotlib.pyplot as plt\n",
        "# for the random seed\n",
        "import tensorflow as tf\n",
        "\n",
        "# set the random seeds to get reproducible results\n",
        "np.random.seed(1)\n",
        "tf.random.set_seed(2)\n",
        "\n",
        "# Load data from https://www.openml.org/d/554\n",
        "X, y = fetch_openml('mnist_784', version=1, return_X_y=True)\n",
        "X, y = X[:1000], y[:1000]\n"
      ],
      "execution_count": null,
      "outputs": []
    },
    {
      "cell_type": "code",
      "metadata": {
        "colab": {
          "base_uri": "https://localhost:8080/"
        },
        "id": "H9mrSqM7wS8o",
        "outputId": "767878fc-fafc-4dd8-fc5d-abda076dfd14"
      },
      "source": [
        "X"
      ],
      "execution_count": null,
      "outputs": [
        {
          "output_type": "execute_result",
          "data": {
            "text/plain": [
              "array([[0., 0., 0., ..., 0., 0., 0.],\n",
              "       [0., 0., 0., ..., 0., 0., 0.],\n",
              "       [0., 0., 0., ..., 0., 0., 0.],\n",
              "       ...,\n",
              "       [0., 0., 0., ..., 0., 0., 0.],\n",
              "       [0., 0., 0., ..., 0., 0., 0.],\n",
              "       [0., 0., 0., ..., 0., 0., 0.]])"
            ]
          },
          "metadata": {
            "tags": []
          },
          "execution_count": 3
        }
      ]
    },
    {
      "cell_type": "code",
      "metadata": {
        "colab": {
          "base_uri": "https://localhost:8080/"
        },
        "id": "pcmfIliXwS8q",
        "outputId": "732dfe3c-0e40-4a67-edbb-7967011c974a"
      },
      "source": [
        "X.shape"
      ],
      "execution_count": null,
      "outputs": [
        {
          "output_type": "execute_result",
          "data": {
            "text/plain": [
              "(1000, 784)"
            ]
          },
          "metadata": {
            "tags": []
          },
          "execution_count": 4
        }
      ]
    },
    {
      "cell_type": "code",
      "metadata": {
        "colab": {
          "base_uri": "https://localhost:8080/"
        },
        "id": "jfREkzqBwS8q",
        "outputId": "3a47395f-cad0-4acf-caae-c81bc57836fc"
      },
      "source": [
        "y"
      ],
      "execution_count": null,
      "outputs": [
        {
          "output_type": "execute_result",
          "data": {
            "text/plain": [
              "array(['5', '0', '4', '1', '9', '2', '1', '3', '1', '4', '3', '5', '3',\n",
              "       '6', '1', '7', '2', '8', '6', '9', '4', '0', '9', '1', '1', '2',\n",
              "       '4', '3', '2', '7', '3', '8', '6', '9', '0', '5', '6', '0', '7',\n",
              "       '6', '1', '8', '7', '9', '3', '9', '8', '5', '9', '3', '3', '0',\n",
              "       '7', '4', '9', '8', '0', '9', '4', '1', '4', '4', '6', '0', '4',\n",
              "       '5', '6', '1', '0', '0', '1', '7', '1', '6', '3', '0', '2', '1',\n",
              "       '1', '7', '9', '0', '2', '6', '7', '8', '3', '9', '0', '4', '6',\n",
              "       '7', '4', '6', '8', '0', '7', '8', '3', '1', '5', '7', '1', '7',\n",
              "       '1', '1', '6', '3', '0', '2', '9', '3', '1', '1', '0', '4', '9',\n",
              "       '2', '0', '0', '2', '0', '2', '7', '1', '8', '6', '4', '1', '6',\n",
              "       '3', '4', '5', '9', '1', '3', '3', '8', '5', '4', '7', '7', '4',\n",
              "       '2', '8', '5', '8', '6', '7', '3', '4', '6', '1', '9', '9', '6',\n",
              "       '0', '3', '7', '2', '8', '2', '9', '4', '4', '6', '4', '9', '7',\n",
              "       '0', '9', '2', '9', '5', '1', '5', '9', '1', '2', '3', '2', '3',\n",
              "       '5', '9', '1', '7', '6', '2', '8', '2', '2', '5', '0', '7', '4',\n",
              "       '9', '7', '8', '3', '2', '1', '1', '8', '3', '6', '1', '0', '3',\n",
              "       '1', '0', '0', '1', '7', '2', '7', '3', '0', '4', '6', '5', '2',\n",
              "       '6', '4', '7', '1', '8', '9', '9', '3', '0', '7', '1', '0', '2',\n",
              "       '0', '3', '5', '4', '6', '5', '8', '6', '3', '7', '5', '8', '0',\n",
              "       '9', '1', '0', '3', '1', '2', '2', '3', '3', '6', '4', '7', '5',\n",
              "       '0', '6', '2', '7', '9', '8', '5', '9', '2', '1', '1', '4', '4',\n",
              "       '5', '6', '4', '1', '2', '5', '3', '9', '3', '9', '0', '5', '9',\n",
              "       '6', '5', '7', '4', '1', '3', '4', '0', '4', '8', '0', '4', '3',\n",
              "       '6', '8', '7', '6', '0', '9', '7', '5', '7', '2', '1', '1', '6',\n",
              "       '8', '9', '4', '1', '5', '2', '2', '9', '0', '3', '9', '6', '7',\n",
              "       '2', '0', '3', '5', '4', '3', '6', '5', '8', '9', '5', '4', '7',\n",
              "       '4', '2', '7', '3', '4', '8', '9', '1', '9', '2', '8', '7', '9',\n",
              "       '1', '8', '7', '4', '1', '3', '1', '1', '0', '2', '3', '9', '4',\n",
              "       '9', '2', '1', '6', '8', '4', '7', '7', '4', '4', '9', '2', '5',\n",
              "       '7', '2', '4', '4', '2', '1', '9', '7', '2', '8', '7', '6', '9',\n",
              "       '2', '2', '3', '8', '1', '6', '5', '1', '1', '0', '2', '6', '4',\n",
              "       '5', '8', '3', '1', '5', '1', '9', '2', '7', '4', '4', '4', '8',\n",
              "       '1', '5', '8', '9', '5', '6', '7', '9', '9', '3', '7', '0', '9',\n",
              "       '0', '6', '6', '2', '3', '9', '0', '7', '5', '4', '8', '0', '9',\n",
              "       '4', '1', '2', '8', '7', '1', '2', '6', '1', '0', '3', '0', '1',\n",
              "       '1', '8', '2', '0', '3', '9', '4', '0', '5', '0', '6', '1', '7',\n",
              "       '7', '8', '1', '9', '2', '0', '5', '1', '2', '2', '7', '3', '5',\n",
              "       '4', '9', '7', '1', '8', '3', '9', '6', '0', '3', '1', '1', '2',\n",
              "       '6', '3', '5', '7', '6', '8', '3', '9', '5', '8', '5', '7', '6',\n",
              "       '1', '1', '3', '1', '7', '5', '5', '5', '2', '5', '8', '7', '0',\n",
              "       '9', '7', '7', '5', '0', '9', '0', '0', '8', '9', '2', '4', '8',\n",
              "       '1', '6', '1', '6', '5', '1', '8', '3', '4', '0', '5', '5', '8',\n",
              "       '3', '6', '2', '3', '9', '2', '1', '1', '5', '2', '1', '3', '2',\n",
              "       '8', '7', '3', '7', '2', '4', '6', '9', '7', '2', '4', '2', '8',\n",
              "       '1', '1', '3', '8', '4', '0', '6', '5', '9', '3', '0', '9', '2',\n",
              "       '4', '7', '1', '2', '9', '4', '2', '6', '1', '8', '9', '0', '6',\n",
              "       '6', '7', '9', '9', '8', '0', '1', '4', '4', '6', '7', '1', '5',\n",
              "       '7', '0', '3', '5', '8', '4', '7', '1', '2', '5', '9', '5', '6',\n",
              "       '7', '5', '9', '8', '8', '3', '6', '9', '7', '0', '7', '5', '7',\n",
              "       '1', '1', '0', '7', '9', '2', '3', '7', '3', '2', '4', '1', '6',\n",
              "       '2', '7', '5', '5', '7', '4', '0', '2', '6', '3', '6', '4', '0',\n",
              "       '4', '2', '6', '0', '0', '0', '0', '3', '1', '6', '2', '2', '3',\n",
              "       '1', '4', '1', '5', '4', '6', '4', '7', '2', '8', '7', '9', '2',\n",
              "       '0', '5', '1', '4', '2', '8', '3', '2', '4', '1', '5', '4', '6',\n",
              "       '0', '7', '9', '8', '4', '9', '8', '0', '1', '1', '0', '2', '2',\n",
              "       '3', '2', '4', '4', '5', '8', '6', '5', '7', '7', '8', '8', '9',\n",
              "       '7', '4', '7', '3', '2', '0', '8', '6', '8', '6', '1', '6', '8',\n",
              "       '9', '4', '0', '9', '0', '4', '1', '5', '4', '7', '5', '3', '7',\n",
              "       '4', '9', '8', '5', '8', '6', '3', '8', '6', '9', '9', '1', '8',\n",
              "       '3', '5', '8', '6', '5', '9', '7', '2', '5', '0', '8', '5', '1',\n",
              "       '1', '0', '9', '1', '8', '6', '7', '0', '9', '3', '0', '8', '8',\n",
              "       '9', '6', '7', '8', '4', '7', '5', '9', '2', '6', '7', '4', '5',\n",
              "       '9', '2', '3', '1', '6', '3', '9', '2', '2', '5', '6', '8', '0',\n",
              "       '7', '7', '1', '9', '8', '7', '0', '9', '9', '4', '6', '2', '8',\n",
              "       '5', '1', '4', '1', '5', '5', '1', '7', '3', '6', '4', '3', '2',\n",
              "       '5', '6', '4', '4', '0', '4', '4', '6', '7', '2', '4', '3', '3',\n",
              "       '8', '0', '0', '3', '2', '2', '9', '8', '2', '3', '7', '0', '1',\n",
              "       '1', '0', '2', '3', '3', '8', '4', '3', '5', '7', '6', '4', '7',\n",
              "       '7', '8', '5', '9', '7', '0', '3', '1', '6', '2', '4', '3', '4',\n",
              "       '4', '7', '5', '9', '6', '9', '0', '7', '1', '4', '2', '7', '3',\n",
              "       '6', '7', '5', '8', '4', '5', '5', '2', '7', '1', '1', '5', '6',\n",
              "       '8', '5', '8', '4', '0', '7', '9', '9', '2', '9', '7', '7', '8',\n",
              "       '7', '4', '2', '6', '9', '1', '7', '0', '6', '4', '2', '5', '7',\n",
              "       '0', '7', '1', '0', '3', '7', '6', '5', '0', '6', '1', '5', '1',\n",
              "       '7', '8', '5', '0', '3', '4', '7', '7', '5', '7', '8', '6', '9',\n",
              "       '3', '8', '6', '1', '0', '9', '7', '1', '3', '0', '5', '6', '4',\n",
              "       '4', '2', '4', '4', '3', '1', '7', '7', '6', '0', '3', '6'],\n",
              "      dtype=object)"
            ]
          },
          "metadata": {
            "tags": []
          },
          "execution_count": 5
        }
      ]
    },
    {
      "cell_type": "code",
      "metadata": {
        "id": "k5nIAyn1wS8r"
      },
      "source": [
        "X = X.reshape(X.shape[0], 28, 28, 1)\n",
        "# Normalize\n",
        "X = X / 255\n",
        "# number of unique classes\n",
        "num_classes = len(np.unique(y))\n",
        "y = y.astype(int)\n",
        "\n",
        "X_train, X_test, y_train, y_test = train_test_split(X, y, test_size=.2, random_state=1)\n",
        "\n",
        "num_tot = y.shape[0]\n",
        "num_train = y_train.shape[0]\n",
        "num_test = y_test.shape[0]\n",
        "\n",
        "y_oh = np.zeros((num_tot, num_classes))\n",
        "y_oh[range(num_tot), y] = 1\n",
        "\n",
        "y_oh_train = np.zeros((num_train, num_classes))\n",
        "y_oh_train[range(num_train), y_train] = 1\n",
        "\n",
        "y_oh_test = np.zeros((num_test, num_classes))\n",
        "y_oh_test[range(num_test), y_test] = 1"
      ],
      "execution_count": null,
      "outputs": []
    },
    {
      "cell_type": "code",
      "metadata": {
        "colab": {
          "base_uri": "https://localhost:8080/"
        },
        "id": "ebsgMZ3pwS8r",
        "outputId": "737ebcd0-dfe3-477d-df46-dcc425da9f05"
      },
      "source": [
        "y_oh"
      ],
      "execution_count": null,
      "outputs": [
        {
          "output_type": "execute_result",
          "data": {
            "text/plain": [
              "array([[0., 0., 0., ..., 0., 0., 0.],\n",
              "       [1., 0., 0., ..., 0., 0., 0.],\n",
              "       [0., 0., 0., ..., 0., 0., 0.],\n",
              "       ...,\n",
              "       [1., 0., 0., ..., 0., 0., 0.],\n",
              "       [0., 0., 0., ..., 0., 0., 0.],\n",
              "       [0., 0., 0., ..., 0., 0., 0.]])"
            ]
          },
          "metadata": {
            "tags": []
          },
          "execution_count": 6
        }
      ]
    },
    {
      "cell_type": "code",
      "metadata": {
        "colab": {
          "base_uri": "https://localhost:8080/"
        },
        "id": "1tWirPT_0wWZ",
        "outputId": "c9052345-c5f1-408f-cea1-71e0b1735ddf"
      },
      "source": [
        "X.shape"
      ],
      "execution_count": null,
      "outputs": [
        {
          "output_type": "execute_result",
          "data": {
            "text/plain": [
              "(1000, 28, 28, 1)"
            ]
          },
          "metadata": {
            "tags": []
          },
          "execution_count": 7
        }
      ]
    },
    {
      "cell_type": "markdown",
      "metadata": {
        "id": "nVKmNjFdwS8r"
      },
      "source": [
        "### Question 1\n",
        "**The data set**\n",
        "\n",
        "Plot a three examples from the data set."
      ]
    },
    {
      "cell_type": "markdown",
      "metadata": {
        "id": "Y5k23wb2wS8r"
      },
      "source": [
        "* What type of data are in the data set?\n",
        "\n",
        "    <span style=\"color:red\"> The data set stores 1000 examples of a 28x28 pixels image from number 0 to number 9 </span>\n",
        "    \n",
        "\n",
        "* What does the line ```X = X.reshape(X.shape[0], 28, 28, 1)``` do?\n",
        "\n",
        "    <span style=\"color:red\">  X.reshape(X.shape[0], 28, 28, 1) Reshape X from 1000rows x 784columns to 1000 rows of (28x28 matrix)</span>\n"
      ]
    },
    {
      "cell_type": "markdown",
      "metadata": {
        "id": "jAkcBN53wS8r"
      },
      "source": [
        "\n",
        "Look at how the encoding of the targets (i.e. ```y```) is changed. E.g. the lines\n",
        "```\n",
        "    y_oh = np.zeros((num_tot, num_classes))\n",
        "    y_oh[range(num_tot), y] = 1\n",
        "```\n",
        "Print out a few rows of ```y``` next to ```y_oh```."
      ]
    },
    {
      "cell_type": "code",
      "metadata": {
        "colab": {
          "base_uri": "https://localhost:8080/"
        },
        "id": "yWPKsIOXwS8r",
        "outputId": "f8c8a0ad-4267-4d94-dd80-59ae407ae770"
      },
      "source": [
        "for i in range(20):\n",
        "    print(\"y: \", y[i], \"      y_oh: \", y_oh[i])"
      ],
      "execution_count": null,
      "outputs": [
        {
          "output_type": "stream",
          "text": [
            "y:  5       y_oh:  [0. 0. 0. 0. 0. 1. 0. 0. 0. 0.]\n",
            "y:  0       y_oh:  [1. 0. 0. 0. 0. 0. 0. 0. 0. 0.]\n",
            "y:  4       y_oh:  [0. 0. 0. 0. 1. 0. 0. 0. 0. 0.]\n",
            "y:  1       y_oh:  [0. 1. 0. 0. 0. 0. 0. 0. 0. 0.]\n",
            "y:  9       y_oh:  [0. 0. 0. 0. 0. 0. 0. 0. 0. 1.]\n",
            "y:  2       y_oh:  [0. 0. 1. 0. 0. 0. 0. 0. 0. 0.]\n",
            "y:  1       y_oh:  [0. 1. 0. 0. 0. 0. 0. 0. 0. 0.]\n",
            "y:  3       y_oh:  [0. 0. 0. 1. 0. 0. 0. 0. 0. 0.]\n",
            "y:  1       y_oh:  [0. 1. 0. 0. 0. 0. 0. 0. 0. 0.]\n",
            "y:  4       y_oh:  [0. 0. 0. 0. 1. 0. 0. 0. 0. 0.]\n",
            "y:  3       y_oh:  [0. 0. 0. 1. 0. 0. 0. 0. 0. 0.]\n",
            "y:  5       y_oh:  [0. 0. 0. 0. 0. 1. 0. 0. 0. 0.]\n",
            "y:  3       y_oh:  [0. 0. 0. 1. 0. 0. 0. 0. 0. 0.]\n",
            "y:  6       y_oh:  [0. 0. 0. 0. 0. 0. 1. 0. 0. 0.]\n",
            "y:  1       y_oh:  [0. 1. 0. 0. 0. 0. 0. 0. 0. 0.]\n",
            "y:  7       y_oh:  [0. 0. 0. 0. 0. 0. 0. 1. 0. 0.]\n",
            "y:  2       y_oh:  [0. 0. 1. 0. 0. 0. 0. 0. 0. 0.]\n",
            "y:  8       y_oh:  [0. 0. 0. 0. 0. 0. 0. 0. 1. 0.]\n",
            "y:  6       y_oh:  [0. 0. 0. 0. 0. 0. 1. 0. 0. 0.]\n",
            "y:  9       y_oh:  [0. 0. 0. 0. 0. 0. 0. 0. 0. 1.]\n"
          ],
          "name": "stdout"
        }
      ]
    },
    {
      "cell_type": "markdown",
      "metadata": {
        "id": "WXbG_YrRwS8r"
      },
      "source": [
        "\n",
        "* What is the relationship between ```y``` and ```y_oh```?\n",
        "\n",
        "    <span style=\"color:red\"> y_oh is the representation array of y, its length equal to the classes of y , and filled with zeros.  We can see the '1''s index of y_oh equals to the y value.</span>\n",
        "    \n",
        "    \n",
        "* What is the type of encoding in ```y_oh``` called and why is it used?\n",
        "\n",
        "    <span style=\"color:red\"> One Hot Encoding.  One hot encoding allows us to convert categorical data to be more expressive numbers since some machine learning algorithms cannot work with categorical data directly. When we are working with categorical data ,we can encoded by one hot encoding so we can analyze categorical crossentropy loss. </span>\n",
        "    \n",
        "    \n",
        "* Plot three data examples in the same figure and set the correct label as title. \n",
        "    * It should be possible to see what the data represent."
      ]
    },
    {
      "cell_type": "code",
      "metadata": {
        "colab": {
          "base_uri": "https://localhost:8080/",
          "height": 162
        },
        "id": "W0CSSOJ8wS8r",
        "outputId": "c1ca933c-230c-4a4a-c297-c2bbf95587ad"
      },
      "source": [
        "for i in range(0,3):\n",
        "    img = X[i].reshape((28,28))\n",
        "    plt.subplot(131+i)\n",
        "    plt.imshow(img, cmap=\"Greys\")\n",
        "    plt.title(y[i])\n",
        "plt.show()"
      ],
      "execution_count": null,
      "outputs": [
        {
          "output_type": "display_data",
          "data": {
            "image/png": "[encoded data removed]",
            "text/plain": [
              "<Figure size 432x288 with 3 Axes>"
            ]
          },
          "metadata": {
            "tags": [],
            "needs_background": "light"
          }
        }
      ]
    },
    {
      "cell_type": "markdown",
      "metadata": {
        "id": "ffXqz157wS8r"
      },
      "source": [
        "### Question 2\n",
        "**The model**\n",
        "\n",
        "Below is some code for bulding and training a model with Keras.\n",
        "* What type of network is implemented below? I.e. a normal MLP, RNN, CNN, Logistic Regression...?\n",
        "\n",
        "    <span style=\"color:red\"> CNN </span>\n",
        "    \n",
        "    \n",
        "* What does ```Dropout()``` do?\n",
        "\n",
        "    <span style=\"color:red\">  Dropout Layer randomly sets input units to 0 with a frequency of rate at each step during training time to reduce overfitting </span>\n",
        "\n",
        "\n",
        "* Which type of activation function is used for the hidden layers?\n",
        "\n",
        "    <span style=\"color:red\"> RELU </span>\n",
        "\n",
        "\n",
        "* Which type of activation function is used for the output layer?\n",
        "\n",
        "    <span style=\"color:red\"> Softmax </span>\n",
        "\n",
        "\n",
        "* Why are two different activation functions used?\n",
        "\n",
        "    <span style=\"color:red\"> Hidenlayers have many neurons, RELU's simplicity can increase the speed. For output layer,we can not use RELU here which will generate 0 or 1, since we need multiclass classification,we need Softmax function to generate probability distribution containing different probability values for different classes,  </span>\n",
        "\n",
        "\n",
        "* What optimizer is used in the model below?\n",
        "\n",
        "    <span style=\"color:red\"> SGD,Stochastic gradient descent Optimizer </span>\n",
        "\n",
        "\n",
        "* How often are the weights updated (i.e. after how many data examples)?\n",
        "\n",
        "    <span style=\"color:red\"> learning rate is 0.01 so weights are updated after 1% of data examples. in this case train data has 800 examples, so weight will be updated every 8 examples </span>\n",
        "\n",
        "\n",
        "* What loss function is used?\n",
        "\n",
        "    <span style=\"color:red\"> This case need a Multi-Class Classification Loss Function, here it used Categorical Cross-Entropy as loss function which can  compute how bad the model performs.</span>\n",
        "\n",
        "\n",
        "* How many parameters (i.e. weights and biases, NOT hyper-parameters) does the model have?\n",
        "    <span style=\"color:red\"> Conv2d_1:16 * 3 * 3+16=160 Conv2d_2:16 * 32 * 3 * 3+32 =4640 Dense_1= 5 * 5 * 32 * 128 +128=102528 Dens2= 128 * 10 +10 =1290\n",
        "Other layers:0  Total:108618</span>\n"
      ]
    },
    {
      "cell_type": "code",
      "metadata": {
        "scrolled": true,
        "colab": {
          "base_uri": "https://localhost:8080/"
        },
        "id": "DhMFk-jYwS8r",
        "outputId": "6c83e150-2bc8-416d-c8b6-461277633634"
      },
      "source": [
        "from tensorflow.keras.models import Sequential\n",
        "from tensorflow.keras.layers import Dense, Dropout, Flatten\n",
        "from tensorflow.keras.layers import Conv2D, MaxPooling2D\n",
        "from tensorflow.keras.optimizers import SGD\n",
        "\n",
        "\n",
        "model = Sequential()\n",
        "\n",
        "model.add(Conv2D(16, (3, 3), activation='relu', input_shape=(28, 28, 1)))\n",
        "# Max pooling\n",
        "model.add(MaxPooling2D(pool_size=(2, 2)))\n",
        "model.add(Dropout(0.))\n",
        "\n",
        "model.add(Conv2D(32, (3, 3), activation='relu'))\n",
        "# Max pooling\n",
        "model.add(MaxPooling2D(pool_size=(2, 2)))\n",
        "model.add(Flatten())\n",
        "\n",
        "model.add(Dense(128, activation='relu'))\n",
        "model.add(Dropout(0.))\n",
        "\n",
        "model.add(Dense(10, activation='softmax'))\n",
        "\n",
        "sgd = SGD(lr=0.01, decay=1e-6, momentum=0.9, nesterov=True)\n",
        "\n",
        "# Compile the model\n",
        "model.compile(loss='categorical_crossentropy', optimizer=sgd)\n",
        "\n",
        "# Train the model\n",
        "model.fit(X_train, y_oh_train, batch_size=32, epochs=60)\n",
        "\n",
        "# Evaluate performance\n",
        "test_loss = model.evaluate(X_test, y_oh_test, batch_size=32)\n",
        "\n",
        "predictions = model.predict(X_test, batch_size=32)\n",
        "predictions = np.argmax(predictions, axis=1) # change encoding again\n",
        "print('Accuracy:', (predictions == y_test).sum() / predictions.shape[0])"
      ],
      "execution_count": null,
      "outputs": [
        {
          "output_type": "stream",
          "text": [
            "Epoch 1/60\n",
            "25/25 [==============================] - 0s 19ms/step - loss: 2.1367\n",
            "Epoch 2/60\n",
            "25/25 [==============================] - 0s 19ms/step - loss: 1.0638\n",
            "Epoch 3/60\n",
            "25/25 [==============================] - 0s 20ms/step - loss: 0.5037\n",
            "Epoch 4/60\n",
            "25/25 [==============================] - 0s 19ms/step - loss: 0.3274\n",
            "Epoch 5/60\n",
            "25/25 [==============================] - 0s 19ms/step - loss: 0.2436\n",
            "Epoch 6/60\n",
            "25/25 [==============================] - 0s 19ms/step - loss: 0.1925\n",
            "Epoch 7/60\n",
            "25/25 [==============================] - 0s 19ms/step - loss: 0.1752\n",
            "Epoch 8/60\n",
            "25/25 [==============================] - 0s 19ms/step - loss: 0.1191\n",
            "Epoch 9/60\n",
            "25/25 [==============================] - 0s 19ms/step - loss: 0.0964\n",
            "Epoch 10/60\n",
            "25/25 [==============================] - 0s 19ms/step - loss: 0.0674\n",
            "Epoch 11/60\n",
            "25/25 [==============================] - 0s 19ms/step - loss: 0.0534\n",
            "Epoch 12/60\n",
            "25/25 [==============================] - 0s 19ms/step - loss: 0.0434\n",
            "Epoch 13/60\n",
            "25/25 [==============================] - 0s 19ms/step - loss: 0.0304\n",
            "Epoch 14/60\n",
            "25/25 [==============================] - 0s 19ms/step - loss: 0.0210\n",
            "Epoch 15/60\n",
            "25/25 [==============================] - 0s 20ms/step - loss: 0.0152\n",
            "Epoch 16/60\n",
            "25/25 [==============================] - 0s 19ms/step - loss: 0.0193\n",
            "Epoch 17/60\n",
            "25/25 [==============================] - 0s 19ms/step - loss: 0.0113\n",
            "Epoch 18/60\n",
            "25/25 [==============================] - 0s 19ms/step - loss: 0.0076\n",
            "Epoch 19/60\n",
            "25/25 [==============================] - 0s 19ms/step - loss: 0.0066\n",
            "Epoch 20/60\n",
            "25/25 [==============================] - 0s 19ms/step - loss: 0.0044\n",
            "Epoch 21/60\n",
            "25/25 [==============================] - 0s 20ms/step - loss: 0.0039\n",
            "Epoch 22/60\n",
            "25/25 [==============================] - 0s 20ms/step - loss: 0.0031\n",
            "Epoch 23/60\n",
            "25/25 [==============================] - 0s 19ms/step - loss: 0.0030\n",
            "Epoch 24/60\n",
            "25/25 [==============================] - 0s 20ms/step - loss: 0.0026\n",
            "Epoch 25/60\n",
            "25/25 [==============================] - 0s 19ms/step - loss: 0.0023\n",
            "Epoch 26/60\n",
            "25/25 [==============================] - 0s 19ms/step - loss: 0.0022\n",
            "Epoch 27/60\n",
            "25/25 [==============================] - 0s 19ms/step - loss: 0.0020\n",
            "Epoch 28/60\n",
            "25/25 [==============================] - 0s 19ms/step - loss: 0.0019\n",
            "Epoch 29/60\n",
            "25/25 [==============================] - 0s 19ms/step - loss: 0.0017\n",
            "Epoch 30/60\n",
            "25/25 [==============================] - 0s 19ms/step - loss: 0.0016\n",
            "Epoch 31/60\n",
            "25/25 [==============================] - 0s 20ms/step - loss: 0.0015\n",
            "Epoch 32/60\n",
            "25/25 [==============================] - 0s 19ms/step - loss: 0.0015\n",
            "Epoch 33/60\n",
            "25/25 [==============================] - 0s 19ms/step - loss: 0.0014\n",
            "Epoch 34/60\n",
            "25/25 [==============================] - 0s 19ms/step - loss: 0.0013\n",
            "Epoch 35/60\n",
            "25/25 [==============================] - 0s 19ms/step - loss: 0.0012\n",
            "Epoch 36/60\n",
            "25/25 [==============================] - 0s 19ms/step - loss: 0.0012\n",
            "Epoch 37/60\n",
            "25/25 [==============================] - 0s 20ms/step - loss: 0.0011\n",
            "Epoch 38/60\n",
            "25/25 [==============================] - 0s 19ms/step - loss: 0.0011\n",
            "Epoch 39/60\n",
            "25/25 [==============================] - 0s 20ms/step - loss: 0.0010\n",
            "Epoch 40/60\n",
            "25/25 [==============================] - 0s 19ms/step - loss: 9.7721e-04\n",
            "Epoch 41/60\n",
            "25/25 [==============================] - 0s 19ms/step - loss: 9.7695e-04\n",
            "Epoch 42/60\n",
            "25/25 [==============================] - 0s 20ms/step - loss: 9.3003e-04\n",
            "Epoch 43/60\n",
            "25/25 [==============================] - 0s 20ms/step - loss: 8.7942e-04\n",
            "Epoch 44/60\n",
            "25/25 [==============================] - 0s 19ms/step - loss: 8.5037e-04\n",
            "Epoch 45/60\n",
            "25/25 [==============================] - 0s 19ms/step - loss: 8.1755e-04\n",
            "Epoch 46/60\n",
            "25/25 [==============================] - 0s 18ms/step - loss: 7.9134e-04\n",
            "Epoch 47/60\n",
            "25/25 [==============================] - 0s 19ms/step - loss: 7.8248e-04\n",
            "Epoch 48/60\n",
            "25/25 [==============================] - 0s 19ms/step - loss: 7.6190e-04\n",
            "Epoch 49/60\n",
            "25/25 [==============================] - 0s 19ms/step - loss: 7.2741e-04\n",
            "Epoch 50/60\n",
            "25/25 [==============================] - 0s 19ms/step - loss: 7.0065e-04\n",
            "Epoch 51/60\n",
            "25/25 [==============================] - 0s 20ms/step - loss: 6.8190e-04\n",
            "Epoch 52/60\n",
            "25/25 [==============================] - 0s 19ms/step - loss: 6.5684e-04\n",
            "Epoch 53/60\n",
            "25/25 [==============================] - 0s 19ms/step - loss: 6.3774e-04\n",
            "Epoch 54/60\n",
            "25/25 [==============================] - 0s 18ms/step - loss: 6.2655e-04\n",
            "Epoch 55/60\n",
            "25/25 [==============================] - 0s 20ms/step - loss: 6.1481e-04\n",
            "Epoch 56/60\n",
            "25/25 [==============================] - 0s 19ms/step - loss: 5.9605e-04\n",
            "Epoch 57/60\n",
            "25/25 [==============================] - 0s 20ms/step - loss: 5.7725e-04\n",
            "Epoch 58/60\n",
            "25/25 [==============================] - 1s 20ms/step - loss: 5.6648e-04\n",
            "Epoch 59/60\n",
            "25/25 [==============================] - 0s 19ms/step - loss: 5.4801e-04\n",
            "Epoch 60/60\n",
            "25/25 [==============================] - 0s 19ms/step - loss: 5.3758e-04\n",
            "7/7 [==============================] - 0s 6ms/step - loss: 0.4677\n",
            "Accuracy: 0.93\n"
          ],
          "name": "stdout"
        }
      ]
    },
    {
      "cell_type": "code",
      "metadata": {
        "colab": {
          "base_uri": "https://localhost:8080/"
        },
        "id": "Ey2G5gKQwS8s",
        "outputId": "44a90f4b-1ad8-4e6c-d5c4-e27875ab577b"
      },
      "source": [
        "print(model.summary())\n"
      ],
      "execution_count": null,
      "outputs": [
        {
          "output_type": "stream",
          "text": [
            "Model: \"sequential\"\n",
            "_________________________________________________________________\n",
            "Layer (type)                 Output Shape              Param #   \n",
            "=================================================================\n",
            "conv2d (Conv2D)              (None, 26, 26, 16)        160       \n",
            "_________________________________________________________________\n",
            "max_pooling2d (MaxPooling2D) (None, 13, 13, 16)        0         \n",
            "_________________________________________________________________\n",
            "dropout (Dropout)            (None, 13, 13, 16)        0         \n",
            "_________________________________________________________________\n",
            "conv2d_1 (Conv2D)            (None, 11, 11, 32)        4640      \n",
            "_________________________________________________________________\n",
            "max_pooling2d_1 (MaxPooling2 (None, 5, 5, 32)          0         \n",
            "_________________________________________________________________\n",
            "flatten (Flatten)            (None, 800)               0         \n",
            "_________________________________________________________________\n",
            "dense (Dense)                (None, 128)               102528    \n",
            "_________________________________________________________________\n",
            "dropout_1 (Dropout)          (None, 128)               0         \n",
            "_________________________________________________________________\n",
            "dense_1 (Dense)              (None, 10)                1290      \n",
            "=================================================================\n",
            "Total params: 108,618\n",
            "Trainable params: 108,618\n",
            "Non-trainable params: 0\n",
            "_________________________________________________________________\n",
            "None\n"
          ],
          "name": "stdout"
        }
      ]
    },
    {
      "cell_type": "markdown",
      "metadata": {
        "id": "3YCG1RbRwS8s"
      },
      "source": [
        "## Part 2 - train a model\n",
        "\n",
        "A model's performance depends on many factors apart from the model architecture (e.g. type and number of layers) and the dataset. Here you will get to explore some of the factors that affect model performance. Much of the skill in training deep learning models lies in quickly finding good values/options for these choises.\n",
        "\n",
        "In order to observe the learning process it is best to compare the training set loss with the loss on the test set. How to visualize these variables with Keras is described under [Training history visualization](https://keras.io/visualization/#training-history-visualization) in the documentation.\n",
        "\n",
        "You will explore the effect of 1) optimizer, 2) training duration, and 3) dropout (see the question above).\n",
        "\n",
        "When training, an **epoch** is one pass through the full training set.\n",
        "\n"
      ]
    },
    {
      "cell_type": "markdown",
      "metadata": {
        "id": "sjEY90jOwS8s"
      },
      "source": [
        "### Question 3\n",
        "\n",
        "* **Vizualize the training**. Use the model above to observe the training process. Train it for 150 epochs and then plot both \"loss\" and \"val_loss\" (i.e. loss on the valiadtion set, here the terms \"validation set\" and \"test set\" are used interchangably, but this is not always true). What is the optimal number of epochs for minimizing the test set loss? \n",
        "    * Remember to first reset the weights (```model.reset_states()```), otherwise the training just continues from where it was stopped earlier.\n"
      ]
    },
    {
      "cell_type": "code",
      "metadata": {
        "id": "annSvE6-wS8s"
      },
      "source": [
        "model.reset_states()"
      ],
      "execution_count": null,
      "outputs": []
    },
    {
      "cell_type": "code",
      "metadata": {
        "colab": {
          "base_uri": "https://localhost:8080/"
        },
        "id": "nufLEUadwS8s",
        "outputId": "2111276a-bfa9-40ca-fa43-973cbb458524"
      },
      "source": [
        "model = Sequential()\n",
        "\n",
        "model.add(Conv2D(16, (3, 3), activation='relu', input_shape=(28, 28, 1)))\n",
        "# Max pooling\n",
        "model.add(MaxPooling2D(pool_size=(2, 2)))\n",
        "model.add(Dropout(0.))\n",
        "\n",
        "model.add(Conv2D(32, (3, 3), activation='relu'))\n",
        "# Max pooling\n",
        "model.add(MaxPooling2D(pool_size=(2, 2)))\n",
        "model.add(Flatten())\n",
        "\n",
        "model.add(Dense(128, activation='relu'))\n",
        "model.add(Dropout(0.))\n",
        "\n",
        "model.add(Dense(10, activation='softmax'))\n",
        "\n",
        "sgd = SGD(lr=0.01, decay=1e-6, momentum=0.9, nesterov=True)\n",
        "\n",
        "# Compile the model\n",
        "model.compile(loss='categorical_crossentropy', optimizer=sgd)\n",
        "# Train the model\n",
        "\n",
        "history = model.fit(X_train, y_oh_train,validation_data=(X_test,y_oh_test),batch_size=32, epochs=150)\n",
        "\n",
        "# Evaluate performance\n",
        "\n",
        "predictions = model.predict(X_test, batch_size=32)\n",
        "predictions = np.argmax(predictions, axis=1) # change encoding again\n",
        "print('Accuracy:', (predictions == y_test).sum() / predictions.shape[0])"
      ],
      "execution_count": null,
      "outputs": [
        {
          "output_type": "stream",
          "text": [
            "Epoch 1/150\n",
            "25/25 [==============================] - 1s 26ms/step - loss: 2.1279 - val_loss: 1.7812\n",
            "Epoch 2/150\n",
            "25/25 [==============================] - 1s 21ms/step - loss: 1.0279 - val_loss: 0.7918\n",
            "Epoch 3/150\n",
            "25/25 [==============================] - 1s 21ms/step - loss: 0.5010 - val_loss: 0.4853\n",
            "Epoch 4/150\n",
            "25/25 [==============================] - 1s 21ms/step - loss: 0.3316 - val_loss: 0.3674\n",
            "Epoch 5/150\n",
            "25/25 [==============================] - 1s 21ms/step - loss: 0.2474 - val_loss: 0.4285\n",
            "Epoch 6/150\n",
            "25/25 [==============================] - 1s 21ms/step - loss: 0.2228 - val_loss: 0.3760\n",
            "Epoch 7/150\n",
            "25/25 [==============================] - 1s 21ms/step - loss: 0.1669 - val_loss: 0.3550\n",
            "Epoch 8/150\n",
            "25/25 [==============================] - 1s 21ms/step - loss: 0.1305 - val_loss: 0.3529\n",
            "Epoch 9/150\n",
            "25/25 [==============================] - 1s 21ms/step - loss: 0.1018 - val_loss: 0.3083\n",
            "Epoch 10/150\n",
            "25/25 [==============================] - 1s 21ms/step - loss: 0.0764 - val_loss: 0.3670\n",
            "Epoch 11/150\n",
            "25/25 [==============================] - 1s 21ms/step - loss: 0.0560 - val_loss: 0.3779\n",
            "Epoch 12/150\n",
            "25/25 [==============================] - 1s 21ms/step - loss: 0.0547 - val_loss: 0.3347\n",
            "Epoch 13/150\n",
            "25/25 [==============================] - 1s 21ms/step - loss: 0.0351 - val_loss: 0.3355\n",
            "Epoch 14/150\n",
            "25/25 [==============================] - 1s 21ms/step - loss: 0.0291 - val_loss: 0.3773\n",
            "Epoch 15/150\n",
            "25/25 [==============================] - 1s 22ms/step - loss: 0.0318 - val_loss: 0.3683\n",
            "Epoch 16/150\n",
            "25/25 [==============================] - 1s 21ms/step - loss: 0.0252 - val_loss: 0.3750\n",
            "Epoch 17/150\n",
            "25/25 [==============================] - 1s 21ms/step - loss: 0.0164 - val_loss: 0.3083\n",
            "Epoch 18/150\n",
            "25/25 [==============================] - 1s 21ms/step - loss: 0.0087 - val_loss: 0.3438\n",
            "Epoch 19/150\n",
            "25/25 [==============================] - 1s 21ms/step - loss: 0.0069 - val_loss: 0.3501\n",
            "Epoch 20/150\n",
            "25/25 [==============================] - 1s 21ms/step - loss: 0.0046 - val_loss: 0.3726\n",
            "Epoch 21/150\n",
            "25/25 [==============================] - 1s 21ms/step - loss: 0.0034 - val_loss: 0.3642\n",
            "Epoch 22/150\n",
            "25/25 [==============================] - 1s 21ms/step - loss: 0.0029 - val_loss: 0.3717\n",
            "Epoch 23/150\n",
            "25/25 [==============================] - 1s 21ms/step - loss: 0.0027 - val_loss: 0.3664\n",
            "Epoch 24/150\n",
            "25/25 [==============================] - 1s 21ms/step - loss: 0.0024 - val_loss: 0.3806\n",
            "Epoch 25/150\n",
            "25/25 [==============================] - 1s 21ms/step - loss: 0.0021 - val_loss: 0.3783\n",
            "Epoch 26/150\n",
            "25/25 [==============================] - 1s 22ms/step - loss: 0.0020 - val_loss: 0.3848\n",
            "Epoch 27/150\n",
            "25/25 [==============================] - 1s 21ms/step - loss: 0.0018 - val_loss: 0.3901\n",
            "Epoch 28/150\n",
            "25/25 [==============================] - 1s 21ms/step - loss: 0.0017 - val_loss: 0.3885\n",
            "Epoch 29/150\n",
            "25/25 [==============================] - 1s 21ms/step - loss: 0.0015 - val_loss: 0.3952\n",
            "Epoch 30/150\n",
            "25/25 [==============================] - 1s 21ms/step - loss: 0.0015 - val_loss: 0.3944\n",
            "Epoch 31/150\n",
            "25/25 [==============================] - 1s 22ms/step - loss: 0.0014 - val_loss: 0.3976\n",
            "Epoch 32/150\n",
            "25/25 [==============================] - 1s 21ms/step - loss: 0.0013 - val_loss: 0.4037\n",
            "Epoch 33/150\n",
            "25/25 [==============================] - 1s 21ms/step - loss: 0.0013 - val_loss: 0.4005\n",
            "Epoch 34/150\n",
            "25/25 [==============================] - 1s 22ms/step - loss: 0.0012 - val_loss: 0.4063\n",
            "Epoch 35/150\n",
            "25/25 [==============================] - 1s 22ms/step - loss: 0.0011 - val_loss: 0.4084\n",
            "Epoch 36/150\n",
            "25/25 [==============================] - 1s 21ms/step - loss: 0.0011 - val_loss: 0.4090\n",
            "Epoch 37/150\n",
            "25/25 [==============================] - 1s 21ms/step - loss: 0.0010 - val_loss: 0.4141\n",
            "Epoch 38/150\n",
            "25/25 [==============================] - 1s 21ms/step - loss: 9.8394e-04 - val_loss: 0.4146\n",
            "Epoch 39/150\n",
            "25/25 [==============================] - 1s 21ms/step - loss: 9.4719e-04 - val_loss: 0.4188\n",
            "Epoch 40/150\n",
            "25/25 [==============================] - 1s 21ms/step - loss: 8.9832e-04 - val_loss: 0.4164\n",
            "Epoch 41/150\n",
            "25/25 [==============================] - 1s 21ms/step - loss: 8.9335e-04 - val_loss: 0.4199\n",
            "Epoch 42/150\n",
            "25/25 [==============================] - 1s 21ms/step - loss: 8.5278e-04 - val_loss: 0.4209\n",
            "Epoch 43/150\n",
            "25/25 [==============================] - 1s 21ms/step - loss: 8.1470e-04 - val_loss: 0.4244\n",
            "Epoch 44/150\n",
            "25/25 [==============================] - 1s 21ms/step - loss: 7.9092e-04 - val_loss: 0.4255\n",
            "Epoch 45/150\n",
            "25/25 [==============================] - 1s 21ms/step - loss: 7.5969e-04 - val_loss: 0.4255\n",
            "Epoch 46/150\n",
            "25/25 [==============================] - 1s 21ms/step - loss: 7.3711e-04 - val_loss: 0.4287\n",
            "Epoch 47/150\n",
            "25/25 [==============================] - 1s 21ms/step - loss: 7.2477e-04 - val_loss: 0.4314\n",
            "Epoch 48/150\n",
            "25/25 [==============================] - 1s 21ms/step - loss: 7.0279e-04 - val_loss: 0.4321\n",
            "Epoch 49/150\n",
            "25/25 [==============================] - 1s 21ms/step - loss: 6.7879e-04 - val_loss: 0.4317\n",
            "Epoch 50/150\n",
            "25/25 [==============================] - 1s 22ms/step - loss: 6.5359e-04 - val_loss: 0.4357\n",
            "Epoch 51/150\n",
            "25/25 [==============================] - 1s 22ms/step - loss: 6.3789e-04 - val_loss: 0.4352\n",
            "Epoch 52/150\n",
            "25/25 [==============================] - 1s 22ms/step - loss: 6.1612e-04 - val_loss: 0.4361\n",
            "Epoch 53/150\n",
            "25/25 [==============================] - 1s 21ms/step - loss: 5.9916e-04 - val_loss: 0.4375\n",
            "Epoch 54/150\n",
            "25/25 [==============================] - 1s 22ms/step - loss: 5.8881e-04 - val_loss: 0.4402\n",
            "Epoch 55/150\n",
            "25/25 [==============================] - 1s 22ms/step - loss: 5.7114e-04 - val_loss: 0.4399\n",
            "Epoch 56/150\n",
            "25/25 [==============================] - 1s 21ms/step - loss: 5.5904e-04 - val_loss: 0.4431\n",
            "Epoch 57/150\n",
            "25/25 [==============================] - 1s 21ms/step - loss: 5.4304e-04 - val_loss: 0.4435\n",
            "Epoch 58/150\n",
            "25/25 [==============================] - 1s 21ms/step - loss: 5.3335e-04 - val_loss: 0.4439\n",
            "Epoch 59/150\n",
            "25/25 [==============================] - 1s 22ms/step - loss: 5.1724e-04 - val_loss: 0.4471\n",
            "Epoch 60/150\n",
            "25/25 [==============================] - 1s 22ms/step - loss: 5.0327e-04 - val_loss: 0.4460\n",
            "Epoch 61/150\n",
            "25/25 [==============================] - 1s 21ms/step - loss: 4.9439e-04 - val_loss: 0.4498\n",
            "Epoch 62/150\n",
            "25/25 [==============================] - 1s 22ms/step - loss: 4.8361e-04 - val_loss: 0.4499\n",
            "Epoch 63/150\n",
            "25/25 [==============================] - 1s 21ms/step - loss: 4.7269e-04 - val_loss: 0.4479\n",
            "Epoch 64/150\n",
            "25/25 [==============================] - 1s 21ms/step - loss: 4.6350e-04 - val_loss: 0.4511\n",
            "Epoch 65/150\n",
            "25/25 [==============================] - 1s 21ms/step - loss: 4.4910e-04 - val_loss: 0.4519\n",
            "Epoch 66/150\n",
            "25/25 [==============================] - 1s 21ms/step - loss: 4.4060e-04 - val_loss: 0.4527\n",
            "Epoch 67/150\n",
            "25/25 [==============================] - 1s 21ms/step - loss: 4.3957e-04 - val_loss: 0.4530\n",
            "Epoch 68/150\n",
            "25/25 [==============================] - 1s 21ms/step - loss: 4.2527e-04 - val_loss: 0.4557\n",
            "Epoch 69/150\n",
            "25/25 [==============================] - 1s 21ms/step - loss: 4.1727e-04 - val_loss: 0.4561\n",
            "Epoch 70/150\n",
            "25/25 [==============================] - 1s 22ms/step - loss: 4.1118e-04 - val_loss: 0.4568\n",
            "Epoch 71/150\n",
            "25/25 [==============================] - 1s 22ms/step - loss: 4.0188e-04 - val_loss: 0.4573\n",
            "Epoch 72/150\n",
            "25/25 [==============================] - 1s 21ms/step - loss: 3.9123e-04 - val_loss: 0.4587\n",
            "Epoch 73/150\n",
            "25/25 [==============================] - 1s 22ms/step - loss: 3.8796e-04 - val_loss: 0.4598\n",
            "Epoch 74/150\n",
            "25/25 [==============================] - 1s 21ms/step - loss: 3.8340e-04 - val_loss: 0.4619\n",
            "Epoch 75/150\n",
            "25/25 [==============================] - 1s 22ms/step - loss: 3.7160e-04 - val_loss: 0.4594\n",
            "Epoch 76/150\n",
            "25/25 [==============================] - 1s 21ms/step - loss: 3.6491e-04 - val_loss: 0.4613\n",
            "Epoch 77/150\n",
            "25/25 [==============================] - 1s 22ms/step - loss: 3.5960e-04 - val_loss: 0.4634\n",
            "Epoch 78/150\n",
            "25/25 [==============================] - 1s 21ms/step - loss: 3.5558e-04 - val_loss: 0.4646\n",
            "Epoch 79/150\n",
            "25/25 [==============================] - 1s 21ms/step - loss: 3.5112e-04 - val_loss: 0.4635\n",
            "Epoch 80/150\n",
            "25/25 [==============================] - 1s 21ms/step - loss: 3.4192e-04 - val_loss: 0.4652\n",
            "Epoch 81/150\n",
            "25/25 [==============================] - 1s 21ms/step - loss: 3.3595e-04 - val_loss: 0.4653\n",
            "Epoch 82/150\n",
            "25/25 [==============================] - 1s 22ms/step - loss: 3.3238e-04 - val_loss: 0.4663\n",
            "Epoch 83/150\n",
            "25/25 [==============================] - 1s 22ms/step - loss: 3.2644e-04 - val_loss: 0.4688\n",
            "Epoch 84/150\n",
            "25/25 [==============================] - 1s 21ms/step - loss: 3.2017e-04 - val_loss: 0.4676\n",
            "Epoch 85/150\n",
            "25/25 [==============================] - 1s 21ms/step - loss: 3.1370e-04 - val_loss: 0.4689\n",
            "Epoch 86/150\n",
            "25/25 [==============================] - 1s 22ms/step - loss: 3.1237e-04 - val_loss: 0.4697\n",
            "Epoch 87/150\n",
            "25/25 [==============================] - 1s 21ms/step - loss: 3.0669e-04 - val_loss: 0.4702\n",
            "Epoch 88/150\n",
            "25/25 [==============================] - 1s 22ms/step - loss: 3.0341e-04 - val_loss: 0.4702\n",
            "Epoch 89/150\n",
            "25/25 [==============================] - 1s 22ms/step - loss: 2.9670e-04 - val_loss: 0.4713\n",
            "Epoch 90/150\n",
            "25/25 [==============================] - 1s 21ms/step - loss: 2.9108e-04 - val_loss: 0.4726\n",
            "Epoch 91/150\n",
            "25/25 [==============================] - 1s 21ms/step - loss: 2.8843e-04 - val_loss: 0.4732\n",
            "Epoch 92/150\n",
            "25/25 [==============================] - 1s 21ms/step - loss: 2.8362e-04 - val_loss: 0.4733\n",
            "Epoch 93/150\n",
            "25/25 [==============================] - 1s 22ms/step - loss: 2.8068e-04 - val_loss: 0.4748\n",
            "Epoch 94/150\n",
            "25/25 [==============================] - 1s 22ms/step - loss: 2.7783e-04 - val_loss: 0.4748\n",
            "Epoch 95/150\n",
            "25/25 [==============================] - 1s 21ms/step - loss: 2.7287e-04 - val_loss: 0.4757\n",
            "Epoch 96/150\n",
            "25/25 [==============================] - 1s 21ms/step - loss: 2.6933e-04 - val_loss: 0.4775\n",
            "Epoch 97/150\n",
            "25/25 [==============================] - 1s 22ms/step - loss: 2.6555e-04 - val_loss: 0.4760\n",
            "Epoch 98/150\n",
            "25/25 [==============================] - 1s 21ms/step - loss: 2.6123e-04 - val_loss: 0.4780\n",
            "Epoch 99/150\n",
            "25/25 [==============================] - 1s 21ms/step - loss: 2.5845e-04 - val_loss: 0.4783\n",
            "Epoch 100/150\n",
            "25/25 [==============================] - 1s 21ms/step - loss: 2.5510e-04 - val_loss: 0.4796\n",
            "Epoch 101/150\n",
            "25/25 [==============================] - 1s 21ms/step - loss: 2.5026e-04 - val_loss: 0.4787\n",
            "Epoch 102/150\n",
            "25/25 [==============================] - 1s 21ms/step - loss: 2.4906e-04 - val_loss: 0.4800\n",
            "Epoch 103/150\n",
            "25/25 [==============================] - 1s 21ms/step - loss: 2.4647e-04 - val_loss: 0.4809\n",
            "Epoch 104/150\n",
            "25/25 [==============================] - 1s 22ms/step - loss: 2.4201e-04 - val_loss: 0.4814\n",
            "Epoch 105/150\n",
            "25/25 [==============================] - 1s 21ms/step - loss: 2.3826e-04 - val_loss: 0.4818\n",
            "Epoch 106/150\n",
            "25/25 [==============================] - 1s 21ms/step - loss: 2.3569e-04 - val_loss: 0.4838\n",
            "Epoch 107/150\n",
            "25/25 [==============================] - 1s 22ms/step - loss: 2.3359e-04 - val_loss: 0.4832\n",
            "Epoch 108/150\n",
            "25/25 [==============================] - 1s 21ms/step - loss: 2.3129e-04 - val_loss: 0.4833\n",
            "Epoch 109/150\n",
            "25/25 [==============================] - 1s 22ms/step - loss: 2.2718e-04 - val_loss: 0.4832\n",
            "Epoch 110/150\n",
            "25/25 [==============================] - 1s 21ms/step - loss: 2.2522e-04 - val_loss: 0.4857\n",
            "Epoch 111/150\n",
            "25/25 [==============================] - 1s 21ms/step - loss: 2.2289e-04 - val_loss: 0.4848\n",
            "Epoch 112/150\n",
            "25/25 [==============================] - 1s 22ms/step - loss: 2.1888e-04 - val_loss: 0.4859\n",
            "Epoch 113/150\n",
            "25/25 [==============================] - 1s 22ms/step - loss: 2.1808e-04 - val_loss: 0.4865\n",
            "Epoch 114/150\n",
            "25/25 [==============================] - 1s 21ms/step - loss: 2.1519e-04 - val_loss: 0.4869\n",
            "Epoch 115/150\n",
            "25/25 [==============================] - 1s 21ms/step - loss: 2.1292e-04 - val_loss: 0.4874\n",
            "Epoch 116/150\n",
            "25/25 [==============================] - 1s 21ms/step - loss: 2.0931e-04 - val_loss: 0.4880\n",
            "Epoch 117/150\n",
            "25/25 [==============================] - 1s 22ms/step - loss: 2.0740e-04 - val_loss: 0.4886\n",
            "Epoch 118/150\n",
            "25/25 [==============================] - 1s 22ms/step - loss: 2.0678e-04 - val_loss: 0.4891\n",
            "Epoch 119/150\n",
            "25/25 [==============================] - 1s 21ms/step - loss: 2.0351e-04 - val_loss: 0.4897\n",
            "Epoch 120/150\n",
            "25/25 [==============================] - 1s 21ms/step - loss: 2.0157e-04 - val_loss: 0.4898\n",
            "Epoch 121/150\n",
            "25/25 [==============================] - 1s 22ms/step - loss: 1.9880e-04 - val_loss: 0.4907\n",
            "Epoch 122/150\n",
            "25/25 [==============================] - 1s 22ms/step - loss: 1.9686e-04 - val_loss: 0.4913\n",
            "Epoch 123/150\n",
            "25/25 [==============================] - 1s 21ms/step - loss: 1.9480e-04 - val_loss: 0.4904\n",
            "Epoch 124/150\n",
            "25/25 [==============================] - 1s 21ms/step - loss: 1.9373e-04 - val_loss: 0.4924\n",
            "Epoch 125/150\n",
            "25/25 [==============================] - 1s 22ms/step - loss: 1.9106e-04 - val_loss: 0.4934\n",
            "Epoch 126/150\n",
            "25/25 [==============================] - 1s 21ms/step - loss: 1.8874e-04 - val_loss: 0.4930\n",
            "Epoch 127/150\n",
            "25/25 [==============================] - 1s 21ms/step - loss: 1.8716e-04 - val_loss: 0.4927\n",
            "Epoch 128/150\n",
            "25/25 [==============================] - 1s 21ms/step - loss: 1.8544e-04 - val_loss: 0.4932\n",
            "Epoch 129/150\n",
            "25/25 [==============================] - 1s 21ms/step - loss: 1.8286e-04 - val_loss: 0.4940\n",
            "Epoch 130/150\n",
            "25/25 [==============================] - 1s 22ms/step - loss: 1.8126e-04 - val_loss: 0.4943\n",
            "Epoch 131/150\n",
            "25/25 [==============================] - 1s 21ms/step - loss: 1.7996e-04 - val_loss: 0.4955\n",
            "Epoch 132/150\n",
            "25/25 [==============================] - 1s 21ms/step - loss: 1.7888e-04 - val_loss: 0.4957\n",
            "Epoch 133/150\n",
            "25/25 [==============================] - 1s 22ms/step - loss: 1.7622e-04 - val_loss: 0.4966\n",
            "Epoch 134/150\n",
            "25/25 [==============================] - 1s 22ms/step - loss: 1.7446e-04 - val_loss: 0.4958\n",
            "Epoch 135/150\n",
            "25/25 [==============================] - 1s 21ms/step - loss: 1.7385e-04 - val_loss: 0.4970\n",
            "Epoch 136/150\n",
            "25/25 [==============================] - 1s 21ms/step - loss: 1.7222e-04 - val_loss: 0.4971\n",
            "Epoch 137/150\n",
            "25/25 [==============================] - 1s 21ms/step - loss: 1.7002e-04 - val_loss: 0.4977\n",
            "Epoch 138/150\n",
            "25/25 [==============================] - 1s 22ms/step - loss: 1.6828e-04 - val_loss: 0.4981\n",
            "Epoch 139/150\n",
            "25/25 [==============================] - 1s 21ms/step - loss: 1.6710e-04 - val_loss: 0.4986\n",
            "Epoch 140/150\n",
            "25/25 [==============================] - 1s 22ms/step - loss: 1.6549e-04 - val_loss: 0.4990\n",
            "Epoch 141/150\n",
            "25/25 [==============================] - 1s 21ms/step - loss: 1.6404e-04 - val_loss: 0.5002\n",
            "Epoch 142/150\n",
            "25/25 [==============================] - 1s 21ms/step - loss: 1.6275e-04 - val_loss: 0.5005\n",
            "Epoch 143/150\n",
            "25/25 [==============================] - 1s 22ms/step - loss: 1.6082e-04 - val_loss: 0.5006\n",
            "Epoch 144/150\n",
            "25/25 [==============================] - 1s 22ms/step - loss: 1.5958e-04 - val_loss: 0.5010\n",
            "Epoch 145/150\n",
            "25/25 [==============================] - 1s 21ms/step - loss: 1.5839e-04 - val_loss: 0.5019\n",
            "Epoch 146/150\n",
            "25/25 [==============================] - 1s 21ms/step - loss: 1.5692e-04 - val_loss: 0.5011\n",
            "Epoch 147/150\n",
            "25/25 [==============================] - 1s 21ms/step - loss: 1.5575e-04 - val_loss: 0.5015\n",
            "Epoch 148/150\n",
            "25/25 [==============================] - 1s 21ms/step - loss: 1.5417e-04 - val_loss: 0.5033\n",
            "Epoch 149/150\n",
            "25/25 [==============================] - 1s 22ms/step - loss: 1.5296e-04 - val_loss: 0.5026\n",
            "Epoch 150/150\n",
            "25/25 [==============================] - 1s 21ms/step - loss: 1.5159e-04 - val_loss: 0.5038\n",
            "Accuracy: 0.925\n"
          ],
          "name": "stdout"
        }
      ]
    },
    {
      "cell_type": "code",
      "metadata": {
        "colab": {
          "base_uri": "https://localhost:8080/",
          "height": 279
        },
        "id": "uqpp-Gz9wS8s",
        "outputId": "0f8bfdfa-3a1d-43d8-80f1-ad59c4bc1fa3"
      },
      "source": [
        "# Visualize loss history\n",
        "training_loss = history.history['loss']\n",
        "test_loss = history.history['val_loss']\n",
        "epoch_count = range(1, len(training_loss) + 1)\n",
        "plt.plot(epoch_count, training_loss, 'r--')\n",
        "plt.plot(epoch_count, test_loss, 'b-')\n",
        "plt.legend(['Training Loss', 'Test Loss'])\n",
        "plt.xlabel('Epoch')\n",
        "plt.ylabel('Loss')\n",
        "plt.show()"
      ],
      "execution_count": null,
      "outputs": [
        {
          "output_type": "display_data",
          "data": {
            "image/png": "[encoded data removed]",
            "text/plain": [
              "<Figure size 432x288 with 1 Axes>"
            ]
          },
          "metadata": {
            "tags": [],
            "needs_background": "light"
          }
        }
      ]
    },
    {
      "cell_type": "code",
      "metadata": {
        "colab": {
          "base_uri": "https://localhost:8080/"
        },
        "id": "PJ7qht9hwS8s",
        "outputId": "e5135615-8da2-4b4b-e085-9c43d7b888b1"
      },
      "source": [
        "Optimal_Number = test_loss.index(min(test_loss)) + 1\n",
        "print(Optimal_Number)\n",
        "print(min(test_loss))"
      ],
      "execution_count": null,
      "outputs": [
        {
          "output_type": "stream",
          "text": [
            "17\n",
            "0.3082735240459442\n"
          ],
          "name": "stdout"
        }
      ]
    },
    {
      "cell_type": "markdown",
      "metadata": {
        "id": "SiitnXPEwS8s"
      },
      "source": [
        "## What is the optimal number of epochs for minimizing the test set loss? \n",
        "<span style=\"color:red\">Answer: As we can see from above, the optimal number of epochs for minimizing the test set loss is 17 (0.3082735240459442)</span>"
      ]
    },
    {
      "cell_type": "markdown",
      "metadata": {
        "id": "KqPBs4-2wS8s"
      },
      "source": [
        "* **Optimizer**. Select three different optimizers and for each find the close-to-optimal hyper-parameter(s). In your answer, include a) your three choises, b) best hyper-parameters for each of the three optimizers and, c) the code that produced the results.\n",
        "* *NOTE* that how long the training takes varies with optimizer. I.e., make sure that the model is trained for long enough to reach optimal performance.\n",
        "* Answer a)\n",
        "* <span style=\"color:red\"> I select 1)ADAdelta 2)RMSprop 3)Adam </span>"
      ]
    },
    {
      "cell_type": "markdown",
      "metadata": {
        "id": "7V6wu5_8dmso"
      },
      "source": [
        "**1 Adadelta Optimizer**"
      ]
    },
    {
      "cell_type": "code",
      "metadata": {
        "colab": {
          "base_uri": "https://localhost:8080/"
        },
        "id": "p_zJeByvwS8s",
        "outputId": "83d2fb84-bb7b-4228-c048-ea13beb9ab67"
      },
      "source": [
        "from tensorflow.keras.optimizers import Adadelta\n",
        "from tensorflow.keras.optimizers import RMSprop\n",
        "from tensorflow.keras.optimizers import Adam\n",
        "from keras.wrappers.scikit_learn import KerasClassifier\n",
        "\n",
        "from sklearn.model_selection import GridSearchCV\n",
        "\n",
        "def create_model(learning_rate=0.001,rho=0.95,epsilon=1e-6):\n",
        "    model = Sequential()\n",
        "\n",
        "    model.add(Conv2D(16, (3, 3), activation='relu', input_shape=(28, 28, 1)))\n",
        "    # Max pooling\n",
        "    model.add(MaxPooling2D(pool_size=(2, 2)))\n",
        "    model.add(Dropout(0.))\n",
        "\n",
        "    model.add(Conv2D(32, (3, 3), activation='relu'))\n",
        "    # Max pooling\n",
        "    model.add(MaxPooling2D(pool_size=(2, 2)))\n",
        "    model.add(Flatten())\n",
        "\n",
        "    model.add(Dense(128, activation='relu'))\n",
        "    model.add(Dropout(0.))\n",
        "\n",
        "    model.add(Dense(10, activation='softmax'))\n",
        "    optimizer = Adadelta(learning_rate==learning_rate, rho=rho, epsilon=epsilon)\n",
        "    # Compile the model\n",
        "    model.compile(loss='categorical_crossentropy',optimizer=optimizer,metrics=['accuracy'])\n",
        "    return model\n",
        "learning_rate=[0.001,0.01,0.1]\n",
        "rho=[0.95,0.9,0.85]\n",
        "epsilon = [1e-6,1e-7]\n",
        "param_grid = dict(learning_rate=learning_rate,rho=rho,epsilon=epsilon) \n",
        "\n",
        "# Train the model\n",
        "\n",
        "model = KerasClassifier(build_fn=create_model, epochs=150, batch_size=32,verbose=0)\n",
        "grid = GridSearchCV(estimator=model, param_grid=param_grid, n_jobs=-1, cv=3)\n",
        "grid_result = grid.fit(X_train, y_oh_train)\n",
        "print(\"Best: %f using %s\" % (grid_result.best_score_, grid_result.best_params_))\n",
        "means = grid_result.cv_results_['mean_test_score']\n",
        "stds = grid_result.cv_results_['std_test_score']\n",
        "params = grid_result.cv_results_['params']\n",
        "for mean, stdev, param in zip(means, stds, params):\n",
        "    print(\"%f (%f) with: %r\" % (mean, stdev, param))"
      ],
      "execution_count": null,
      "outputs": [
        {
          "output_type": "stream",
          "text": [
            "Best: 0.934992 using {'epsilon': 1e-06, 'learning_rate': 0.1, 'rho': 0.95}\n",
            "0.926229 (0.013922) with: {'epsilon': 1e-06, 'learning_rate': 0.001, 'rho': 0.95}\n",
            "0.921240 (0.010671) with: {'epsilon': 1e-06, 'learning_rate': 0.001, 'rho': 0.9}\n",
            "0.917486 (0.015974) with: {'epsilon': 1e-06, 'learning_rate': 0.001, 'rho': 0.85}\n",
            "0.925000 (0.015291) with: {'epsilon': 1e-06, 'learning_rate': 0.01, 'rho': 0.95}\n",
            "0.928736 (0.015964) with: {'epsilon': 1e-06, 'learning_rate': 0.01, 'rho': 0.9}\n",
            "0.926229 (0.012507) with: {'epsilon': 1e-06, 'learning_rate': 0.01, 'rho': 0.85}\n",
            "0.934992 (0.006454) with: {'epsilon': 1e-06, 'learning_rate': 0.1, 'rho': 0.95}\n",
            "0.929975 (0.018806) with: {'epsilon': 1e-06, 'learning_rate': 0.1, 'rho': 0.9}\n",
            "0.921245 (0.008140) with: {'epsilon': 1e-06, 'learning_rate': 0.1, 'rho': 0.85}\n",
            "0.913731 (0.014150) with: {'epsilon': 1e-07, 'learning_rate': 0.001, 'rho': 0.95}\n",
            "0.912473 (0.020504) with: {'epsilon': 1e-07, 'learning_rate': 0.001, 'rho': 0.9}\n",
            "0.916233 (0.019508) with: {'epsilon': 1e-07, 'learning_rate': 0.001, 'rho': 0.85}\n",
            "0.921231 (0.014140) with: {'epsilon': 1e-07, 'learning_rate': 0.01, 'rho': 0.95}\n",
            "0.922494 (0.012773) with: {'epsilon': 1e-07, 'learning_rate': 0.01, 'rho': 0.9}\n",
            "0.909995 (0.023107) with: {'epsilon': 1e-07, 'learning_rate': 0.01, 'rho': 0.85}\n",
            "0.923742 (0.008902) with: {'epsilon': 1e-07, 'learning_rate': 0.1, 'rho': 0.95}\n",
            "0.913736 (0.018676) with: {'epsilon': 1e-07, 'learning_rate': 0.1, 'rho': 0.9}\n",
            "0.914998 (0.013800) with: {'epsilon': 1e-07, 'learning_rate': 0.1, 'rho': 0.85}\n"
          ],
          "name": "stdout"
        }
      ]
    },
    {
      "cell_type": "markdown",
      "metadata": {
        "id": "cK-T5u_GdtDR"
      },
      "source": [
        "**2 RMSprop Optimizer**"
      ]
    },
    {
      "cell_type": "code",
      "metadata": {
        "colab": {
          "base_uri": "https://localhost:8080/"
        },
        "id": "yfxsHY8_7GV3",
        "outputId": "f581e723-4e03-4d5b-e340-c2bdecce1fe8"
      },
      "source": [
        "def create_model(learning_rate=0.001,rho=0.95,epsilon=1e-6,momentum=0.0):\n",
        "    model = Sequential()\n",
        "\n",
        "    model.add(Conv2D(16, (3, 3), activation='relu', input_shape=(28, 28, 1)))\n",
        "    # Max pooling\n",
        "    model.add(MaxPooling2D(pool_size=(2, 2)))\n",
        "    model.add(Dropout(0.))\n",
        "\n",
        "    model.add(Conv2D(32, (3, 3), activation='relu'))\n",
        "    # Max pooling\n",
        "    model.add(MaxPooling2D(pool_size=(2, 2)))\n",
        "    model.add(Flatten())\n",
        "\n",
        "    model.add(Dense(128, activation='relu'))\n",
        "    model.add(Dropout(0.))\n",
        "\n",
        "    model.add(Dense(10, activation='softmax'))\n",
        "    optimizer =RMSprop(learning_rate=learning_rate,rho=rho,momentum=momentum,epsilon=epsilon)\n",
        "    # Compile the model\n",
        "    model.compile(loss='categorical_crossentropy',optimizer=optimizer,metrics=['accuracy'])\n",
        "    return model\n",
        "learning_rate=[0.001,0.01,0.1]\n",
        "rho=[0.95,0.9]\n",
        "epsilon = [1e-6,1e-7]\n",
        "momentum=[0.0,0.1]\n",
        "param_grid = dict(learning_rate=learning_rate,rho=rho,epsilon=epsilon,momentum=momentum) \n",
        "\n",
        "# Train the model\n",
        "\n",
        "model = KerasClassifier(build_fn=create_model, epochs=150, batch_size=32,verbose=0)\n",
        "grid = GridSearchCV(estimator=model, param_grid=param_grid, n_jobs=-1, cv=3)\n",
        "grid_result = grid.fit(X_train, y_oh_train)\n",
        "print(\"Best: %f using %s\" % (grid_result.best_score_, grid_result.best_params_))\n",
        "means = grid_result.cv_results_['mean_test_score']\n",
        "stds = grid_result.cv_results_['std_test_score']\n",
        "params = grid_result.cv_results_['params']\n",
        "for mean, stdev, param in zip(means, stds, params):\n",
        "    print(\"%f (%f) with: %r\" % (mean, stdev, param))\n"
      ],
      "execution_count": null,
      "outputs": [
        {
          "output_type": "stream",
          "text": [
            "Best: 0.943731 using {'epsilon': 1e-06, 'learning_rate': 0.01, 'momentum': 0.0, 'rho': 0.9}\n",
            "0.923737 (0.016907) with: {'epsilon': 1e-06, 'learning_rate': 0.001, 'momentum': 0.0, 'rho': 0.95}\n",
            "0.924972 (0.017188) with: {'epsilon': 1e-06, 'learning_rate': 0.001, 'momentum': 0.0, 'rho': 0.9}\n",
            "0.919987 (0.011675) with: {'epsilon': 1e-06, 'learning_rate': 0.001, 'momentum': 0.1, 'rho': 0.95}\n",
            "0.923742 (0.011634) with: {'epsilon': 1e-06, 'learning_rate': 0.001, 'momentum': 0.1, 'rho': 0.9}\n",
            "0.926215 (0.023104) with: {'epsilon': 1e-06, 'learning_rate': 0.01, 'momentum': 0.0, 'rho': 0.95}\n",
            "0.943731 (0.010719) with: {'epsilon': 1e-06, 'learning_rate': 0.01, 'momentum': 0.0, 'rho': 0.9}\n",
            "0.934997 (0.012377) with: {'epsilon': 1e-06, 'learning_rate': 0.01, 'momentum': 0.1, 'rho': 0.95}\n",
            "0.938733 (0.019488) with: {'epsilon': 1e-06, 'learning_rate': 0.01, 'momentum': 0.1, 'rho': 0.9}\n",
            "0.091258 (0.008915) with: {'epsilon': 1e-06, 'learning_rate': 0.1, 'momentum': 0.0, 'rho': 0.95}\n",
            "0.111266 (0.010920) with: {'epsilon': 1e-06, 'learning_rate': 0.1, 'momentum': 0.0, 'rho': 0.9}\n",
            "0.304225 (0.269667) with: {'epsilon': 1e-06, 'learning_rate': 0.1, 'momentum': 0.1, 'rho': 0.95}\n",
            "0.102494 (0.006978) with: {'epsilon': 1e-06, 'learning_rate': 0.1, 'momentum': 0.1, 'rho': 0.9}\n",
            "0.913736 (0.015977) with: {'epsilon': 1e-07, 'learning_rate': 0.001, 'momentum': 0.0, 'rho': 0.95}\n",
            "0.917490 (0.013394) with: {'epsilon': 1e-07, 'learning_rate': 0.001, 'momentum': 0.0, 'rho': 0.9}\n",
            "0.922494 (0.024739) with: {'epsilon': 1e-07, 'learning_rate': 0.001, 'momentum': 0.1, 'rho': 0.95}\n",
            "0.921250 (0.015291) with: {'epsilon': 1e-07, 'learning_rate': 0.001, 'momentum': 0.1, 'rho': 0.9}\n",
            "0.927487 (0.016904) with: {'epsilon': 1e-07, 'learning_rate': 0.01, 'momentum': 0.0, 'rho': 0.95}\n",
            "0.941244 (0.009871) with: {'epsilon': 1e-07, 'learning_rate': 0.01, 'momentum': 0.0, 'rho': 0.9}\n",
            "0.922494 (0.012773) with: {'epsilon': 1e-07, 'learning_rate': 0.01, 'momentum': 0.1, 'rho': 0.95}\n",
            "0.934992 (0.008892) with: {'epsilon': 1e-07, 'learning_rate': 0.01, 'momentum': 0.1, 'rho': 0.9}\n",
            "0.366877 (0.355291) with: {'epsilon': 1e-07, 'learning_rate': 0.1, 'momentum': 0.0, 'rho': 0.95}\n",
            "0.121230 (0.015557) with: {'epsilon': 1e-07, 'learning_rate': 0.1, 'momentum': 0.0, 'rho': 0.9}\n",
            "0.121254 (0.018455) with: {'epsilon': 1e-07, 'learning_rate': 0.1, 'momentum': 0.1, 'rho': 0.95}\n",
            "0.121254 (0.018455) with: {'epsilon': 1e-07, 'learning_rate': 0.1, 'momentum': 0.1, 'rho': 0.9}\n"
          ],
          "name": "stdout"
        }
      ]
    },
    {
      "cell_type": "markdown",
      "metadata": {
        "id": "RmgJrh9wd864"
      },
      "source": [
        "**3 Adam Optimizer**"
      ]
    },
    {
      "cell_type": "code",
      "metadata": {
        "colab": {
          "base_uri": "https://localhost:8080/"
        },
        "id": "TGCA9khWbabN",
        "outputId": "fcc86dbe-4635-4783-f64f-aa41b05e3260"
      },
      "source": [
        "def create_model(learning_rate=0.001,epsilon=1e-6):\n",
        "    model = Sequential()\n",
        "\n",
        "    model.add(Conv2D(16, (3, 3), activation='relu', input_shape=(28, 28, 1)))\n",
        "    # Max pooling\n",
        "    model.add(MaxPooling2D(pool_size=(2, 2)))\n",
        "    model.add(Dropout(0.))\n",
        "\n",
        "    model.add(Conv2D(32, (3, 3), activation='relu'))\n",
        "    # Max pooling\n",
        "    model.add(MaxPooling2D(pool_size=(2, 2)))\n",
        "    model.add(Flatten())\n",
        "\n",
        "    model.add(Dense(128, activation='relu'))\n",
        "    model.add(Dropout(0.))\n",
        "\n",
        "    model.add(Dense(10, activation='softmax'))\n",
        "    optimizer =Adam(learning_rate=learning_rate,epsilon=epsilon)\n",
        "    # Compile the model\n",
        "    model.compile(loss='categorical_crossentropy',optimizer=optimizer,metrics=['accuracy'])\n",
        "    return model\n",
        "learning_rate=[0.001,0.01,0.1]\n",
        "epsilon = [1e-6,1e-7]\n",
        "param_grid = dict(learning_rate=learning_rate,epsilon=epsilon) \n",
        "\n",
        "# Train the model\n",
        "\n",
        "model = KerasClassifier(build_fn=create_model, epochs=150, batch_size=32,verbose=0)\n",
        "grid = GridSearchCV(estimator=model, param_grid=param_grid, n_jobs=-1, cv=3)\n",
        "grid_result = grid.fit(X_train, y_oh_train)\n",
        "print(\"Best: %f using %s\" % (grid_result.best_score_, grid_result.best_params_))\n",
        "means = grid_result.cv_results_['mean_test_score']\n",
        "stds = grid_result.cv_results_['std_test_score']\n",
        "params = grid_result.cv_results_['params']\n",
        "for mean, stdev, param in zip(means, stds, params):\n",
        "    print(\"%f (%f) with: %r\" % (mean, stdev, param))\n"
      ],
      "execution_count": null,
      "outputs": [
        {
          "output_type": "stream",
          "text": [
            "Best: 0.941244 using {'epsilon': 1e-06, 'learning_rate': 0.01}\n",
            "0.912478 (0.013956) with: {'epsilon': 1e-06, 'learning_rate': 0.001}\n",
            "0.941244 (0.012763) with: {'epsilon': 1e-06, 'learning_rate': 0.01}\n",
            "0.111266 (0.010920) with: {'epsilon': 1e-06, 'learning_rate': 0.1}\n",
            "0.916256 (0.006994) with: {'epsilon': 1e-07, 'learning_rate': 0.001}\n",
            "0.939990 (0.013378) with: {'epsilon': 1e-07, 'learning_rate': 0.01}\n",
            "0.117508 (0.004879) with: {'epsilon': 1e-07, 'learning_rate': 0.1}\n"
          ],
          "name": "stdout"
        }
      ]
    },
    {
      "cell_type": "markdown",
      "metadata": {
        "id": "ay1zWNeqCATY"
      },
      "source": [
        "### 3 Optimizers Summary\n",
        "\n",
        "<span style=\"color:red\"> \n",
        "*Answer b) \n",
        "\n",
        "*   Best for RMSprop 0.943731 using {'epsilon': 1e-06, 'learning_rate': 0.01, 'momentum': 0.0, 'rho': 0.9}\n",
        "*   Best for Adam: 0.941244 using {'epsilon': 1e-06, 'learning_rate': 0.01}\n",
        "\n",
        "*   Best for Adadelta: 0.934992 using {'epsilon': 1e-06, 'learning_rate': 0.1, 'rho': 0.95}\n",
        "\n",
        "\n",
        "\n",
        "</span>"
      ]
    },
    {
      "cell_type": "markdown",
      "metadata": {
        "id": "KE6iUN1pCz2J"
      },
      "source": [
        "* **Dropout**. Use the best optimizer and do hyper-parameter seach and find the best value for ```Dropout()```."
      ]
    },
    {
      "cell_type": "code",
      "metadata": {
        "colab": {
          "base_uri": "https://localhost:8080/"
        },
        "id": "8Rwrz5ryC5he",
        "outputId": "bbdf018f-1d75-490d-afbd-d6624732c8f7"
      },
      "source": [
        "\n",
        "from keras.layers import Dropout\n",
        "from keras.constraints import maxnorm\n",
        "\n",
        "def base_model(dropout_rate=0.0):\n",
        "    model = Sequential()\n",
        "\n",
        "    model.add(Conv2D(16, (3, 3), activation='relu', input_shape=(28, 28, 1)))\n",
        "    # Max pooling\n",
        "    model.add(MaxPooling2D(pool_size=(2, 2)))\n",
        "    model.add(Dropout(dropout_rate))\n",
        "\n",
        "    model.add(Conv2D(32, (3, 3), activation='relu'))\n",
        "    # Max pooling\n",
        "    model.add(MaxPooling2D(pool_size=(2, 2)))\n",
        "    model.add(Flatten())\n",
        "\n",
        "    model.add(Dense(128, activation='relu'))\n",
        "    model.add(Dropout(dropout_rate))\n",
        "\n",
        "    model.add(Dense(10, activation='softmax'))\n",
        "    #Best optimizer with tuned parameters\n",
        "    optimizer=RMSprop(epsilon=1e-07,learning_rate=0.01,momentum=0.0,rho=0.9)\n",
        "    # Compile the model\n",
        "    model.compile(loss='categorical_crossentropy', optimizer='RMSprop',metrics=['accuracy'])\n",
        "    return model\n",
        "\n",
        "# create model\n",
        "model = KerasClassifier(build_fn=base_model, epochs=150, batch_size=32, verbose=0)\n",
        "# define the grid search parameters\n",
        "dropout_rate = [0.0, 0.1, 0.2, 0.3, 0.4, 0.5, 0.6, 0.7, 0.8, 0.9]\n",
        "param_grid = dict(dropout_rate=dropout_rate)\n",
        "grid = GridSearchCV(estimator=model, param_grid=param_grid, n_jobs=-1, cv=3)\n",
        "grid_result = grid.fit(X_train,y_oh_train)\n",
        "# summarize results\n",
        "print(\"Best: %f using %s\" % (grid_result.best_score_, grid_result.best_params_))\n",
        "means = grid_result.cv_results_['mean_test_score']\n",
        "stds = grid_result.cv_results_['std_test_score']\n",
        "params = grid_result.cv_results_['params']\n",
        "for mean, stdev, param in zip(means, stds, params):\n",
        "    print(\"%f (%f) with: %r\" % (mean, stdev, param))"
      ],
      "execution_count": null,
      "outputs": [
        {
          "output_type": "stream",
          "text": [
            "Best: 0.948725 using {'dropout_rate': 0.7}\n",
            "0.923747 (0.006406) with: {'dropout_rate': 0.0}\n",
            "0.937503 (0.012344) with: {'dropout_rate': 0.1}\n",
            "0.933715 (0.019824) with: {'dropout_rate': 0.2}\n",
            "0.929975 (0.016976) with: {'dropout_rate': 0.3}\n",
            "0.939986 (0.013405) with: {'dropout_rate': 0.4}\n",
            "0.941229 (0.015790) with: {'dropout_rate': 0.5}\n",
            "0.942492 (0.006445) with: {'dropout_rate': 0.6}\n",
            "0.948725 (0.014575) with: {'dropout_rate': 0.7}\n",
            "0.921236 (0.015970) with: {'dropout_rate': 0.8}\n",
            "0.771296 (0.035806) with: {'dropout_rate': 0.9}\n"
          ],
          "name": "stdout"
        }
      ]
    },
    {
      "cell_type": "markdown",
      "metadata": {
        "id": "DRc3g9hw6iAe"
      },
      "source": [
        "* Best dropout rate is 0.7"
      ]
    },
    {
      "cell_type": "markdown",
      "metadata": {
        "id": "-9FVDnTcC4X5"
      },
      "source": [
        "* **Best model**. Combine the what you learned from the above three questions to build the best model. How much better is it than the worst and average models?"
      ]
    },
    {
      "cell_type": "code",
      "metadata": {
        "colab": {
          "base_uri": "https://localhost:8080/"
        },
        "id": "eQ23SwuMCuLw",
        "outputId": "950da249-c228-4464-9360-9e57f33a9f03"
      },
      "source": [
        "model = Sequential()\n",
        "\n",
        "model.add(Conv2D(16, (3, 3), activation='relu', input_shape=(28, 28, 1)))\n",
        "# Max pooling\n",
        "model.add(MaxPooling2D(pool_size=(2, 2)))\n",
        "model.add(Dropout(0.7))\n",
        "\n",
        "model.add(Conv2D(32, (3, 3), activation='relu'))\n",
        "# Max pooling\n",
        "model.add(MaxPooling2D(pool_size=(2, 2)))\n",
        "model.add(Flatten())\n",
        "\n",
        "model.add(Dense(128, activation='relu'))\n",
        "model.add(Dropout(0.7))\n",
        "\n",
        "model.add(Dense(10, activation='softmax'))\n",
        "# Compile the model\n",
        "model.compile(loss='categorical_crossentropy',optimizer='RMSprop',metrics=['accuracy'])\n",
        "\n",
        "# Train the model\n",
        "history=model.fit(X_train, y_oh_train,validation_data=(X_test,y_oh_test),epochs=150, batch_size=32)\n",
        "# Evaluate performance\n",
        "predictions = model.predict(X_test, batch_size=32)\n",
        "predictions = np.argmax(predictions, axis=1) \n",
        "print('Accuracy:', (predictions == y_test).sum() / predictions.shape[0])"
      ],
      "execution_count": null,
      "outputs": [
        {
          "output_type": "stream",
          "text": [
            "Epoch 1/150\n",
            "25/25 [==============================] - 1s 33ms/step - loss: 2.2656 - accuracy: 0.1975 - val_loss: 2.1583 - val_accuracy: 0.4800\n",
            "Epoch 2/150\n",
            "25/25 [==============================] - 1s 27ms/step - loss: 1.9508 - accuracy: 0.3200 - val_loss: 1.8882 - val_accuracy: 0.5700\n",
            "Epoch 3/150\n",
            "25/25 [==============================] - 1s 27ms/step - loss: 1.7414 - accuracy: 0.3950 - val_loss: 1.6205 - val_accuracy: 0.7000\n",
            "Epoch 4/150\n",
            "25/25 [==============================] - 1s 25ms/step - loss: 1.4435 - accuracy: 0.5412 - val_loss: 1.3567 - val_accuracy: 0.7500\n",
            "Epoch 5/150\n",
            "25/25 [==============================] - 1s 26ms/step - loss: 1.3648 - accuracy: 0.5437 - val_loss: 1.2247 - val_accuracy: 0.7850\n",
            "Epoch 6/150\n",
            "25/25 [==============================] - 1s 26ms/step - loss: 1.2040 - accuracy: 0.5900 - val_loss: 1.0424 - val_accuracy: 0.7700\n",
            "Epoch 7/150\n",
            "25/25 [==============================] - 1s 26ms/step - loss: 1.1303 - accuracy: 0.6125 - val_loss: 0.9668 - val_accuracy: 0.7700\n",
            "Epoch 8/150\n",
            "25/25 [==============================] - 1s 26ms/step - loss: 1.0677 - accuracy: 0.6575 - val_loss: 0.8438 - val_accuracy: 0.8200\n",
            "Epoch 9/150\n",
            "25/25 [==============================] - 1s 26ms/step - loss: 0.9703 - accuracy: 0.6850 - val_loss: 0.7799 - val_accuracy: 0.8050\n",
            "Epoch 10/150\n",
            "25/25 [==============================] - 1s 26ms/step - loss: 0.8988 - accuracy: 0.7038 - val_loss: 0.7186 - val_accuracy: 0.8250\n",
            "Epoch 11/150\n",
            "25/25 [==============================] - 1s 26ms/step - loss: 0.8679 - accuracy: 0.7163 - val_loss: 0.6933 - val_accuracy: 0.8650\n",
            "Epoch 12/150\n",
            "25/25 [==============================] - 1s 27ms/step - loss: 0.8000 - accuracy: 0.7412 - val_loss: 0.6570 - val_accuracy: 0.8400\n",
            "Epoch 13/150\n",
            "25/25 [==============================] - 1s 26ms/step - loss: 0.8139 - accuracy: 0.7337 - val_loss: 0.5643 - val_accuracy: 0.8650\n",
            "Epoch 14/150\n",
            "25/25 [==============================] - 1s 26ms/step - loss: 0.7926 - accuracy: 0.7425 - val_loss: 0.5742 - val_accuracy: 0.8450\n",
            "Epoch 15/150\n",
            "25/25 [==============================] - 1s 26ms/step - loss: 0.7661 - accuracy: 0.7588 - val_loss: 0.5350 - val_accuracy: 0.8700\n",
            "Epoch 16/150\n",
            "25/25 [==============================] - 1s 26ms/step - loss: 0.6854 - accuracy: 0.7925 - val_loss: 0.4915 - val_accuracy: 0.8800\n",
            "Epoch 17/150\n",
            "25/25 [==============================] - 1s 26ms/step - loss: 0.7175 - accuracy: 0.7763 - val_loss: 0.5022 - val_accuracy: 0.8950\n",
            "Epoch 18/150\n",
            "25/25 [==============================] - 1s 26ms/step - loss: 0.6465 - accuracy: 0.8000 - val_loss: 0.4730 - val_accuracy: 0.8950\n",
            "Epoch 19/150\n",
            "25/25 [==============================] - 1s 25ms/step - loss: 0.6117 - accuracy: 0.8037 - val_loss: 0.4227 - val_accuracy: 0.9000\n",
            "Epoch 20/150\n",
            "25/25 [==============================] - 1s 27ms/step - loss: 0.6461 - accuracy: 0.8062 - val_loss: 0.3968 - val_accuracy: 0.9150\n",
            "Epoch 21/150\n",
            "25/25 [==============================] - 1s 26ms/step - loss: 0.5913 - accuracy: 0.8050 - val_loss: 0.3757 - val_accuracy: 0.9300\n",
            "Epoch 22/150\n",
            "25/25 [==============================] - 1s 26ms/step - loss: 0.5593 - accuracy: 0.8200 - val_loss: 0.3881 - val_accuracy: 0.9150\n",
            "Epoch 23/150\n",
            "25/25 [==============================] - 1s 27ms/step - loss: 0.5124 - accuracy: 0.8363 - val_loss: 0.3391 - val_accuracy: 0.9300\n",
            "Epoch 24/150\n",
            "25/25 [==============================] - 1s 28ms/step - loss: 0.5273 - accuracy: 0.8300 - val_loss: 0.3457 - val_accuracy: 0.9300\n",
            "Epoch 25/150\n",
            "25/25 [==============================] - 1s 25ms/step - loss: 0.5155 - accuracy: 0.8537 - val_loss: 0.3510 - val_accuracy: 0.9250\n",
            "Epoch 26/150\n",
            "25/25 [==============================] - 1s 26ms/step - loss: 0.4652 - accuracy: 0.8388 - val_loss: 0.3127 - val_accuracy: 0.9300\n",
            "Epoch 27/150\n",
            "25/25 [==============================] - 1s 26ms/step - loss: 0.4892 - accuracy: 0.8662 - val_loss: 0.3049 - val_accuracy: 0.9300\n",
            "Epoch 28/150\n",
            "25/25 [==============================] - 1s 27ms/step - loss: 0.4394 - accuracy: 0.8650 - val_loss: 0.2978 - val_accuracy: 0.9250\n",
            "Epoch 29/150\n",
            "25/25 [==============================] - 1s 25ms/step - loss: 0.4273 - accuracy: 0.8763 - val_loss: 0.2919 - val_accuracy: 0.9300\n",
            "Epoch 30/150\n",
            "25/25 [==============================] - 1s 26ms/step - loss: 0.4287 - accuracy: 0.8725 - val_loss: 0.2827 - val_accuracy: 0.9350\n",
            "Epoch 31/150\n",
            "25/25 [==============================] - 1s 26ms/step - loss: 0.4151 - accuracy: 0.8687 - val_loss: 0.2693 - val_accuracy: 0.9300\n",
            "Epoch 32/150\n",
            "25/25 [==============================] - 1s 27ms/step - loss: 0.3829 - accuracy: 0.8863 - val_loss: 0.2644 - val_accuracy: 0.9350\n",
            "Epoch 33/150\n",
            "25/25 [==============================] - 1s 26ms/step - loss: 0.3546 - accuracy: 0.8988 - val_loss: 0.2526 - val_accuracy: 0.9400\n",
            "Epoch 34/150\n",
            "25/25 [==============================] - 1s 26ms/step - loss: 0.3750 - accuracy: 0.8813 - val_loss: 0.2635 - val_accuracy: 0.9200\n",
            "Epoch 35/150\n",
            "25/25 [==============================] - 1s 26ms/step - loss: 0.3892 - accuracy: 0.8712 - val_loss: 0.2765 - val_accuracy: 0.9250\n",
            "Epoch 36/150\n",
            "25/25 [==============================] - 1s 26ms/step - loss: 0.3496 - accuracy: 0.8950 - val_loss: 0.2484 - val_accuracy: 0.9350\n",
            "Epoch 37/150\n",
            "25/25 [==============================] - 1s 26ms/step - loss: 0.3592 - accuracy: 0.8875 - val_loss: 0.2395 - val_accuracy: 0.9350\n",
            "Epoch 38/150\n",
            "25/25 [==============================] - 1s 26ms/step - loss: 0.3379 - accuracy: 0.8838 - val_loss: 0.2463 - val_accuracy: 0.9200\n",
            "Epoch 39/150\n",
            "25/25 [==============================] - 1s 27ms/step - loss: 0.3061 - accuracy: 0.8988 - val_loss: 0.2297 - val_accuracy: 0.9350\n",
            "Epoch 40/150\n",
            "25/25 [==============================] - 1s 26ms/step - loss: 0.3305 - accuracy: 0.8925 - val_loss: 0.2315 - val_accuracy: 0.9300\n",
            "Epoch 41/150\n",
            "25/25 [==============================] - 1s 26ms/step - loss: 0.2916 - accuracy: 0.9100 - val_loss: 0.2408 - val_accuracy: 0.9350\n",
            "Epoch 42/150\n",
            "25/25 [==============================] - 1s 27ms/step - loss: 0.2887 - accuracy: 0.9162 - val_loss: 0.2289 - val_accuracy: 0.9300\n",
            "Epoch 43/150\n",
            "25/25 [==============================] - 1s 26ms/step - loss: 0.2889 - accuracy: 0.9062 - val_loss: 0.2264 - val_accuracy: 0.9300\n",
            "Epoch 44/150\n",
            "25/25 [==============================] - 1s 26ms/step - loss: 0.3125 - accuracy: 0.8975 - val_loss: 0.2353 - val_accuracy: 0.9350\n",
            "Epoch 45/150\n",
            "25/25 [==============================] - 1s 26ms/step - loss: 0.2710 - accuracy: 0.9100 - val_loss: 0.2175 - val_accuracy: 0.9350\n",
            "Epoch 46/150\n",
            "25/25 [==============================] - 1s 26ms/step - loss: 0.2979 - accuracy: 0.8963 - val_loss: 0.2184 - val_accuracy: 0.9350\n",
            "Epoch 47/150\n",
            "25/25 [==============================] - 1s 26ms/step - loss: 0.2897 - accuracy: 0.9000 - val_loss: 0.2135 - val_accuracy: 0.9500\n",
            "Epoch 48/150\n",
            "25/25 [==============================] - 1s 27ms/step - loss: 0.2419 - accuracy: 0.9175 - val_loss: 0.2083 - val_accuracy: 0.9400\n",
            "Epoch 49/150\n",
            "25/25 [==============================] - 1s 26ms/step - loss: 0.2928 - accuracy: 0.9162 - val_loss: 0.2251 - val_accuracy: 0.9300\n",
            "Epoch 50/150\n",
            "25/25 [==============================] - 1s 26ms/step - loss: 0.2556 - accuracy: 0.9200 - val_loss: 0.2183 - val_accuracy: 0.9300\n",
            "Epoch 51/150\n",
            "25/25 [==============================] - 1s 27ms/step - loss: 0.2642 - accuracy: 0.9100 - val_loss: 0.2073 - val_accuracy: 0.9400\n",
            "Epoch 52/150\n",
            "25/25 [==============================] - 1s 26ms/step - loss: 0.2678 - accuracy: 0.9212 - val_loss: 0.2069 - val_accuracy: 0.9400\n",
            "Epoch 53/150\n",
            "25/25 [==============================] - 1s 26ms/step - loss: 0.2470 - accuracy: 0.9250 - val_loss: 0.2008 - val_accuracy: 0.9350\n",
            "Epoch 54/150\n",
            "25/25 [==============================] - 1s 26ms/step - loss: 0.2317 - accuracy: 0.9287 - val_loss: 0.2068 - val_accuracy: 0.9400\n",
            "Epoch 55/150\n",
            "25/25 [==============================] - 1s 27ms/step - loss: 0.2680 - accuracy: 0.9150 - val_loss: 0.2027 - val_accuracy: 0.9300\n",
            "Epoch 56/150\n",
            "25/25 [==============================] - 1s 26ms/step - loss: 0.2386 - accuracy: 0.9300 - val_loss: 0.2045 - val_accuracy: 0.9350\n",
            "Epoch 57/150\n",
            "25/25 [==============================] - 1s 28ms/step - loss: 0.2466 - accuracy: 0.9212 - val_loss: 0.1948 - val_accuracy: 0.9400\n",
            "Epoch 58/150\n",
            "25/25 [==============================] - 1s 26ms/step - loss: 0.2034 - accuracy: 0.9375 - val_loss: 0.1954 - val_accuracy: 0.9350\n",
            "Epoch 59/150\n",
            "25/25 [==============================] - 1s 27ms/step - loss: 0.2349 - accuracy: 0.9225 - val_loss: 0.1978 - val_accuracy: 0.9400\n",
            "Epoch 60/150\n",
            "25/25 [==============================] - 1s 27ms/step - loss: 0.2204 - accuracy: 0.9237 - val_loss: 0.2019 - val_accuracy: 0.9400\n",
            "Epoch 61/150\n",
            "25/25 [==============================] - 1s 27ms/step - loss: 0.2335 - accuracy: 0.9187 - val_loss: 0.1914 - val_accuracy: 0.9350\n",
            "Epoch 62/150\n",
            "25/25 [==============================] - 1s 26ms/step - loss: 0.2187 - accuracy: 0.9463 - val_loss: 0.1866 - val_accuracy: 0.9350\n",
            "Epoch 63/150\n",
            "25/25 [==============================] - 1s 26ms/step - loss: 0.2254 - accuracy: 0.9262 - val_loss: 0.1944 - val_accuracy: 0.9350\n",
            "Epoch 64/150\n",
            "25/25 [==============================] - 1s 27ms/step - loss: 0.2387 - accuracy: 0.9275 - val_loss: 0.1921 - val_accuracy: 0.9350\n",
            "Epoch 65/150\n",
            "25/25 [==============================] - 1s 27ms/step - loss: 0.2563 - accuracy: 0.9250 - val_loss: 0.1970 - val_accuracy: 0.9350\n",
            "Epoch 66/150\n",
            "25/25 [==============================] - 1s 26ms/step - loss: 0.2020 - accuracy: 0.9513 - val_loss: 0.1877 - val_accuracy: 0.9450\n",
            "Epoch 67/150\n",
            "25/25 [==============================] - 1s 27ms/step - loss: 0.2041 - accuracy: 0.9450 - val_loss: 0.1971 - val_accuracy: 0.9350\n",
            "Epoch 68/150\n",
            "25/25 [==============================] - 1s 27ms/step - loss: 0.1998 - accuracy: 0.9312 - val_loss: 0.1920 - val_accuracy: 0.9450\n",
            "Epoch 69/150\n",
            "25/25 [==============================] - 1s 27ms/step - loss: 0.1841 - accuracy: 0.9488 - val_loss: 0.1997 - val_accuracy: 0.9450\n",
            "Epoch 70/150\n",
            "25/25 [==============================] - 1s 28ms/step - loss: 0.1835 - accuracy: 0.9400 - val_loss: 0.1931 - val_accuracy: 0.9400\n",
            "Epoch 71/150\n",
            "25/25 [==============================] - 1s 27ms/step - loss: 0.2172 - accuracy: 0.9300 - val_loss: 0.1943 - val_accuracy: 0.9350\n",
            "Epoch 72/150\n",
            "25/25 [==============================] - 1s 27ms/step - loss: 0.1979 - accuracy: 0.9388 - val_loss: 0.1904 - val_accuracy: 0.9400\n",
            "Epoch 73/150\n",
            "25/25 [==============================] - 1s 26ms/step - loss: 0.2187 - accuracy: 0.9350 - val_loss: 0.1900 - val_accuracy: 0.9400\n",
            "Epoch 74/150\n",
            "25/25 [==============================] - 1s 27ms/step - loss: 0.2024 - accuracy: 0.9300 - val_loss: 0.1845 - val_accuracy: 0.9400\n",
            "Epoch 75/150\n",
            "25/25 [==============================] - 1s 27ms/step - loss: 0.1893 - accuracy: 0.9362 - val_loss: 0.1851 - val_accuracy: 0.9400\n",
            "Epoch 76/150\n",
            "25/25 [==============================] - 1s 28ms/step - loss: 0.1888 - accuracy: 0.9337 - val_loss: 0.1990 - val_accuracy: 0.9400\n",
            "Epoch 77/150\n",
            "25/25 [==============================] - 1s 27ms/step - loss: 0.2170 - accuracy: 0.9425 - val_loss: 0.2129 - val_accuracy: 0.9450\n",
            "Epoch 78/150\n",
            "25/25 [==============================] - 1s 27ms/step - loss: 0.1766 - accuracy: 0.9463 - val_loss: 0.1962 - val_accuracy: 0.9500\n",
            "Epoch 79/150\n",
            "25/25 [==============================] - 1s 28ms/step - loss: 0.1689 - accuracy: 0.9413 - val_loss: 0.1987 - val_accuracy: 0.9400\n",
            "Epoch 80/150\n",
            "25/25 [==============================] - 1s 27ms/step - loss: 0.1890 - accuracy: 0.9350 - val_loss: 0.2186 - val_accuracy: 0.9300\n",
            "Epoch 81/150\n",
            "25/25 [==============================] - 1s 27ms/step - loss: 0.1552 - accuracy: 0.9475 - val_loss: 0.1990 - val_accuracy: 0.9400\n",
            "Epoch 82/150\n",
            "25/25 [==============================] - 1s 26ms/step - loss: 0.1588 - accuracy: 0.9438 - val_loss: 0.1939 - val_accuracy: 0.9450\n",
            "Epoch 83/150\n",
            "25/25 [==============================] - 1s 27ms/step - loss: 0.2090 - accuracy: 0.9325 - val_loss: 0.1898 - val_accuracy: 0.9450\n",
            "Epoch 84/150\n",
            "25/25 [==============================] - 1s 26ms/step - loss: 0.1715 - accuracy: 0.9413 - val_loss: 0.1945 - val_accuracy: 0.9400\n",
            "Epoch 85/150\n",
            "25/25 [==============================] - 1s 26ms/step - loss: 0.1461 - accuracy: 0.9488 - val_loss: 0.1923 - val_accuracy: 0.9450\n",
            "Epoch 86/150\n",
            "25/25 [==============================] - 1s 27ms/step - loss: 0.1794 - accuracy: 0.9388 - val_loss: 0.1798 - val_accuracy: 0.9450\n",
            "Epoch 87/150\n",
            "25/25 [==============================] - 1s 26ms/step - loss: 0.1658 - accuracy: 0.9425 - val_loss: 0.1998 - val_accuracy: 0.9400\n",
            "Epoch 88/150\n",
            "25/25 [==============================] - 1s 27ms/step - loss: 0.1906 - accuracy: 0.9388 - val_loss: 0.1829 - val_accuracy: 0.9400\n",
            "Epoch 89/150\n",
            "25/25 [==============================] - 1s 27ms/step - loss: 0.1846 - accuracy: 0.9438 - val_loss: 0.1794 - val_accuracy: 0.9400\n",
            "Epoch 90/150\n",
            "25/25 [==============================] - 1s 28ms/step - loss: 0.1883 - accuracy: 0.9413 - val_loss: 0.1879 - val_accuracy: 0.9400\n",
            "Epoch 91/150\n",
            "25/25 [==============================] - 1s 26ms/step - loss: 0.1777 - accuracy: 0.9388 - val_loss: 0.1913 - val_accuracy: 0.9400\n",
            "Epoch 92/150\n",
            "25/25 [==============================] - 1s 27ms/step - loss: 0.1416 - accuracy: 0.9500 - val_loss: 0.1907 - val_accuracy: 0.9400\n",
            "Epoch 93/150\n",
            "25/25 [==============================] - 1s 27ms/step - loss: 0.1599 - accuracy: 0.9525 - val_loss: 0.1888 - val_accuracy: 0.9400\n",
            "Epoch 94/150\n",
            "25/25 [==============================] - 1s 27ms/step - loss: 0.1494 - accuracy: 0.9475 - val_loss: 0.1814 - val_accuracy: 0.9450\n",
            "Epoch 95/150\n",
            "25/25 [==============================] - 1s 26ms/step - loss: 0.1585 - accuracy: 0.9538 - val_loss: 0.1948 - val_accuracy: 0.9500\n",
            "Epoch 96/150\n",
            "25/25 [==============================] - 1s 27ms/step - loss: 0.1502 - accuracy: 0.9525 - val_loss: 0.1973 - val_accuracy: 0.9400\n",
            "Epoch 97/150\n",
            "25/25 [==============================] - 1s 27ms/step - loss: 0.1909 - accuracy: 0.9375 - val_loss: 0.1957 - val_accuracy: 0.9450\n",
            "Epoch 98/150\n",
            "25/25 [==============================] - 1s 27ms/step - loss: 0.1654 - accuracy: 0.9513 - val_loss: 0.1929 - val_accuracy: 0.9450\n",
            "Epoch 99/150\n",
            "25/25 [==============================] - 1s 28ms/step - loss: 0.1454 - accuracy: 0.9425 - val_loss: 0.1937 - val_accuracy: 0.9450\n",
            "Epoch 100/150\n",
            "25/25 [==============================] - 1s 28ms/step - loss: 0.1425 - accuracy: 0.9550 - val_loss: 0.2022 - val_accuracy: 0.9500\n",
            "Epoch 101/150\n",
            "25/25 [==============================] - 1s 30ms/step - loss: 0.1442 - accuracy: 0.9475 - val_loss: 0.1976 - val_accuracy: 0.9400\n",
            "Epoch 102/150\n",
            "25/25 [==============================] - 1s 30ms/step - loss: 0.1530 - accuracy: 0.9513 - val_loss: 0.1887 - val_accuracy: 0.9450\n",
            "Epoch 103/150\n",
            "25/25 [==============================] - 1s 27ms/step - loss: 0.1509 - accuracy: 0.9513 - val_loss: 0.1825 - val_accuracy: 0.9450\n",
            "Epoch 104/150\n",
            "25/25 [==============================] - 1s 29ms/step - loss: 0.1654 - accuracy: 0.9575 - val_loss: 0.1801 - val_accuracy: 0.9450\n",
            "Epoch 105/150\n",
            "25/25 [==============================] - 1s 27ms/step - loss: 0.1371 - accuracy: 0.9550 - val_loss: 0.1921 - val_accuracy: 0.9500\n",
            "Epoch 106/150\n",
            "25/25 [==============================] - 1s 29ms/step - loss: 0.1433 - accuracy: 0.9488 - val_loss: 0.1917 - val_accuracy: 0.9350\n",
            "Epoch 107/150\n",
            "25/25 [==============================] - 1s 28ms/step - loss: 0.1598 - accuracy: 0.9400 - val_loss: 0.1911 - val_accuracy: 0.9450\n",
            "Epoch 108/150\n",
            "25/25 [==============================] - 1s 28ms/step - loss: 0.1351 - accuracy: 0.9575 - val_loss: 0.1965 - val_accuracy: 0.9450\n",
            "Epoch 109/150\n",
            "25/25 [==============================] - 1s 28ms/step - loss: 0.1385 - accuracy: 0.9550 - val_loss: 0.1758 - val_accuracy: 0.9450\n",
            "Epoch 110/150\n",
            "25/25 [==============================] - 1s 27ms/step - loss: 0.1529 - accuracy: 0.9362 - val_loss: 0.1951 - val_accuracy: 0.9450\n",
            "Epoch 111/150\n",
            "25/25 [==============================] - 1s 27ms/step - loss: 0.1315 - accuracy: 0.9538 - val_loss: 0.1837 - val_accuracy: 0.9450\n",
            "Epoch 112/150\n",
            "25/25 [==============================] - 1s 26ms/step - loss: 0.1142 - accuracy: 0.9700 - val_loss: 0.1901 - val_accuracy: 0.9500\n",
            "Epoch 113/150\n",
            "25/25 [==============================] - 1s 27ms/step - loss: 0.1232 - accuracy: 0.9525 - val_loss: 0.1898 - val_accuracy: 0.9450\n",
            "Epoch 114/150\n",
            "25/25 [==============================] - 1s 27ms/step - loss: 0.1265 - accuracy: 0.9575 - val_loss: 0.1933 - val_accuracy: 0.9550\n",
            "Epoch 115/150\n",
            "25/25 [==============================] - 1s 27ms/step - loss: 0.1323 - accuracy: 0.9550 - val_loss: 0.1777 - val_accuracy: 0.9550\n",
            "Epoch 116/150\n",
            "25/25 [==============================] - 1s 27ms/step - loss: 0.1444 - accuracy: 0.9550 - val_loss: 0.1885 - val_accuracy: 0.9550\n",
            "Epoch 117/150\n",
            "25/25 [==============================] - 1s 27ms/step - loss: 0.1281 - accuracy: 0.9563 - val_loss: 0.1789 - val_accuracy: 0.9450\n",
            "Epoch 118/150\n",
            "25/25 [==============================] - 1s 26ms/step - loss: 0.1246 - accuracy: 0.9563 - val_loss: 0.1879 - val_accuracy: 0.9500\n",
            "Epoch 119/150\n",
            "25/25 [==============================] - 1s 26ms/step - loss: 0.1142 - accuracy: 0.9638 - val_loss: 0.1764 - val_accuracy: 0.9550\n",
            "Epoch 120/150\n",
            "25/25 [==============================] - 1s 26ms/step - loss: 0.1497 - accuracy: 0.9513 - val_loss: 0.1724 - val_accuracy: 0.9500\n",
            "Epoch 121/150\n",
            "25/25 [==============================] - 1s 26ms/step - loss: 0.1418 - accuracy: 0.9588 - val_loss: 0.1781 - val_accuracy: 0.9600\n",
            "Epoch 122/150\n",
            "25/25 [==============================] - 1s 27ms/step - loss: 0.1382 - accuracy: 0.9550 - val_loss: 0.1739 - val_accuracy: 0.9600\n",
            "Epoch 123/150\n",
            "25/25 [==============================] - 1s 28ms/step - loss: 0.1319 - accuracy: 0.9575 - val_loss: 0.1777 - val_accuracy: 0.9550\n",
            "Epoch 124/150\n",
            "25/25 [==============================] - 1s 27ms/step - loss: 0.1221 - accuracy: 0.9563 - val_loss: 0.1820 - val_accuracy: 0.9600\n",
            "Epoch 125/150\n",
            "25/25 [==============================] - 1s 27ms/step - loss: 0.1101 - accuracy: 0.9638 - val_loss: 0.1841 - val_accuracy: 0.9650\n",
            "Epoch 126/150\n",
            "25/25 [==============================] - 1s 26ms/step - loss: 0.1191 - accuracy: 0.9688 - val_loss: 0.1753 - val_accuracy: 0.9550\n",
            "Epoch 127/150\n",
            "25/25 [==============================] - 1s 27ms/step - loss: 0.1232 - accuracy: 0.9638 - val_loss: 0.1763 - val_accuracy: 0.9600\n",
            "Epoch 128/150\n",
            "25/25 [==============================] - 1s 26ms/step - loss: 0.1417 - accuracy: 0.9475 - val_loss: 0.1863 - val_accuracy: 0.9550\n",
            "Epoch 129/150\n",
            "25/25 [==============================] - 1s 28ms/step - loss: 0.1086 - accuracy: 0.9663 - val_loss: 0.1836 - val_accuracy: 0.9550\n",
            "Epoch 130/150\n",
            "25/25 [==============================] - 1s 27ms/step - loss: 0.1423 - accuracy: 0.9525 - val_loss: 0.1837 - val_accuracy: 0.9650\n",
            "Epoch 131/150\n",
            "25/25 [==============================] - 1s 28ms/step - loss: 0.1298 - accuracy: 0.9625 - val_loss: 0.1857 - val_accuracy: 0.9500\n",
            "Epoch 132/150\n",
            "25/25 [==============================] - 1s 27ms/step - loss: 0.1019 - accuracy: 0.9600 - val_loss: 0.1898 - val_accuracy: 0.9600\n",
            "Epoch 133/150\n",
            "25/25 [==============================] - 1s 26ms/step - loss: 0.0976 - accuracy: 0.9650 - val_loss: 0.1830 - val_accuracy: 0.9500\n",
            "Epoch 134/150\n",
            "25/25 [==============================] - 1s 26ms/step - loss: 0.1331 - accuracy: 0.9600 - val_loss: 0.1808 - val_accuracy: 0.9450\n",
            "Epoch 135/150\n",
            "25/25 [==============================] - 1s 27ms/step - loss: 0.1332 - accuracy: 0.9513 - val_loss: 0.1815 - val_accuracy: 0.9550\n",
            "Epoch 136/150\n",
            "25/25 [==============================] - 1s 27ms/step - loss: 0.1128 - accuracy: 0.9513 - val_loss: 0.1866 - val_accuracy: 0.9550\n",
            "Epoch 137/150\n",
            "25/25 [==============================] - 1s 27ms/step - loss: 0.1361 - accuracy: 0.9613 - val_loss: 0.1679 - val_accuracy: 0.9600\n",
            "Epoch 138/150\n",
            "25/25 [==============================] - 1s 28ms/step - loss: 0.1286 - accuracy: 0.9563 - val_loss: 0.1808 - val_accuracy: 0.9550\n",
            "Epoch 139/150\n",
            "25/25 [==============================] - 1s 27ms/step - loss: 0.0927 - accuracy: 0.9663 - val_loss: 0.1869 - val_accuracy: 0.9450\n",
            "Epoch 140/150\n",
            "25/25 [==============================] - 1s 28ms/step - loss: 0.1729 - accuracy: 0.9463 - val_loss: 0.1812 - val_accuracy: 0.9650\n",
            "Epoch 141/150\n",
            "25/25 [==============================] - 1s 27ms/step - loss: 0.1238 - accuracy: 0.9588 - val_loss: 0.1826 - val_accuracy: 0.9500\n",
            "Epoch 142/150\n",
            "25/25 [==============================] - 1s 28ms/step - loss: 0.1145 - accuracy: 0.9600 - val_loss: 0.1988 - val_accuracy: 0.9500\n",
            "Epoch 143/150\n",
            "25/25 [==============================] - 1s 28ms/step - loss: 0.1228 - accuracy: 0.9613 - val_loss: 0.1991 - val_accuracy: 0.9550\n",
            "Epoch 144/150\n",
            "25/25 [==============================] - 1s 29ms/step - loss: 0.1269 - accuracy: 0.9588 - val_loss: 0.1758 - val_accuracy: 0.9600\n",
            "Epoch 145/150\n",
            "25/25 [==============================] - 1s 26ms/step - loss: 0.1045 - accuracy: 0.9613 - val_loss: 0.1937 - val_accuracy: 0.9550\n",
            "Epoch 146/150\n",
            "25/25 [==============================] - 1s 26ms/step - loss: 0.1052 - accuracy: 0.9650 - val_loss: 0.1793 - val_accuracy: 0.9550\n",
            "Epoch 147/150\n",
            "25/25 [==============================] - 1s 26ms/step - loss: 0.1529 - accuracy: 0.9575 - val_loss: 0.1809 - val_accuracy: 0.9500\n",
            "Epoch 148/150\n",
            "25/25 [==============================] - 1s 27ms/step - loss: 0.1126 - accuracy: 0.9625 - val_loss: 0.1912 - val_accuracy: 0.9500\n",
            "Epoch 149/150\n",
            "25/25 [==============================] - 1s 28ms/step - loss: 0.1248 - accuracy: 0.9588 - val_loss: 0.1939 - val_accuracy: 0.9550\n",
            "Epoch 150/150\n",
            "25/25 [==============================] - 1s 27ms/step - loss: 0.1401 - accuracy: 0.9600 - val_loss: 0.1979 - val_accuracy: 0.9650\n",
            "Accuracy: 0.965\n"
          ],
          "name": "stdout"
        }
      ]
    },
    {
      "cell_type": "markdown",
      "metadata": {
        "id": "-zBKp1Ai5hEC"
      },
      "source": [
        "<span style=\"color:red\"> Final model accuracy 0.965: RMSprop with dropout(0.7) compared with Adam: 0.941244 ,Adadelta: 0.934992\n",
        "\n",
        "* Average Models Accuracy of 3 optimizer:  0.947 , the final best model accuracy is 0.018 higher than average accuracy\n",
        "\n",
        "* Worst Model: Adam: 0.934992, the final best accuracy is 0.03 higher than the  worst model.\n",
        "\n",
        "\n",
        "</span>"
      ]
    },
    {
      "cell_type": "code",
      "metadata": {
        "colab": {
          "base_uri": "https://localhost:8080/",
          "height": 279
        },
        "id": "KYooe9mp3UOn",
        "outputId": "e183df2f-2a44-440c-8d03-f70f36f15f8a"
      },
      "source": [
        "# Visualize loss history\n",
        "training_loss = history.history['loss']\n",
        "test_loss = history.history['val_loss']\n",
        "epoch_count = range(1, len(training_loss) + 1)\n",
        "plt.plot(epoch_count, training_loss, 'r--')\n",
        "plt.plot(epoch_count, test_loss, 'b-')\n",
        "plt.legend(['Training Loss', 'Test Loss'])\n",
        "plt.xlabel('Epoch')\n",
        "plt.ylabel('Loss')\n",
        "plt.show()"
      ],
      "execution_count": null,
      "outputs": [
        {
          "output_type": "display_data",
          "data": {
            "image/png": "[encoded data removed]",
            "text/plain": [
              "<Figure size 432x288 with 1 Axes>"
            ]
          },
          "metadata": {
            "tags": [],
            "needs_background": "light"
          }
        }
      ]
    },
    {
      "cell_type": "markdown",
      "metadata": {
        "id": "DA2Oi8Cq4xwT"
      },
      "source": [
        "* We can see after epoch=80, test loss is greater than training loss"
      ]
    },
    {
      "cell_type": "code",
      "metadata": {
        "colab": {
          "base_uri": "https://localhost:8080/",
          "height": 281
        },
        "id": "K2JSMEaJ39tt",
        "outputId": "e41be4ae-7295-4d22-e906-449069510ff6"
      },
      "source": [
        "# Visualize accuracy vs val_accuracy history\n",
        "accuracy = history.history['accuracy']\n",
        "val_accuracy = history.history['val_accuracy']\n",
        "epoch_count = range(1, len(accuracy) + 1)\n",
        "plt.plot(epoch_count, accuracy, 'r--')\n",
        "plt.plot(epoch_count, val_accuracy, 'b-')\n",
        "plt.legend(['Training Accuracy', 'Test set Accuracy'])\n",
        "plt.xlabel('Epoch')\n",
        "plt.ylabel('Accuracy')\n",
        "plt.show()"
      ],
      "execution_count": null,
      "outputs": [
        {
          "output_type": "display_data",
          "data": {
            "image/png": "[encoded data removed]",
            "text/plain": [
              "<Figure size 432x288 with 1 Axes>"
            ]
          },
          "metadata": {
            "tags": [],
            "needs_background": "light"
          }
        }
      ]
    },
    {
      "cell_type": "markdown",
      "metadata": {
        "id": "VMvkzUeZFFa7"
      },
      "source": [
        "In our final model, as we can see from picture, before epoch=80 training accuracy is always greater than test accuracy. Because we have a high dropout rate(0.7 compared with 0.0 previously) which will disable neurons and sample is lost, then subsequent layers attempt to construct the output based on incomplete input.  \n",
        "\n",
        "After epoch reach to 80+, during validation all of the sample are available, so the cnn has its full computational power so the test accuracy may be greater than training accuracy, so test set might perform a little better than training set after full computational power. The loss of test set is higher because it has a smaller size than training set."
      ]
    },
    {
      "cell_type": "code",
      "metadata": {
        "colab": {
          "base_uri": "https://localhost:8080/"
        },
        "id": "vrAN7CddDZ4n",
        "outputId": "5cf50088-6d94-42e5-ccd0-93d70263ba6e"
      },
      "source": [
        "\n",
        "unique1, counts1 = np.unique(y_train, return_counts=True)\n",
        "print(dict(zip(unique1, counts1/len(y_train))))\n"
      ],
      "execution_count": null,
      "outputs": [
        {
          "output_type": "stream",
          "text": [
            "{0: 0.09625, 1: 0.1075, 2: 0.10375, 3: 0.0925, 4: 0.11125, 5: 0.08625, 6: 0.0875, 7: 0.12125, 8: 0.08875, 9: 0.105}\n"
          ],
          "name": "stdout"
        }
      ]
    },
    {
      "cell_type": "code",
      "metadata": {
        "colab": {
          "base_uri": "https://localhost:8080/"
        },
        "id": "4OiNumIQELQf",
        "outputId": "8750079b-819b-4ca5-ccab-d023b0ac3c76"
      },
      "source": [
        "unique, counts = np.unique(y_test, return_counts=True)\n",
        "print(dict(zip(unique, counts/len(y_test))))"
      ],
      "execution_count": null,
      "outputs": [
        {
          "output_type": "stream",
          "text": [
            "{0: 0.1, 1: 0.15, 2: 0.08, 3: 0.095, 4: 0.08, 5: 0.115, 6: 0.12, 7: 0.1, 8: 0.08, 9: 0.08}\n"
          ],
          "name": "stdout"
        }
      ]
    },
    {
      "cell_type": "code",
      "metadata": {
        "colab": {
          "base_uri": "https://localhost:8080/"
        },
        "id": "fKOU7onPHK8a",
        "outputId": "6e66536c-a334-4410-b8d9-3225f053b5c3"
      },
      "source": [
        "unique2, counts2 = np.unique(y, return_counts=True)\n",
        "print(dict(zip(unique2, counts2/len(y))))"
      ],
      "execution_count": null,
      "outputs": [
        {
          "output_type": "stream",
          "text": [
            "{0: 0.097, 1: 0.116, 2: 0.099, 3: 0.093, 4: 0.105, 5: 0.092, 6: 0.094, 7: 0.117, 8: 0.087, 9: 0.1}\n"
          ],
          "name": "stdout"
        }
      ]
    },
    {
      "cell_type": "markdown",
      "metadata": {
        "id": "b9d_7O_swS8s"
      },
      "source": [
        "* **Results on the test set**. When doing this search for good model configuration/hyper-parameter values, the data set was split into *two* parts: a training set and a test set (the term \"validation\" was used interchangably wiht \"test\"). For your final model, is the performance (i.e. accuracy) on the test set representative for the performance one would expect on a previously unseen data set (drawn from the same distribution)? Why?\n",
        "\n",
        "    <span style=\"color:red\"> \n",
        "    * Answer: \n",
        "    \n",
        "    * From above figures, we can see training accuracy and test accuracy reach almost the same optimal value, and also test set and train set have close distribution of 10 digits which can reflect the distribution of the whole datasets, so the performance on the test set can representative for the performance one would expect on a previously unseen data set drawn from the same distribution.\n",
        "    * If we want to have more accurate cross-validation test set, we can use StratifiedKFold() to preserve the percentage of samples for each class. </span>\n"
      ]
    },
    {
      "cell_type": "markdown",
      "metadata": {
        "id": "IFOZCmiDwS8s"
      },
      "source": [
        "## Further information\n",
        "For ideas about hyper-parameter tuning, take a look at the strategies described in the sklearn documentation under [model selection](https://scikit-learn.org/stable/model_selection.html), or in this [blog post](https://blog.tensorflow.org/2020/01/hyperparameter-tuning-with-keras-tuner.html) from TensorFlow. For a more thorough discussion about optimizers see [this video](https://www.youtube.com/watch?v=DiNzQP7kK-s) discussing the article [Descending through a Crowded Valley -- Benchmarking Deep Learning Optimizers](https://arxiv.org/abs/2007.01547).\n",
        "\n",
        "\n",
        "**Good luck!**"
      ]
    }
  ]
}