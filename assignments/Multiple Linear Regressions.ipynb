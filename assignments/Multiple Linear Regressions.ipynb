{
  "nbformat": 4,
  "nbformat_minor": 0,
  "metadata": {
    "kernelspec": {
      "display_name": "Python 3",
      "language": "python",
      "name": "python3"
    },
    "language_info": {
      "codemirror_mode": {
        "name": "ipython",
        "version": 3
      },
      "file_extension": ".py",
      "mimetype": "text/x-python",
      "name": "python",
      "nbconvert_exporter": "python",
      "pygments_lexer": "ipython3",
      "version": "3.6.5"
    },
    "colab": {
      "name": "Bingxuan_Han_Exercise4 - Multiple Linear Regression.ipynb",
      "provenance": [],
      "toc_visible": true
    }
  },
  "cells": [
    {
      "cell_type": "markdown",
      "metadata": {
        "id": "klbKtXMOQiL6"
      },
      "source": [
        "# MMAI5040 - Business Application of AI 1\n",
        "\n",
        "## Class 4.1 Regression Frameworks for Machine Learning: Multiple Linear Regressions"
      ]
    },
    {
      "cell_type": "markdown",
      "metadata": {
        "id": "H15IswSQQiL_"
      },
      "source": [
        "Import required packages"
      ]
    },
    {
      "cell_type": "code",
      "metadata": {
        "colab": {
          "base_uri": "https://localhost:8080/"
        },
        "id": "Z26P511uQvdl",
        "outputId": "fc31d848-692d-404a-f6ab-16db8e331a78"
      },
      "source": [
        "!pip install dmba"
      ],
      "execution_count": null,
      "outputs": [
        {
          "output_type": "stream",
          "text": [
            "Collecting dmba\n",
            "  Downloading https://files.pythonhosted.org/packages/44/7e/22fc51d7f54ac4662c5edcf0133083499bbea91bd6a6beb0c5b13f565a20/dmba-0.0.13-py3-none-any.whl\n",
            "Installing collected packages: dmba\n",
            "Successfully installed dmba-0.0.13\n"
          ],
          "name": "stdout"
        }
      ]
    },
    {
      "cell_type": "code",
      "metadata": {
        "colab": {
          "base_uri": "https://localhost:8080/"
        },
        "id": "8QU7zRbzQiMA",
        "outputId": "f219521a-95a8-4a4a-a167-a8f9caad5ec7"
      },
      "source": [
        "%matplotlib inline\n",
        "from pathlib import Path\n",
        "\n",
        "import pandas as pd\n",
        "from sklearn.model_selection import train_test_split\n",
        "from sklearn.linear_model import LinearRegression, Lasso, Ridge, LassoCV, BayesianRidge\n",
        "import statsmodels.formula.api as sm\n",
        "import matplotlib.pylab as plt\n",
        "\n",
        "from dmba import regressionSummary, exhaustive_search\n",
        "from dmba import backward_elimination, forward_selection, stepwise_selection\n",
        "from dmba import adjusted_r2_score, AIC_score, BIC_score\n"
      ],
      "execution_count": null,
      "outputs": [
        {
          "output_type": "stream",
          "text": [
            "no display found. Using non-interactive Agg backend\n"
          ],
          "name": "stdout"
        }
      ]
    },
    {
      "cell_type": "markdown",
      "metadata": {
        "id": "koYODP0lQiMB"
      },
      "source": [
        "## Load data and run linear regression model with scikits Linear Regression method"
      ]
    },
    {
      "cell_type": "code",
      "metadata": {
        "colab": {
          "base_uri": "https://localhost:8080/"
        },
        "id": "LQXKanB5QiMB",
        "outputId": "3ce5e31d-92e4-40e2-a67b-f108b459a68d"
      },
      "source": [
        "# Reduce data frame to the top 1000 rows and select columns for regression analysis\n",
        "car_df = pd.read_csv('ToyotaCorolla.csv')\n",
        "car_df = car_df.iloc[0:1000]\n",
        "\n",
        "# select outcome and predictor variables\n",
        "predictors = ['Age_08_04', 'KM', 'Fuel_Type', 'HP', 'Met_Color', 'Automatic', 'CC', 'Doors', 'Quarterly_Tax', 'Weight']\n",
        "outcome = 'Price'\n",
        "\n",
        "# partition data\n",
        "X = pd.get_dummies(car_df[predictors], drop_first=True) # creates (n-1) dummies for categorical predictor Fuel-type\n",
        "y = car_df[outcome]\n",
        "train_X, valid_X, train_y, valid_y = train_test_split(X, y, test_size=0.4, random_state=1)\n",
        "\n",
        "# fit a linear regression model\n",
        "car_lm = LinearRegression()\n",
        "car_lm.fit(train_X, train_y)\n",
        "\n",
        "# print coefficients\n",
        "print('intercept ', car_lm.intercept_)\n",
        "print(pd.DataFrame({'Predictor': X.columns, 'coefficient': car_lm.coef_}))\n",
        "\n",
        "# print performance measures\n",
        "regressionSummary(train_y, car_lm.predict(train_X))"
      ],
      "execution_count": null,
      "outputs": [
        {
          "output_type": "stream",
          "text": [
            "intercept  -1319.3543800412208\n",
            "           Predictor  coefficient\n",
            "0          Age_08_04  -140.748761\n",
            "1                 KM    -0.017840\n",
            "2                 HP    36.103419\n",
            "3          Met_Color    84.281830\n",
            "4          Automatic   416.781954\n",
            "5                 CC     0.017737\n",
            "6              Doors   -50.657863\n",
            "7      Quarterly_Tax    13.625325\n",
            "8             Weight    13.038711\n",
            "9   Fuel_Type_Diesel  1066.464681\n",
            "10  Fuel_Type_Petrol  2310.249543\n",
            "\n",
            "Regression statistics\n",
            "\n",
            "                      Mean Error (ME) : 0.0000\n",
            "       Root Mean Squared Error (RMSE) : 1400.5823\n",
            "            Mean Absolute Error (MAE) : 1046.9072\n",
            "          Mean Percentage Error (MPE) : -1.0223\n",
            "Mean Absolute Percentage Error (MAPE) : 9.2994\n"
          ],
          "name": "stdout"
        }
      ]
    },
    {
      "cell_type": "code",
      "metadata": {
        "colab": {
          "base_uri": "https://localhost:8080/"
        },
        "id": "ltBkZJbkQiMC",
        "outputId": "f8e2914f-cf26-4b75-8386-1964fdf0fa4e"
      },
      "source": [
        "pred_y = car_lm.predict(train_X)\n",
        "\n",
        "print('adjusted r2 : ', adjusted_r2_score(train_y, pred_y, car_lm))\n",
        "print('AIC : ', AIC_score(train_y, pred_y, car_lm))\n",
        "print('BIC : ', BIC_score(train_y, pred_y, car_lm))"
      ],
      "execution_count": null,
      "outputs": [
        {
          "output_type": "stream",
          "text": [
            "adjusted r2 :  0.8537958550253093\n",
            "AIC :  10422.298278332171\n",
            "BIC :  10479.45836384998\n"
          ],
          "name": "stdout"
        }
      ]
    },
    {
      "cell_type": "code",
      "metadata": {
        "colab": {
          "base_uri": "https://localhost:8080/"
        },
        "id": "z50Z1Gk1QiMD",
        "outputId": "ebb5c088-9282-46db-a193-a693de99fc75"
      },
      "source": [
        "# Use predict() to make predictions on a new set\n",
        "car_lm_pred = car_lm.predict(valid_X)\n",
        "\n",
        "result = pd.DataFrame({'Predicted': car_lm_pred, 'Actual': valid_y,\n",
        "                       'Residual': valid_y - car_lm_pred})\n",
        "print(result.head(20))\n",
        "\n",
        "# Compute common accuracy measures\n",
        "regressionSummary(valid_y, car_lm_pred)"
      ],
      "execution_count": null,
      "outputs": [
        {
          "output_type": "stream",
          "text": [
            "        Predicted  Actual     Residual\n",
            "507  10607.333940   11500   892.666060\n",
            "818   9272.705792    8950  -322.705792\n",
            "452  10617.947808   11450   832.052192\n",
            "368  13600.396275   11450 -2150.396275\n",
            "242  12396.694660   11950  -446.694660\n",
            "929   9496.498212    9995   498.501788\n",
            "262  12480.063217   13500  1019.936783\n",
            "810   8834.146068    7950  -884.146068\n",
            "318  12183.361282    9900 -2283.361282\n",
            "49   19206.965683   21950  2743.034317\n",
            "446  10987.498309   11950   962.501691\n",
            "142  18501.527375   19950  1448.472625\n",
            "968   9914.690947    9950    35.309053\n",
            "345  13827.299932   14950  1122.700068\n",
            "971   7966.732543   10495  2528.267457\n",
            "133  17185.242041   15950 -1235.242041\n",
            "104  19952.658062   19450  -502.658062\n",
            "6    16570.609280   16900   329.390720\n",
            "600  13739.409113   11250 -2489.409113\n",
            "496  11267.513740   11750   482.486260\n",
            "\n",
            "Regression statistics\n",
            "\n",
            "                      Mean Error (ME) : 103.6803\n",
            "       Root Mean Squared Error (RMSE) : 1312.8523\n",
            "            Mean Absolute Error (MAE) : 1017.5972\n",
            "          Mean Percentage Error (MPE) : -0.2633\n",
            "Mean Absolute Percentage Error (MAPE) : 9.0111\n"
          ],
          "name": "stdout"
        }
      ]
    },
    {
      "cell_type": "code",
      "metadata": {
        "colab": {
          "base_uri": "https://localhost:8080/"
        },
        "id": "oOnGr2nJQiMD",
        "outputId": "7d89c376-ece6-4e64-e9ae-2cc0a329b76c"
      },
      "source": [
        "# Determine the residuals and create a histogram\n",
        "car_lm_pred = car_lm.predict(valid_X)\n",
        "all_residuals = valid_y - car_lm_pred\n",
        "\n",
        "# Determine the percentage of datapoints with a residual in [-1406, 1406] = approx. 75\\%\n",
        "print(len(all_residuals[(all_residuals > -1406) & (all_residuals < 1406)]) / len(all_residuals))\n",
        "\n",
        "ax = pd.DataFrame({'Residuals': all_residuals}).hist(bins=25)\n",
        "\n",
        "plt.tight_layout()\n",
        "plt.show()"
      ],
      "execution_count": null,
      "outputs": [
        {
          "output_type": "stream",
          "text": [
            "0.7425\n"
          ],
          "name": "stdout"
        }
      ]
    },
    {
      "cell_type": "markdown",
      "metadata": {
        "id": "9qdz_ka2QiME"
      },
      "source": [
        "## Selecting Predictor Subsets"
      ]
    },
    {
      "cell_type": "markdown",
      "metadata": {
        "id": "XfLYvyM7QiME"
      },
      "source": [
        "### Exhaustive search"
      ]
    },
    {
      "cell_type": "code",
      "metadata": {
        "colab": {
          "base_uri": "https://localhost:8080/"
        },
        "id": "ENijcCzGQiME",
        "outputId": "035726fc-afeb-434f-bf32-bb4ed24c08fa"
      },
      "source": [
        "# Run an exhaustive search. The Fuel type column is categorical and needs to be converted into dummy variables.\n",
        "\n",
        "def train_model(variables):\n",
        "    model = LinearRegression()\n",
        "    model.fit(train_X[variables], train_y)\n",
        "    return model\n",
        "\n",
        "def score_model(model, variables):\n",
        "    pred_y = model.predict(train_X[variables])\n",
        "    # we negate as score is optimized to be as low as possible\n",
        "    return -adjusted_r2_score(train_y, pred_y, model)\n",
        "\n",
        "allVariables = train_X.columns\n",
        "results = exhaustive_search(allVariables, train_model, score_model)\n",
        "\n",
        "data = []\n",
        "for result in results:\n",
        "    model = result['model']\n",
        "    variables = result['variables']\n",
        "    AIC = AIC_score(train_y, model.predict(train_X[variables]), model)\n",
        "    \n",
        "    d = {'n': result['n'], 'r2adj': -result['score'], 'AIC': AIC}\n",
        "    d.update({var: var in result['variables'] for var in allVariables})\n",
        "    data.append(d)\n",
        "pd.set_option('display.width', 100)\n",
        "print(pd.DataFrame(data, columns=('n', 'r2adj', 'AIC') + tuple(sorted(allVariables))))\n",
        "pd.reset_option('display.width')"
      ],
      "execution_count": null,
      "outputs": [
        {
          "output_type": "stream",
          "text": [
            "     n     r2adj           AIC  ...  Met_Color  Quarterly_Tax  Weight\n",
            "0    1  0.767901  10689.712094  ...      False          False   False\n",
            "1    2  0.801160  10597.910645  ...      False          False   False\n",
            "2    3  0.829659  10506.084235  ...      False          False    True\n",
            "3    4  0.846357  10445.174820  ...      False          False    True\n",
            "4    5  0.849044  10435.578836  ...      False           True    True\n",
            "5    6  0.853172  10419.932278  ...      False           True    True\n",
            "6    7  0.853860  10418.104025  ...      False           True    True\n",
            "7    8  0.854297  10417.290103  ...      False           True    True\n",
            "8    9  0.854172  10418.789079  ...      False           True    True\n",
            "9   10  0.854036  10420.330800  ...       True           True    True\n",
            "10  11  0.853796  10422.298278  ...       True           True    True\n",
            "\n",
            "[11 rows x 14 columns]\n"
          ],
          "name": "stdout"
        }
      ]
    },
    {
      "cell_type": "markdown",
      "metadata": {
        "id": "GsXNCS1vQiMF"
      },
      "source": [
        "### Backward Elimination"
      ]
    },
    {
      "cell_type": "code",
      "metadata": {
        "colab": {
          "base_uri": "https://localhost:8080/"
        },
        "id": "fqsZg_2JQiMF",
        "outputId": "d50e72d8-1173-46a4-bdb3-9f615f81125e"
      },
      "source": [
        "# Backward Elimination\n",
        "\n",
        "def train_model(variables):\n",
        "    model = LinearRegression()\n",
        "    model.fit(train_X[variables], train_y)\n",
        "    return model\n",
        "\n",
        "def score_model(model, variables):\n",
        "    return AIC_score(train_y, model.predict(train_X[variables]), model)\n",
        "\n",
        "best_model, best_variables = backward_elimination(train_X.columns, train_model, score_model, verbose=True)\n",
        "\n",
        "print(best_variables)"
      ],
      "execution_count": null,
      "outputs": [
        {
          "output_type": "stream",
          "text": [
            "Variables: Age_08_04, KM, HP, Met_Color, Automatic, CC, Doors, Quarterly_Tax, Weight, Fuel_Type_Diesel, Fuel_Type_Petrol\n",
            "Start: score=10422.30\n",
            "Step: score=10420.33, remove CC\n",
            "Step: score=10418.79, remove Met_Color\n",
            "Step: score=10417.29, remove Doors\n",
            "Step: score=10417.29, remove None\n",
            "['Age_08_04', 'KM', 'HP', 'Automatic', 'Quarterly_Tax', 'Weight', 'Fuel_Type_Diesel', 'Fuel_Type_Petrol']\n"
          ],
          "name": "stdout"
        }
      ]
    },
    {
      "cell_type": "markdown",
      "metadata": {
        "id": "Dkw4EL7VQiMF"
      },
      "source": [
        "### Forward Selection"
      ]
    },
    {
      "cell_type": "code",
      "metadata": {
        "colab": {
          "base_uri": "https://localhost:8080/"
        },
        "id": "tE7EKCGfQiMF",
        "outputId": "55f4b0e2-b25c-42aa-c877-0a1c33016991"
      },
      "source": [
        "# Forward Selection\n",
        "\n",
        "# The initial model is the constant model - this requires special handling\n",
        "# in train_model and score_model\n",
        "def train_model(variables):\n",
        "    if len(variables) == 0:\n",
        "        return None\n",
        "    model = LinearRegression()\n",
        "    model.fit(train_X[variables], train_y)\n",
        "    return model\n",
        "\n",
        "def score_model(model, variables):\n",
        "    if len(variables) == 0:\n",
        "        return AIC_score(train_y, [train_y.mean()] * len(train_y), model, df=1)\n",
        "    return AIC_score(train_y, model.predict(train_X[variables]), model)\n",
        "\n",
        "best_model, best_variables = forward_selection(train_X.columns, train_model, score_model, verbose=True)\n",
        "\n",
        "print(best_variables)"
      ],
      "execution_count": null,
      "outputs": [
        {
          "output_type": "stream",
          "text": [
            "Variables: Age_08_04, KM, HP, Met_Color, Automatic, CC, Doors, Quarterly_Tax, Weight, Fuel_Type_Diesel, Fuel_Type_Petrol\n",
            "Start: score=11565.07, constant\n",
            "Step: score=10689.71, add Age_08_04\n",
            "Step: score=10597.91, add HP\n",
            "Step: score=10506.08, add Weight\n",
            "Step: score=10445.17, add KM\n",
            "Step: score=10435.58, add Quarterly_Tax\n",
            "Step: score=10419.93, add Fuel_Type_Petrol\n",
            "Step: score=10418.10, add Fuel_Type_Diesel\n",
            "Step: score=10417.29, add Automatic\n",
            "Step: score=10417.29, add None\n",
            "['Age_08_04', 'HP', 'Weight', 'KM', 'Quarterly_Tax', 'Fuel_Type_Petrol', 'Fuel_Type_Diesel', 'Automatic']\n"
          ],
          "name": "stdout"
        }
      ]
    },
    {
      "cell_type": "markdown",
      "metadata": {
        "id": "JQsl22GLQiMG"
      },
      "source": [
        "### Shrinkage Methods"
      ]
    },
    {
      "cell_type": "code",
      "metadata": {
        "colab": {
          "base_uri": "https://localhost:8080/"
        },
        "id": "UHoaet2aQiMG",
        "outputId": "ab3b17b2-3972-4562-cc2c-58b53ffff0e3"
      },
      "source": [
        "# Regularized (Shrinkage) Methods \n",
        "\n",
        "lasso = Lasso(normalize=True, alpha=1)\n",
        "lasso.fit(train_X, train_y)\n",
        "regressionSummary(valid_y, lasso.predict(valid_X))\n",
        "\n",
        "lasso_cv = LassoCV(normalize=True, cv=5)\n",
        "lasso_cv.fit(train_X, train_y)\n",
        "regressionSummary(valid_y, lasso_cv.predict(valid_X))\n",
        "print('Lasso-CV chosen regularization: ', lasso_cv.alpha_)\n",
        "print(lasso_cv.coef_)\n",
        "\n",
        "ridge = Ridge(normalize=True, alpha=1)\n",
        "ridge.fit(train_X, train_y)\n",
        "regressionSummary(valid_y, ridge.predict(valid_X))\n",
        "\n",
        "bayesianRidge = BayesianRidge(normalize=True)\n",
        "bayesianRidge.fit(train_X, train_y)\n",
        "regressionSummary(valid_y, bayesianRidge.predict(valid_X))\n",
        "print('Bayesian ridge chosen regularization: ', bayesianRidge.lambda_ / bayesianRidge.alpha_)"
      ],
      "execution_count": null,
      "outputs": [
        {
          "output_type": "stream",
          "text": [
            "\n",
            "Regression statistics\n",
            "\n",
            "                      Mean Error (ME) : 120.6311\n",
            "       Root Mean Squared Error (RMSE) : 1332.2752\n",
            "            Mean Absolute Error (MAE) : 1021.5286\n",
            "          Mean Percentage Error (MPE) : -0.2364\n",
            "Mean Absolute Percentage Error (MAPE) : 9.0115\n",
            "\n",
            "Regression statistics\n",
            "\n",
            "                      Mean Error (ME) : 145.1571\n",
            "       Root Mean Squared Error (RMSE) : 1397.9428\n",
            "            Mean Absolute Error (MAE) : 1052.4649\n",
            "          Mean Percentage Error (MPE) : -0.2966\n",
            "Mean Absolute Percentage Error (MAPE) : 9.2918\n",
            "Lasso-CV chosen regularization:  3.5138446691310588\n",
            "[-1.40370575e+02 -1.76669006e-02  3.38674037e+01  0.00000000e+00\n",
            "  6.94393427e+01  0.00000000e+00  0.00000000e+00  2.70913468e+00\n",
            "  1.24342596e+01 -0.00000000e+00  0.00000000e+00]\n",
            "\n",
            "Regression statistics\n",
            "\n",
            "                      Mean Error (ME) : 154.3286\n",
            "       Root Mean Squared Error (RMSE) : 1879.7426\n",
            "            Mean Absolute Error (MAE) : 1353.2735\n",
            "          Mean Percentage Error (MPE) : -2.3897\n",
            "Mean Absolute Percentage Error (MAPE) : 11.1309\n",
            "\n",
            "Regression statistics\n",
            "\n",
            "                      Mean Error (ME) : 105.5382\n",
            "       Root Mean Squared Error (RMSE) : 1313.0217\n",
            "            Mean Absolute Error (MAE) : 1017.2356\n",
            "          Mean Percentage Error (MPE) : -0.2703\n",
            "Mean Absolute Percentage Error (MAPE) : 9.0012\n",
            "Bayesian ridge chosen regularization:  0.004622833439968832\n"
          ],
          "name": "stdout"
        }
      ]
    },
    {
      "cell_type": "code",
      "metadata": {
        "id": "YOiVLKsvQiMG"
      },
      "source": [
        "### Compare regularization models with normal linear regression "
      ],
      "execution_count": null,
      "outputs": []
    },
    {
      "cell_type": "code",
      "metadata": {
        "colab": {
          "base_uri": "https://localhost:8080/"
        },
        "id": "X5CO3XnIQiMG",
        "outputId": "0b138be0-7ab8-4593-cb73-3c31cf3eaf3d"
      },
      "source": [
        "linearRegression = LinearRegression(normalize=True).fit(train_X, train_y)\n",
        "regressionSummary(valid_y, linearRegression.predict(valid_X))"
      ],
      "execution_count": null,
      "outputs": [
        {
          "output_type": "stream",
          "text": [
            "\n",
            "Regression statistics\n",
            "\n",
            "                      Mean Error (ME) : 103.6803\n",
            "       Root Mean Squared Error (RMSE) : 1312.8523\n",
            "            Mean Absolute Error (MAE) : 1017.5972\n",
            "          Mean Percentage Error (MPE) : -0.2633\n",
            "Mean Absolute Percentage Error (MAPE) : 9.0111\n"
          ],
          "name": "stdout"
        }
      ]
    },
    {
      "cell_type": "code",
      "metadata": {
        "colab": {
          "base_uri": "https://localhost:8080/",
          "height": 386
        },
        "id": "c3y83MhwQiMH",
        "outputId": "007d98f3-3028-48d9-d758-4b4bbf47ef92"
      },
      "source": [
        "pd.DataFrame({'features': train_X.columns, 'linear regression': linearRegression.coef_, \n",
        "              'lassoCV': lasso_cv.coef_, 'bayesianRidge': bayesianRidge.coef_})\n",
        "\n",
        "## Examine the output, note that Lasso model performs slightly worse than normal linear regression\n",
        "## Lasso to a model with 6 predictors, while the regularization parameter derived with BayesianRidge regression is very small. \n",
        "## Overall, this indicates that this dataset does not beneft from regularization\n",
        "## However, these methods are most beneficial when the dataset contains a large number of highly correlated predictors."
      ],
      "execution_count": null,
      "outputs": [
        {
          "output_type": "execute_result",
          "data": {
            "text/html": [
              "<div>\n",
              "<style scoped>\n",
              "    .dataframe tbody tr th:only-of-type {\n",
              "        vertical-align: middle;\n",
              "    }\n",
              "\n",
              "    .dataframe tbody tr th {\n",
              "        vertical-align: top;\n",
              "    }\n",
              "\n",
              "    .dataframe thead th {\n",
              "        text-align: right;\n",
              "    }\n",
              "</style>\n",
              "<table border=\"1\" class=\"dataframe\">\n",
              "  <thead>\n",
              "    <tr style=\"text-align: right;\">\n",
              "      <th></th>\n",
              "      <th>features</th>\n",
              "      <th>linear regression</th>\n",
              "      <th>lassoCV</th>\n",
              "      <th>bayesianRidge</th>\n",
              "    </tr>\n",
              "  </thead>\n",
              "  <tbody>\n",
              "    <tr>\n",
              "      <th>0</th>\n",
              "      <td>Age_08_04</td>\n",
              "      <td>-140.748761</td>\n",
              "      <td>-140.370575</td>\n",
              "      <td>-139.754059</td>\n",
              "    </tr>\n",
              "    <tr>\n",
              "      <th>1</th>\n",
              "      <td>KM</td>\n",
              "      <td>-0.017840</td>\n",
              "      <td>-0.017667</td>\n",
              "      <td>-0.018131</td>\n",
              "    </tr>\n",
              "    <tr>\n",
              "      <th>2</th>\n",
              "      <td>HP</td>\n",
              "      <td>36.103419</td>\n",
              "      <td>33.867404</td>\n",
              "      <td>35.856074</td>\n",
              "    </tr>\n",
              "    <tr>\n",
              "      <th>3</th>\n",
              "      <td>Met_Color</td>\n",
              "      <td>84.281830</td>\n",
              "      <td>0.000000</td>\n",
              "      <td>85.088966</td>\n",
              "    </tr>\n",
              "    <tr>\n",
              "      <th>4</th>\n",
              "      <td>Automatic</td>\n",
              "      <td>416.781954</td>\n",
              "      <td>69.439343</td>\n",
              "      <td>408.599781</td>\n",
              "    </tr>\n",
              "    <tr>\n",
              "      <th>5</th>\n",
              "      <td>CC</td>\n",
              "      <td>0.017737</td>\n",
              "      <td>0.000000</td>\n",
              "      <td>0.020405</td>\n",
              "    </tr>\n",
              "    <tr>\n",
              "      <th>6</th>\n",
              "      <td>Doors</td>\n",
              "      <td>-50.657863</td>\n",
              "      <td>0.000000</td>\n",
              "      <td>-47.917629</td>\n",
              "    </tr>\n",
              "    <tr>\n",
              "      <th>7</th>\n",
              "      <td>Quarterly_Tax</td>\n",
              "      <td>13.625325</td>\n",
              "      <td>2.709135</td>\n",
              "      <td>13.269979</td>\n",
              "    </tr>\n",
              "    <tr>\n",
              "      <th>8</th>\n",
              "      <td>Weight</td>\n",
              "      <td>13.038711</td>\n",
              "      <td>12.434260</td>\n",
              "      <td>13.114412</td>\n",
              "    </tr>\n",
              "    <tr>\n",
              "      <th>9</th>\n",
              "      <td>Fuel_Type_Diesel</td>\n",
              "      <td>1066.464681</td>\n",
              "      <td>-0.000000</td>\n",
              "      <td>955.581484</td>\n",
              "    </tr>\n",
              "    <tr>\n",
              "      <th>10</th>\n",
              "      <td>Fuel_Type_Petrol</td>\n",
              "      <td>2310.249543</td>\n",
              "      <td>0.000000</td>\n",
              "      <td>2162.115763</td>\n",
              "    </tr>\n",
              "  </tbody>\n",
              "</table>\n",
              "</div>"
            ],
            "text/plain": [
              "            features  linear regression     lassoCV  bayesianRidge\n",
              "0          Age_08_04        -140.748761 -140.370575    -139.754059\n",
              "1                 KM          -0.017840   -0.017667      -0.018131\n",
              "2                 HP          36.103419   33.867404      35.856074\n",
              "3          Met_Color          84.281830    0.000000      85.088966\n",
              "4          Automatic         416.781954   69.439343     408.599781\n",
              "5                 CC           0.017737    0.000000       0.020405\n",
              "6              Doors         -50.657863    0.000000     -47.917629\n",
              "7      Quarterly_Tax          13.625325    2.709135      13.269979\n",
              "8             Weight          13.038711   12.434260      13.114412\n",
              "9   Fuel_Type_Diesel        1066.464681   -0.000000     955.581484\n",
              "10  Fuel_Type_Petrol        2310.249543    0.000000    2162.115763"
            ]
          },
          "metadata": {
            "tags": []
          },
          "execution_count": 17
        }
      ]
    },
    {
      "cell_type": "markdown",
      "metadata": {
        "id": "9lorm9tDQiMH"
      },
      "source": [
        "## Linear Regression with Statsmodel's sm.ols method (alternative to scikits' lm method)"
      ]
    },
    {
      "cell_type": "code",
      "metadata": {
        "colab": {
          "base_uri": "https://localhost:8080/"
        },
        "id": "m0A0WHjOQiMH",
        "outputId": "df4e95ee-6cc7-4077-d6f8-516206f7c7a8"
      },
      "source": [
        "# Run a linear regression of Price on the attributes using Statsmodel\n",
        "train_df = train_X.join(train_y)\n",
        "\n",
        "predictors = train_X.columns\n",
        "formula = 'Price ~ ' + ' + '.join(predictors)\n",
        "\n",
        "car_lm = sm.ols(formula=formula, data=train_df).fit()\n",
        "print(car_lm.summary())\n",
        "\n",
        "# compare output ==> similar to lm but more extensive to facilitate non-predictive tasks e.g. statistical inference"
      ],
      "execution_count": null,
      "outputs": [
        {
          "output_type": "stream",
          "text": [
            "                            OLS Regression Results                            \n",
            "==============================================================================\n",
            "Dep. Variable:                  Price   R-squared:                       0.856\n",
            "Model:                            OLS   Adj. R-squared:                  0.854\n",
            "Method:                 Least Squares   F-statistic:                     319.0\n",
            "Date:                Sat, 06 Feb 2021   Prob (F-statistic):          1.73e-239\n",
            "Time:                        02:56:09   Log-Likelihood:                -5198.1\n",
            "No. Observations:                 600   AIC:                         1.042e+04\n",
            "Df Residuals:                     588   BIC:                         1.047e+04\n",
            "Df Model:                          11                                         \n",
            "Covariance Type:            nonrobust                                         \n",
            "====================================================================================\n",
            "                       coef    std err          t      P>|t|      [0.025      0.975]\n",
            "------------------------------------------------------------------------------------\n",
            "Intercept        -1319.3544   1728.427     -0.763      0.446   -4713.997    2075.288\n",
            "Age_08_04         -140.7488      5.142    -27.374      0.000    -150.847    -130.650\n",
            "KM                  -0.0178      0.002     -7.286      0.000      -0.023      -0.013\n",
            "HP                  36.1034      5.321      6.785      0.000      25.653      46.554\n",
            "Met_Color           84.2818    127.005      0.664      0.507    -165.158     333.721\n",
            "Automatic          416.7820    259.794      1.604      0.109     -93.454     927.018\n",
            "CC                   0.0177      0.099      0.179      0.858      -0.177       0.213\n",
            "Doors              -50.6579     65.187     -0.777      0.437    -178.686      77.371\n",
            "Quarterly_Tax       13.6253      2.518      5.411      0.000       8.680      18.571\n",
            "Weight              13.0387      1.602      8.140      0.000       9.893      16.185\n",
            "Fuel_Type_Diesel  1066.4647    527.285      2.023      0.044      30.872    2102.057\n",
            "Fuel_Type_Petrol  2310.2495    521.045      4.434      0.000    1286.914    3333.585\n",
            "==============================================================================\n",
            "Omnibus:                       62.422   Durbin-Watson:                   1.899\n",
            "Prob(Omnibus):                  0.000   Jarque-Bera (JB):              366.046\n",
            "Skew:                           0.186   Prob(JB):                     3.27e-80\n",
            "Kurtosis:                       6.808   Cond. No.                     2.20e+06\n",
            "==============================================================================\n",
            "\n",
            "Warnings:\n",
            "[1] Standard Errors assume that the covariance matrix of the errors is correctly specified.\n",
            "[2] The condition number is large, 2.2e+06. This might indicate that there are\n",
            "strong multicollinearity or other numerical problems.\n"
          ],
          "name": "stdout"
        }
      ]
    },
    {
      "cell_type": "code",
      "metadata": {
        "id": "nVR6yACRewXn"
      },
      "source": [
        "Intercept        -1319.3544   1728.427     -0.763      0.446   -4713.997    2075.288\n",
        "Age_08_04         -140.7488      5.142    -27.374      0.000    -150.847    -130.650\n",
        "KM                  -0.0178      0.002     -7.286      0.000      -0.023      -0.013\n",
        "HP                  36.1034      5.321      6.785      0.000      25.653      46.554\n",
        "Met_Color           84.2818    127.005      0.664      0.507    -165.158     333.721\n",
        "Automatic          416.7820    259.794      1.604      0.109     -93.454     927.018\n",
        "CC                   0.0177      0.099      0.179      0.858      -0.177       0.213\n",
        "Doors              -50.6579     65.187     -0.777      0.437    -178.686      77.371\n",
        "Quarterly_Tax       13.6253      2.518      5.411      0.000       8.680      18.571\n",
        "Weight              13.0387      1.602      8.140      0.000       9.893      16.185\n",
        "Fuel_Type_Diesel  1066.4647    527.285      2.023      0.044      30.872    2102.057\n",
        "Fuel_Type_Petrol "
      ],
      "execution_count": null,
      "outputs": []
    },
    {
      "cell_type": "code",
      "metadata": {
        "id": "bigWvEB1QiMI"
      },
      "source": [
        "# For regularization in statsmodel, \n",
        "## use OLS.fit_regularized and set argument \n",
        "## L1_wt=0 for ridge regression or\n",
        "## L1_wt=1 for lasso"
      ],
      "execution_count": null,
      "outputs": []
    },
    {
      "cell_type": "code",
      "metadata": {
        "id": "jnIYpe-tRKfZ"
      },
      "source": [
        "# remove p > 0.05 features\n",
        "newtrain_X = train_X[['Age_08_04', 'KM', 'HP', 'Quarterly_Tax', 'Weight', 'Fuel_Type_Diesel', 'Fuel_Type_Petrol']]\n",
        "newvalid_X=valid_X[['Age_08_04', 'KM', 'HP', 'Quarterly_Tax', 'Weight', 'Fuel_Type_Diesel', 'Fuel_Type_Petrol']]"
      ],
      "execution_count": null,
      "outputs": []
    },
    {
      "cell_type": "code",
      "metadata": {
        "colab": {
          "base_uri": "https://localhost:8080/",
          "height": 415
        },
        "id": "vp7b0Or4fO1p",
        "outputId": "fb2cc5e5-fdb5-4bc2-fdef-eeb4bccde15d"
      },
      "source": [
        "predictors"
      ],
      "execution_count": null,
      "outputs": [
        {
          "output_type": "execute_result",
          "data": {
            "text/html": [
              "<div>\n",
              "<style scoped>\n",
              "    .dataframe tbody tr th:only-of-type {\n",
              "        vertical-align: middle;\n",
              "    }\n",
              "\n",
              "    .dataframe tbody tr th {\n",
              "        vertical-align: top;\n",
              "    }\n",
              "\n",
              "    .dataframe thead th {\n",
              "        text-align: right;\n",
              "    }\n",
              "</style>\n",
              "<table border=\"1\" class=\"dataframe\">\n",
              "  <thead>\n",
              "    <tr style=\"text-align: right;\">\n",
              "      <th></th>\n",
              "      <th>Age_08_04</th>\n",
              "      <th>KM</th>\n",
              "      <th>HP</th>\n",
              "      <th>Quarterly_Tax</th>\n",
              "      <th>Weight</th>\n",
              "      <th>Fuel_Type_Diesel</th>\n",
              "      <th>Fuel_Type_Petrol</th>\n",
              "    </tr>\n",
              "  </thead>\n",
              "  <tbody>\n",
              "    <tr>\n",
              "      <th>371</th>\n",
              "      <td>35</td>\n",
              "      <td>18000</td>\n",
              "      <td>110</td>\n",
              "      <td>85</td>\n",
              "      <td>1075</td>\n",
              "      <td>0</td>\n",
              "      <td>1</td>\n",
              "    </tr>\n",
              "    <tr>\n",
              "      <th>45</th>\n",
              "      <td>23</td>\n",
              "      <td>84000</td>\n",
              "      <td>90</td>\n",
              "      <td>234</td>\n",
              "      <td>1270</td>\n",
              "      <td>1</td>\n",
              "      <td>0</td>\n",
              "    </tr>\n",
              "    <tr>\n",
              "      <th>560</th>\n",
              "      <td>54</td>\n",
              "      <td>39291</td>\n",
              "      <td>110</td>\n",
              "      <td>69</td>\n",
              "      <td>1040</td>\n",
              "      <td>0</td>\n",
              "      <td>1</td>\n",
              "    </tr>\n",
              "    <tr>\n",
              "      <th>748</th>\n",
              "      <td>61</td>\n",
              "      <td>81170</td>\n",
              "      <td>110</td>\n",
              "      <td>69</td>\n",
              "      <td>1040</td>\n",
              "      <td>0</td>\n",
              "      <td>1</td>\n",
              "    </tr>\n",
              "    <tr>\n",
              "      <th>419</th>\n",
              "      <td>55</td>\n",
              "      <td>94122</td>\n",
              "      <td>86</td>\n",
              "      <td>69</td>\n",
              "      <td>1015</td>\n",
              "      <td>0</td>\n",
              "      <td>1</td>\n",
              "    </tr>\n",
              "    <tr>\n",
              "      <th>...</th>\n",
              "      <td>...</td>\n",
              "      <td>...</td>\n",
              "      <td>...</td>\n",
              "      <td>...</td>\n",
              "      <td>...</td>\n",
              "      <td>...</td>\n",
              "      <td>...</td>\n",
              "    </tr>\n",
              "    <tr>\n",
              "      <th>767</th>\n",
              "      <td>57</td>\n",
              "      <td>78955</td>\n",
              "      <td>86</td>\n",
              "      <td>69</td>\n",
              "      <td>1045</td>\n",
              "      <td>0</td>\n",
              "      <td>1</td>\n",
              "    </tr>\n",
              "    <tr>\n",
              "      <th>72</th>\n",
              "      <td>28</td>\n",
              "      <td>28817</td>\n",
              "      <td>110</td>\n",
              "      <td>85</td>\n",
              "      <td>1130</td>\n",
              "      <td>0</td>\n",
              "      <td>1</td>\n",
              "    </tr>\n",
              "    <tr>\n",
              "      <th>908</th>\n",
              "      <td>66</td>\n",
              "      <td>58654</td>\n",
              "      <td>110</td>\n",
              "      <td>85</td>\n",
              "      <td>1070</td>\n",
              "      <td>0</td>\n",
              "      <td>1</td>\n",
              "    </tr>\n",
              "    <tr>\n",
              "      <th>235</th>\n",
              "      <td>38</td>\n",
              "      <td>60829</td>\n",
              "      <td>110</td>\n",
              "      <td>85</td>\n",
              "      <td>1075</td>\n",
              "      <td>0</td>\n",
              "      <td>1</td>\n",
              "    </tr>\n",
              "    <tr>\n",
              "      <th>37</th>\n",
              "      <td>23</td>\n",
              "      <td>10000</td>\n",
              "      <td>97</td>\n",
              "      <td>85</td>\n",
              "      <td>1100</td>\n",
              "      <td>0</td>\n",
              "      <td>1</td>\n",
              "    </tr>\n",
              "  </tbody>\n",
              "</table>\n",
              "<p>600 rows × 7 columns</p>\n",
              "</div>"
            ],
            "text/plain": [
              "     Age_08_04     KM   HP  ...  Weight  Fuel_Type_Diesel  Fuel_Type_Petrol\n",
              "371         35  18000  110  ...    1075                 0                 1\n",
              "45          23  84000   90  ...    1270                 1                 0\n",
              "560         54  39291  110  ...    1040                 0                 1\n",
              "748         61  81170  110  ...    1040                 0                 1\n",
              "419         55  94122   86  ...    1015                 0                 1\n",
              "..         ...    ...  ...  ...     ...               ...               ...\n",
              "767         57  78955   86  ...    1045                 0                 1\n",
              "72          28  28817  110  ...    1130                 0                 1\n",
              "908         66  58654  110  ...    1070                 0                 1\n",
              "235         38  60829  110  ...    1075                 0                 1\n",
              "37          23  10000   97  ...    1100                 0                 1\n",
              "\n",
              "[600 rows x 7 columns]"
            ]
          },
          "metadata": {
            "tags": []
          },
          "execution_count": 21
        }
      ]
    },
    {
      "cell_type": "code",
      "metadata": {
        "colab": {
          "base_uri": "https://localhost:8080/"
        },
        "id": "kl1C8X6WfQX_",
        "outputId": "67caa860-8994-4dcb-babb-5b2919bd5c60"
      },
      "source": [
        "lr = LinearRegression().fit(newtrain_X, train_y)\n",
        "regressionSummary(valid_y, lr.predict(newvalid_X))"
      ],
      "execution_count": null,
      "outputs": [
        {
          "output_type": "stream",
          "text": [
            "\n",
            "Regression statistics\n",
            "\n",
            "                      Mean Error (ME) : 93.8702\n",
            "       Root Mean Squared Error (RMSE) : 1309.9404\n",
            "            Mean Absolute Error (MAE) : 1015.4177\n",
            "          Mean Percentage Error (MPE) : -0.3613\n",
            "Mean Absolute Percentage Error (MAPE) : 8.9971\n"
          ],
          "name": "stdout"
        }
      ]
    },
    {
      "cell_type": "code",
      "metadata": {
        "colab": {
          "base_uri": "https://localhost:8080/"
        },
        "id": "M14B9cuef_XX",
        "outputId": "8b690dd7-d764-496a-be50-ca9850e72d81"
      },
      "source": [
        "lr = LinearRegression().fit(train_X, train_y)\n",
        "regressionSummary(valid_y, lr.predict(valid_X))"
      ],
      "execution_count": null,
      "outputs": [
        {
          "output_type": "stream",
          "text": [
            "\n",
            "Regression statistics\n",
            "\n",
            "                      Mean Error (ME) : 103.6803\n",
            "       Root Mean Squared Error (RMSE) : 1312.8523\n",
            "            Mean Absolute Error (MAE) : 1017.5972\n",
            "          Mean Percentage Error (MPE) : -0.2633\n",
            "Mean Absolute Percentage Error (MAPE) : 9.0111\n"
          ],
          "name": "stdout"
        }
      ]
    },
    {
      "cell_type": "code",
      "metadata": {
        "id": "94RgzA7Uffpo"
      },
      "source": [
        "# "
      ],
      "execution_count": null,
      "outputs": []
    },
    {
      "cell_type": "markdown",
      "metadata": {
        "id": "5riOkNZ9gbuf"
      },
      "source": [
        "         \n",
        "**Compare with previous models, new model has better lower RMSE(ME\\MAE\\MPE\\MAPE) score for test set. So it is better not use Met_Color Automatic CC Door for the model.**"
      ]
    },
    {
      "cell_type": "code",
      "metadata": {
        "id": "O0qDD_dGghvs"
      },
      "source": [
        ""
      ],
      "execution_count": null,
      "outputs": []
    }
  ]
}