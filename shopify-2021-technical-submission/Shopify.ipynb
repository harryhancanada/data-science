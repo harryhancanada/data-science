{
  "nbformat": 4,
  "nbformat_minor": 0,
  "metadata": {
    "colab": {
      "name": "Shopify.ipynb",
      "provenance": [],
      "collapsed_sections": [
        "dfYfVGPvwTWa",
        "4LiqtHvs_eG4"
      ]
    },
    "kernelspec": {
      "display_name": "Python 3",
      "name": "python3"
    },
    "language_info": {
      "name": "python"
    }
  },
  "cells": [
    {
      "cell_type": "markdown",
      "metadata": {
        "id": "dfYfVGPvwTWa"
      },
      "source": [
        "# Winter 2022 Data Science Intern Challenge \n",
        "\n",
        "*Please complete the following questions, and provide your thought process/work. You can attach your work in a text file, link, etc. on the application page. Please ensure answers are easily visible for reviewers!*\n",
        "\n",
        "\n",
        "### Question 1: Given some sample data, write a program to answer the following: click here to access the required data set\n",
        "\n",
        "On Shopify, we have exactly 100 sneaker shops, and each of these shops sells only one model of shoe. We want to do some analysis of the average order value (AOV). When we look at orders data over a 30 day window, we naively calculate an AOV of $3145.13. Given that we know these shops are selling sneakers, a relatively affordable item, something seems wrong with our analysis. \n",
        "\n",
        "\n",
        "\n",
        "1.   Think about what could be going wrong with our calculation. Think about a better way to evaluate this data. \n",
        "2.   What metric would you report for this dataset?\n",
        "3.   What is its value?\n",
        "\n",
        "### Question 2: For this question you’ll need to use SQL. Follow this link to access the data set required for the challenge. Please use queries to answer the following questions. Paste your queries along with your final numerical answers below.\n",
        "\n",
        "1. How many orders were shipped by Speedy Express in total?\n",
        "2. What is the last name of the employee with the most orders?\n",
        "3. What product was ordered the most by customers in Germany?\n",
        "\n",
        "\n",
        "\n"
      ]
    },
    {
      "cell_type": "markdown",
      "metadata": {
        "id": "4LiqtHvs_eG4"
      },
      "source": [
        "### Import Necessary library and read data from local"
      ]
    },
    {
      "cell_type": "code",
      "metadata": {
        "id": "fJ-5mKvdx7EU"
      },
      "source": [
        "import pandas as pd\n",
        "import numpy as np\n",
        "import seaborn as sns\n",
        "data = pd.read_csv(\"/content/2019 Winter Data Science Intern Challenge Data Set - Sheet1.csv\")"
      ],
      "execution_count": 47,
      "outputs": []
    },
    {
      "cell_type": "markdown",
      "metadata": {
        "id": "Tq1mm0raGh-C"
      },
      "source": [
        "# Question 1: Given some sample data, write a program to answer the following: click here to access the required data set"
      ]
    },
    {
      "cell_type": "markdown",
      "metadata": {
        "id": "15ia0jgG-iA9"
      },
      "source": [
        "### Get first look of the data"
      ]
    },
    {
      "cell_type": "code",
      "metadata": {
        "colab": {
          "base_uri": "https://localhost:8080/"
        },
        "id": "oGp-0odYEuIG",
        "outputId": "318bd97b-ef93-465f-c709-b4753cd221d5"
      },
      "source": [
        "data.info()"
      ],
      "execution_count": 3,
      "outputs": [
        {
          "output_type": "stream",
          "name": "stdout",
          "text": [
            "<class 'pandas.core.frame.DataFrame'>\n",
            "RangeIndex: 5000 entries, 0 to 4999\n",
            "Data columns (total 7 columns):\n",
            " #   Column          Non-Null Count  Dtype \n",
            "---  ------          --------------  ----- \n",
            " 0   order_id        5000 non-null   int64 \n",
            " 1   shop_id         5000 non-null   int64 \n",
            " 2   user_id         5000 non-null   int64 \n",
            " 3   order_amount    5000 non-null   int64 \n",
            " 4   total_items     5000 non-null   int64 \n",
            " 5   payment_method  5000 non-null   object\n",
            " 6   created_at      5000 non-null   object\n",
            "dtypes: int64(5), object(2)\n",
            "memory usage: 273.6+ KB\n"
          ]
        }
      ]
    },
    {
      "cell_type": "code",
      "metadata": {
        "colab": {
          "base_uri": "https://localhost:8080/",
          "height": 206
        },
        "id": "8VOBF8bMEw4l",
        "outputId": "d39bfc32-227c-4f95-dc3d-fbc5ccd5d3eb"
      },
      "source": [
        "data.head()"
      ],
      "execution_count": 4,
      "outputs": [
        {
          "output_type": "execute_result",
          "data": {
            "text/html": [
              "<div>\n",
              "<style scoped>\n",
              "    .dataframe tbody tr th:only-of-type {\n",
              "        vertical-align: middle;\n",
              "    }\n",
              "\n",
              "    .dataframe tbody tr th {\n",
              "        vertical-align: top;\n",
              "    }\n",
              "\n",
              "    .dataframe thead th {\n",
              "        text-align: right;\n",
              "    }\n",
              "</style>\n",
              "<table border=\"1\" class=\"dataframe\">\n",
              "  <thead>\n",
              "    <tr style=\"text-align: right;\">\n",
              "      <th></th>\n",
              "      <th>order_id</th>\n",
              "      <th>shop_id</th>\n",
              "      <th>user_id</th>\n",
              "      <th>order_amount</th>\n",
              "      <th>total_items</th>\n",
              "      <th>payment_method</th>\n",
              "      <th>created_at</th>\n",
              "    </tr>\n",
              "  </thead>\n",
              "  <tbody>\n",
              "    <tr>\n",
              "      <th>0</th>\n",
              "      <td>1</td>\n",
              "      <td>53</td>\n",
              "      <td>746</td>\n",
              "      <td>224</td>\n",
              "      <td>2</td>\n",
              "      <td>cash</td>\n",
              "      <td>2017-03-13 12:36:56</td>\n",
              "    </tr>\n",
              "    <tr>\n",
              "      <th>1</th>\n",
              "      <td>2</td>\n",
              "      <td>92</td>\n",
              "      <td>925</td>\n",
              "      <td>90</td>\n",
              "      <td>1</td>\n",
              "      <td>cash</td>\n",
              "      <td>2017-03-03 17:38:52</td>\n",
              "    </tr>\n",
              "    <tr>\n",
              "      <th>2</th>\n",
              "      <td>3</td>\n",
              "      <td>44</td>\n",
              "      <td>861</td>\n",
              "      <td>144</td>\n",
              "      <td>1</td>\n",
              "      <td>cash</td>\n",
              "      <td>2017-03-14 4:23:56</td>\n",
              "    </tr>\n",
              "    <tr>\n",
              "      <th>3</th>\n",
              "      <td>4</td>\n",
              "      <td>18</td>\n",
              "      <td>935</td>\n",
              "      <td>156</td>\n",
              "      <td>1</td>\n",
              "      <td>credit_card</td>\n",
              "      <td>2017-03-26 12:43:37</td>\n",
              "    </tr>\n",
              "    <tr>\n",
              "      <th>4</th>\n",
              "      <td>5</td>\n",
              "      <td>18</td>\n",
              "      <td>883</td>\n",
              "      <td>156</td>\n",
              "      <td>1</td>\n",
              "      <td>credit_card</td>\n",
              "      <td>2017-03-01 4:35:11</td>\n",
              "    </tr>\n",
              "  </tbody>\n",
              "</table>\n",
              "</div>"
            ],
            "text/plain": [
              "   order_id  shop_id  user_id  ...  total_items  payment_method           created_at\n",
              "0         1       53      746  ...            2            cash  2017-03-13 12:36:56\n",
              "1         2       92      925  ...            1            cash  2017-03-03 17:38:52\n",
              "2         3       44      861  ...            1            cash   2017-03-14 4:23:56\n",
              "3         4       18      935  ...            1     credit_card  2017-03-26 12:43:37\n",
              "4         5       18      883  ...            1     credit_card   2017-03-01 4:35:11\n",
              "\n",
              "[5 rows x 7 columns]"
            ]
          },
          "metadata": {},
          "execution_count": 4
        }
      ]
    },
    {
      "cell_type": "code",
      "metadata": {
        "colab": {
          "base_uri": "https://localhost:8080/"
        },
        "id": "pq0mrm5xEiqd",
        "outputId": "36250bac-d9dd-44c7-cb03-a41ae7bca444"
      },
      "source": [
        "data.isna().count()"
      ],
      "execution_count": 5,
      "outputs": [
        {
          "output_type": "execute_result",
          "data": {
            "text/plain": [
              "order_id          5000\n",
              "shop_id           5000\n",
              "user_id           5000\n",
              "order_amount      5000\n",
              "total_items       5000\n",
              "payment_method    5000\n",
              "created_at        5000\n",
              "dtype: int64"
            ]
          },
          "metadata": {},
          "execution_count": 5
        }
      ]
    },
    {
      "cell_type": "markdown",
      "metadata": {
        "id": "S9cKixsjEzm7"
      },
      "source": [
        "After checking the data, we could see there is no missing value in our dataset, since all columns have 5000 count as False when count NaN value."
      ]
    },
    {
      "cell_type": "code",
      "metadata": {
        "colab": {
          "base_uri": "https://localhost:8080/",
          "height": 300
        },
        "id": "fIYedO90FCds",
        "outputId": "aa52aacf-84e8-4384-e7c2-1ea36ef0446b"
      },
      "source": [
        "data.describe()"
      ],
      "execution_count": 6,
      "outputs": [
        {
          "output_type": "execute_result",
          "data": {
            "text/html": [
              "<div>\n",
              "<style scoped>\n",
              "    .dataframe tbody tr th:only-of-type {\n",
              "        vertical-align: middle;\n",
              "    }\n",
              "\n",
              "    .dataframe tbody tr th {\n",
              "        vertical-align: top;\n",
              "    }\n",
              "\n",
              "    .dataframe thead th {\n",
              "        text-align: right;\n",
              "    }\n",
              "</style>\n",
              "<table border=\"1\" class=\"dataframe\">\n",
              "  <thead>\n",
              "    <tr style=\"text-align: right;\">\n",
              "      <th></th>\n",
              "      <th>order_id</th>\n",
              "      <th>shop_id</th>\n",
              "      <th>user_id</th>\n",
              "      <th>order_amount</th>\n",
              "      <th>total_items</th>\n",
              "    </tr>\n",
              "  </thead>\n",
              "  <tbody>\n",
              "    <tr>\n",
              "      <th>count</th>\n",
              "      <td>5000.000000</td>\n",
              "      <td>5000.000000</td>\n",
              "      <td>5000.000000</td>\n",
              "      <td>5000.000000</td>\n",
              "      <td>5000.00000</td>\n",
              "    </tr>\n",
              "    <tr>\n",
              "      <th>mean</th>\n",
              "      <td>2500.500000</td>\n",
              "      <td>50.078800</td>\n",
              "      <td>849.092400</td>\n",
              "      <td>3145.128000</td>\n",
              "      <td>8.78720</td>\n",
              "    </tr>\n",
              "    <tr>\n",
              "      <th>std</th>\n",
              "      <td>1443.520003</td>\n",
              "      <td>29.006118</td>\n",
              "      <td>87.798982</td>\n",
              "      <td>41282.539349</td>\n",
              "      <td>116.32032</td>\n",
              "    </tr>\n",
              "    <tr>\n",
              "      <th>min</th>\n",
              "      <td>1.000000</td>\n",
              "      <td>1.000000</td>\n",
              "      <td>607.000000</td>\n",
              "      <td>90.000000</td>\n",
              "      <td>1.00000</td>\n",
              "    </tr>\n",
              "    <tr>\n",
              "      <th>25%</th>\n",
              "      <td>1250.750000</td>\n",
              "      <td>24.000000</td>\n",
              "      <td>775.000000</td>\n",
              "      <td>163.000000</td>\n",
              "      <td>1.00000</td>\n",
              "    </tr>\n",
              "    <tr>\n",
              "      <th>50%</th>\n",
              "      <td>2500.500000</td>\n",
              "      <td>50.000000</td>\n",
              "      <td>849.000000</td>\n",
              "      <td>284.000000</td>\n",
              "      <td>2.00000</td>\n",
              "    </tr>\n",
              "    <tr>\n",
              "      <th>75%</th>\n",
              "      <td>3750.250000</td>\n",
              "      <td>75.000000</td>\n",
              "      <td>925.000000</td>\n",
              "      <td>390.000000</td>\n",
              "      <td>3.00000</td>\n",
              "    </tr>\n",
              "    <tr>\n",
              "      <th>max</th>\n",
              "      <td>5000.000000</td>\n",
              "      <td>100.000000</td>\n",
              "      <td>999.000000</td>\n",
              "      <td>704000.000000</td>\n",
              "      <td>2000.00000</td>\n",
              "    </tr>\n",
              "  </tbody>\n",
              "</table>\n",
              "</div>"
            ],
            "text/plain": [
              "          order_id      shop_id      user_id   order_amount  total_items\n",
              "count  5000.000000  5000.000000  5000.000000    5000.000000   5000.00000\n",
              "mean   2500.500000    50.078800   849.092400    3145.128000      8.78720\n",
              "std    1443.520003    29.006118    87.798982   41282.539349    116.32032\n",
              "min       1.000000     1.000000   607.000000      90.000000      1.00000\n",
              "25%    1250.750000    24.000000   775.000000     163.000000      1.00000\n",
              "50%    2500.500000    50.000000   849.000000     284.000000      2.00000\n",
              "75%    3750.250000    75.000000   925.000000     390.000000      3.00000\n",
              "max    5000.000000   100.000000   999.000000  704000.000000   2000.00000"
            ]
          },
          "metadata": {},
          "execution_count": 6
        }
      ]
    },
    {
      "cell_type": "markdown",
      "metadata": {
        "id": "RFNpZj4J-DjX"
      },
      "source": [
        "The min order_amount is 90, median value is 284(compared  with mean value 3145, the difference is huge, 75% of order_amount is equal or under 390, and total_items is equal or under 3. As a result there might be some orders are extremly big to make this happen).\n",
        "\n",
        "The Standard Deviation of order_amout is 41282.54 ,and Standard Deviation of total_items is 116.32. This is relatively greater than the mean.\n",
        "\n",
        "We also notice that the Max of oder_amount is 70400(with total items for 2000), this is unusual order, so there might be some outliers in our dataset to make the Average Of Order to 3145.13.\n"
      ]
    },
    {
      "cell_type": "markdown",
      "metadata": {
        "id": "FMwyPmmj-eTZ"
      },
      "source": [
        "### Outlier Detection"
      ]
    },
    {
      "cell_type": "code",
      "metadata": {
        "colab": {
          "base_uri": "https://localhost:8080/",
          "height": 297
        },
        "id": "js-4FqpdDz1i",
        "outputId": "0fc123df-95d2-4b35-f60f-d7f64b20476c"
      },
      "source": [
        "sns.scatterplot(data=data, y=\"order_amount\",x=\"total_items\")"
      ],
      "execution_count": 11,
      "outputs": [
        {
          "output_type": "execute_result",
          "data": {
            "text/plain": [
              "<matplotlib.axes._subplots.AxesSubplot at 0x7f972cd33c50>"
            ]
          },
          "metadata": {},
          "execution_count": 11
        },
        {
          "output_type": "display_data",
          "data": {
            "image/png": "[encoded data removed]",
            "text/plain": [
              "<Figure size 432x288 with 1 Axes>"
            ]
          },
          "metadata": {
            "needs_background": "light"
          }
        }
      ]
    },
    {
      "cell_type": "code",
      "metadata": {
        "colab": {
          "base_uri": "https://localhost:8080/"
        },
        "id": "SiUP6PSvAhoD",
        "outputId": "fc305c8d-5edd-4b9f-f8aa-70fbfcbafb67"
      },
      "source": [
        "data['total_items'].value_counts()"
      ],
      "execution_count": 20,
      "outputs": [
        {
          "output_type": "execute_result",
          "data": {
            "text/plain": [
              "2       1832\n",
              "1       1830\n",
              "3        941\n",
              "4        293\n",
              "5         77\n",
              "2000      17\n",
              "6          9\n",
              "8          1\n",
              "Name: total_items, dtype: int64"
            ]
          },
          "metadata": {},
          "execution_count": 20
        }
      ]
    },
    {
      "cell_type": "markdown",
      "metadata": {
        "id": "RWYBkp-GFIX6"
      },
      "source": [
        "We could verify that most of our orders are in the left bottom corner, those outliers have high order_amount are in the top right.\n",
        "\n",
        "For total_items = 2000, there are 17 orders, here we detect them as ourliers.\n",
        "\n",
        "Next we want see how total_items affect the order_amount, which means is there any obivious difference in item price.\n",
        "\n",
        "First we create a new column named \"order_per_item_price\"\n"
      ]
    },
    {
      "cell_type": "code",
      "metadata": {
        "id": "tTjJpkA24WJu",
        "colab": {
          "base_uri": "https://localhost:8080/",
          "height": 206
        },
        "outputId": "a08a3a68-8e15-47e0-bf93-4c9097d37827"
      },
      "source": [
        "data['order_per_item_price'] = data['order_amount']/data['total_items']\n",
        "data.head()"
      ],
      "execution_count": 13,
      "outputs": [
        {
          "output_type": "execute_result",
          "data": {
            "text/html": [
              "<div>\n",
              "<style scoped>\n",
              "    .dataframe tbody tr th:only-of-type {\n",
              "        vertical-align: middle;\n",
              "    }\n",
              "\n",
              "    .dataframe tbody tr th {\n",
              "        vertical-align: top;\n",
              "    }\n",
              "\n",
              "    .dataframe thead th {\n",
              "        text-align: right;\n",
              "    }\n",
              "</style>\n",
              "<table border=\"1\" class=\"dataframe\">\n",
              "  <thead>\n",
              "    <tr style=\"text-align: right;\">\n",
              "      <th></th>\n",
              "      <th>order_id</th>\n",
              "      <th>shop_id</th>\n",
              "      <th>user_id</th>\n",
              "      <th>order_amount</th>\n",
              "      <th>total_items</th>\n",
              "      <th>payment_method</th>\n",
              "      <th>created_at</th>\n",
              "      <th>order_per_item_price</th>\n",
              "    </tr>\n",
              "  </thead>\n",
              "  <tbody>\n",
              "    <tr>\n",
              "      <th>0</th>\n",
              "      <td>1</td>\n",
              "      <td>53</td>\n",
              "      <td>746</td>\n",
              "      <td>224</td>\n",
              "      <td>2</td>\n",
              "      <td>cash</td>\n",
              "      <td>2017-03-13 12:36:56</td>\n",
              "      <td>112.0</td>\n",
              "    </tr>\n",
              "    <tr>\n",
              "      <th>1</th>\n",
              "      <td>2</td>\n",
              "      <td>92</td>\n",
              "      <td>925</td>\n",
              "      <td>90</td>\n",
              "      <td>1</td>\n",
              "      <td>cash</td>\n",
              "      <td>2017-03-03 17:38:52</td>\n",
              "      <td>90.0</td>\n",
              "    </tr>\n",
              "    <tr>\n",
              "      <th>2</th>\n",
              "      <td>3</td>\n",
              "      <td>44</td>\n",
              "      <td>861</td>\n",
              "      <td>144</td>\n",
              "      <td>1</td>\n",
              "      <td>cash</td>\n",
              "      <td>2017-03-14 4:23:56</td>\n",
              "      <td>144.0</td>\n",
              "    </tr>\n",
              "    <tr>\n",
              "      <th>3</th>\n",
              "      <td>4</td>\n",
              "      <td>18</td>\n",
              "      <td>935</td>\n",
              "      <td>156</td>\n",
              "      <td>1</td>\n",
              "      <td>credit_card</td>\n",
              "      <td>2017-03-26 12:43:37</td>\n",
              "      <td>156.0</td>\n",
              "    </tr>\n",
              "    <tr>\n",
              "      <th>4</th>\n",
              "      <td>5</td>\n",
              "      <td>18</td>\n",
              "      <td>883</td>\n",
              "      <td>156</td>\n",
              "      <td>1</td>\n",
              "      <td>credit_card</td>\n",
              "      <td>2017-03-01 4:35:11</td>\n",
              "      <td>156.0</td>\n",
              "    </tr>\n",
              "  </tbody>\n",
              "</table>\n",
              "</div>"
            ],
            "text/plain": [
              "   order_id  shop_id  ...           created_at  order_per_item_price\n",
              "0         1       53  ...  2017-03-13 12:36:56                 112.0\n",
              "1         2       92  ...  2017-03-03 17:38:52                  90.0\n",
              "2         3       44  ...   2017-03-14 4:23:56                 144.0\n",
              "3         4       18  ...  2017-03-26 12:43:37                 156.0\n",
              "4         5       18  ...   2017-03-01 4:35:11                 156.0\n",
              "\n",
              "[5 rows x 8 columns]"
            ]
          },
          "metadata": {},
          "execution_count": 13
        }
      ]
    },
    {
      "cell_type": "markdown",
      "metadata": {
        "id": "SiiRIIsj_WxW"
      },
      "source": [
        "Then we need to see if there is any very expensive sneakers?"
      ]
    },
    {
      "cell_type": "code",
      "metadata": {
        "colab": {
          "base_uri": "https://localhost:8080/",
          "height": 283
        },
        "id": "ahoMLWtT_fSz",
        "outputId": "a1c6af57-4881-4ae3-ae25-76077b94fb44"
      },
      "source": [
        "data['order_per_item_price'].hist()"
      ],
      "execution_count": 15,
      "outputs": [
        {
          "output_type": "execute_result",
          "data": {
            "text/plain": [
              "<matplotlib.axes._subplots.AxesSubplot at 0x7f9725e6e8d0>"
            ]
          },
          "metadata": {},
          "execution_count": 15
        },
        {
          "output_type": "display_data",
          "data": {
            "image/png": "[encoded data removed]",
            "text/plain": [
              "<Figure size 432x288 with 1 Axes>"
            ]
          },
          "metadata": {
            "needs_background": "light"
          }
        }
      ]
    },
    {
      "cell_type": "code",
      "metadata": {
        "colab": {
          "base_uri": "https://localhost:8080/"
        },
        "id": "uzioklcZ_2K_",
        "outputId": "f71be6bd-6598-4476-e0cd-bef3214f6369"
      },
      "source": [
        "data['order_per_item_price'].describe()"
      ],
      "execution_count": 16,
      "outputs": [
        {
          "output_type": "execute_result",
          "data": {
            "text/plain": [
              "count     5000.000000\n",
              "mean       387.742800\n",
              "std       2441.963725\n",
              "min         90.000000\n",
              "25%        133.000000\n",
              "50%        153.000000\n",
              "75%        169.000000\n",
              "max      25725.000000\n",
              "Name: order_per_item_price, dtype: float64"
            ]
          },
          "metadata": {},
          "execution_count": 16
        }
      ]
    },
    {
      "cell_type": "markdown",
      "metadata": {
        "id": "6dNMUWXWCOn-"
      },
      "source": [
        "Most of our order_per_item_price fall in the first bin, but we do detect some ourliers which fall in to very expensive zone.\n",
        "\n",
        "The mean is 387, and median is 153, std is 2441 which is relatively high to the mean."
      ]
    },
    {
      "cell_type": "code",
      "metadata": {
        "colab": {
          "base_uri": "https://localhost:8080/"
        },
        "id": "GUhHL0gfBTNC",
        "outputId": "69a417cd-bd63-4f25-9113-d93a21da9973"
      },
      "source": [
        "(data['order_per_item_price'] <= 500).value_counts()"
      ],
      "execution_count": 26,
      "outputs": [
        {
          "output_type": "execute_result",
          "data": {
            "text/plain": [
              "True     4954\n",
              "False      46\n",
              "Name: order_per_item_price, dtype: int64"
            ]
          },
          "metadata": {},
          "execution_count": 26
        }
      ]
    },
    {
      "cell_type": "code",
      "metadata": {
        "colab": {
          "base_uri": "https://localhost:8080/"
        },
        "id": "7_hbF7EyB9kI",
        "outputId": "13762c6e-f91c-4f8e-ce05-a843b3c0c5d3"
      },
      "source": [
        "(data['order_per_item_price'] <= 5000).value_counts()"
      ],
      "execution_count": 27,
      "outputs": [
        {
          "output_type": "execute_result",
          "data": {
            "text/plain": [
              "True     4954\n",
              "False      46\n",
              "Name: order_per_item_price, dtype: int64"
            ]
          },
          "metadata": {},
          "execution_count": 27
        }
      ]
    },
    {
      "cell_type": "markdown",
      "metadata": {
        "id": "OK6MSMsJ_mRz"
      },
      "source": [
        ""
      ]
    },
    {
      "cell_type": "markdown",
      "metadata": {
        "id": "rF8WdwBzCAES"
      },
      "source": [
        "We quick check that no matter we that the threshold to 500 or 5000, we got same result, so we can use 500 as the threshold to filtering outliers."
      ]
    },
    {
      "cell_type": "markdown",
      "metadata": {
        "id": "CBBvqUheAHQ1"
      },
      "source": [
        "### Filtering Outliers:\n",
        "\n",
        "Let us try to remove ourliers which has large total_items < 2000  and high order_per_item_price < 500  and calculate the AOV."
      ]
    },
    {
      "cell_type": "code",
      "metadata": {
        "colab": {
          "base_uri": "https://localhost:8080/",
          "height": 300
        },
        "id": "ZtWZobkqAYB_",
        "outputId": "a3b9cfa6-9460-40cb-f317-bf18da4af566"
      },
      "source": [
        "data.loc[ (data['total_items'] < 2000) & (data['order_per_item_price'] < 500) ].describe()"
      ],
      "execution_count": 36,
      "outputs": [
        {
          "output_type": "execute_result",
          "data": {
            "text/html": [
              "<div>\n",
              "<style scoped>\n",
              "    .dataframe tbody tr th:only-of-type {\n",
              "        vertical-align: middle;\n",
              "    }\n",
              "\n",
              "    .dataframe tbody tr th {\n",
              "        vertical-align: top;\n",
              "    }\n",
              "\n",
              "    .dataframe thead th {\n",
              "        text-align: right;\n",
              "    }\n",
              "</style>\n",
              "<table border=\"1\" class=\"dataframe\">\n",
              "  <thead>\n",
              "    <tr style=\"text-align: right;\">\n",
              "      <th></th>\n",
              "      <th>order_id</th>\n",
              "      <th>shop_id</th>\n",
              "      <th>user_id</th>\n",
              "      <th>order_amount</th>\n",
              "      <th>total_items</th>\n",
              "      <th>order_per_item_price</th>\n",
              "    </tr>\n",
              "  </thead>\n",
              "  <tbody>\n",
              "    <tr>\n",
              "      <th>count</th>\n",
              "      <td>4937.000000</td>\n",
              "      <td>4937.000000</td>\n",
              "      <td>4937.000000</td>\n",
              "      <td>4937.000000</td>\n",
              "      <td>4937.000000</td>\n",
              "      <td>4937.000000</td>\n",
              "    </tr>\n",
              "    <tr>\n",
              "      <th>mean</th>\n",
              "      <td>2499.551347</td>\n",
              "      <td>49.846465</td>\n",
              "      <td>849.752279</td>\n",
              "      <td>302.580514</td>\n",
              "      <td>1.994734</td>\n",
              "      <td>151.788536</td>\n",
              "    </tr>\n",
              "    <tr>\n",
              "      <th>std</th>\n",
              "      <td>1444.069407</td>\n",
              "      <td>29.061131</td>\n",
              "      <td>86.840313</td>\n",
              "      <td>160.804912</td>\n",
              "      <td>0.982821</td>\n",
              "      <td>29.034215</td>\n",
              "    </tr>\n",
              "    <tr>\n",
              "      <th>min</th>\n",
              "      <td>1.000000</td>\n",
              "      <td>1.000000</td>\n",
              "      <td>700.000000</td>\n",
              "      <td>90.000000</td>\n",
              "      <td>1.000000</td>\n",
              "      <td>90.000000</td>\n",
              "    </tr>\n",
              "    <tr>\n",
              "      <th>25%</th>\n",
              "      <td>1248.000000</td>\n",
              "      <td>24.000000</td>\n",
              "      <td>775.000000</td>\n",
              "      <td>163.000000</td>\n",
              "      <td>1.000000</td>\n",
              "      <td>132.000000</td>\n",
              "    </tr>\n",
              "    <tr>\n",
              "      <th>50%</th>\n",
              "      <td>2497.000000</td>\n",
              "      <td>50.000000</td>\n",
              "      <td>850.000000</td>\n",
              "      <td>284.000000</td>\n",
              "      <td>2.000000</td>\n",
              "      <td>153.000000</td>\n",
              "    </tr>\n",
              "    <tr>\n",
              "      <th>75%</th>\n",
              "      <td>3751.000000</td>\n",
              "      <td>74.000000</td>\n",
              "      <td>925.000000</td>\n",
              "      <td>387.000000</td>\n",
              "      <td>3.000000</td>\n",
              "      <td>166.000000</td>\n",
              "    </tr>\n",
              "    <tr>\n",
              "      <th>max</th>\n",
              "      <td>5000.000000</td>\n",
              "      <td>100.000000</td>\n",
              "      <td>999.000000</td>\n",
              "      <td>1760.000000</td>\n",
              "      <td>8.000000</td>\n",
              "      <td>352.000000</td>\n",
              "    </tr>\n",
              "  </tbody>\n",
              "</table>\n",
              "</div>"
            ],
            "text/plain": [
              "          order_id      shop_id  ...  total_items  order_per_item_price\n",
              "count  4937.000000  4937.000000  ...  4937.000000           4937.000000\n",
              "mean   2499.551347    49.846465  ...     1.994734            151.788536\n",
              "std    1444.069407    29.061131  ...     0.982821             29.034215\n",
              "min       1.000000     1.000000  ...     1.000000             90.000000\n",
              "25%    1248.000000    24.000000  ...     1.000000            132.000000\n",
              "50%    2497.000000    50.000000  ...     2.000000            153.000000\n",
              "75%    3751.000000    74.000000  ...     3.000000            166.000000\n",
              "max    5000.000000   100.000000  ...     8.000000            352.000000\n",
              "\n",
              "[8 rows x 6 columns]"
            ]
          },
          "metadata": {},
          "execution_count": 36
        }
      ]
    },
    {
      "cell_type": "markdown",
      "metadata": {
        "id": "UWyWWTqoC5Rd"
      },
      "source": [
        "After removing these outliers, we could get a normal AOV for order_amount at 302.58, std is 160.80, which makes more sense."
      ]
    },
    {
      "cell_type": "markdown",
      "metadata": {
        "id": "nHGd9ZGbDoU_"
      },
      "source": [
        "### Categorize and Report"
      ]
    },
    {
      "cell_type": "markdown",
      "metadata": {
        "id": "zimzkg00DZ8j"
      },
      "source": [
        "But still we miss the information for outliers, so we need to consider them into our report and categorize them into different groups. Also we need to report the AOV_per_item along with AOV to better understand our custoemrs.\n",
        "\n",
        "\n",
        "1. We group total_items > 2000 customers as wholesale, other customers as retail.\n",
        "2. We group order_per_item_price < 500 as normal sneaker orders,  >= 500 as expensive sneaker orders.\n",
        "3. We create two new cols, named purchase_type(wholesale,retail) and sneaker_type(expensive,normal)\n",
        "\n",
        "This process could help us make easier filtering later.\n",
        "\n"
      ]
    },
    {
      "cell_type": "code",
      "metadata": {
        "colab": {
          "base_uri": "https://localhost:8080/"
        },
        "id": "TI2WZ_NuEHDV",
        "outputId": "9b994a35-ef50-4944-e14d-b4b170117279"
      },
      "source": [
        "data['purchase_type'] = np.nan\n",
        "data['sneaker_type'] = np.nan\n",
        "data['purchase_type'].loc[data['total_items'] < 2000] = 'retail'\n",
        "data['purchase_type'].loc[data['total_items'] >= 2000] = 'wholesale'\n",
        "data['sneaker_type'].loc[data['order_per_item_price'] < 500] = 'normal'\n",
        "data['sneaker_type'].loc[data['order_per_item_price'] >= 500] = 'expensive'\n"
      ],
      "execution_count": 43,
      "outputs": [
        {
          "output_type": "stream",
          "name": "stderr",
          "text": [
            "/usr/local/lib/python3.7/dist-packages/pandas/core/indexing.py:670: SettingWithCopyWarning: \n",
            "A value is trying to be set on a copy of a slice from a DataFrame\n",
            "\n",
            "See the caveats in the documentation: https://pandas.pydata.org/pandas-docs/stable/user_guide/indexing.html#returning-a-view-versus-a-copy\n",
            "  iloc._setitem_with_indexer(indexer, value)\n",
            "/usr/local/lib/python3.7/dist-packages/pandas/core/indexing.py:670: SettingWithCopyWarning: \n",
            "A value is trying to be set on a copy of a slice from a DataFrame\n",
            "\n",
            "See the caveats in the documentation: https://pandas.pydata.org/pandas-docs/stable/user_guide/indexing.html#returning-a-view-versus-a-copy\n",
            "  iloc._setitem_with_indexer(indexer, value)\n",
            "/usr/local/lib/python3.7/dist-packages/pandas/core/indexing.py:670: SettingWithCopyWarning: \n",
            "A value is trying to be set on a copy of a slice from a DataFrame\n",
            "\n",
            "See the caveats in the documentation: https://pandas.pydata.org/pandas-docs/stable/user_guide/indexing.html#returning-a-view-versus-a-copy\n",
            "  iloc._setitem_with_indexer(indexer, value)\n",
            "/usr/local/lib/python3.7/dist-packages/pandas/core/indexing.py:670: SettingWithCopyWarning: \n",
            "A value is trying to be set on a copy of a slice from a DataFrame\n",
            "\n",
            "See the caveats in the documentation: https://pandas.pydata.org/pandas-docs/stable/user_guide/indexing.html#returning-a-view-versus-a-copy\n",
            "  iloc._setitem_with_indexer(indexer, value)\n"
          ]
        }
      ]
    },
    {
      "cell_type": "code",
      "metadata": {
        "colab": {
          "base_uri": "https://localhost:8080/",
          "height": 175
        },
        "id": "ZK1I2lkXF2Mn",
        "outputId": "2b295a0e-6c61-456d-c682-19b1d93c45c4"
      },
      "source": [
        "pd.pivot_table(data, values=['order_amount','order_per_item_price'], index=['purchase_type'],\n",
        "                    columns=['sneaker_type'], aggfunc=np.mean)"
      ],
      "execution_count": 46,
      "outputs": [
        {
          "output_type": "execute_result",
          "data": {
            "text/html": [
              "<div>\n",
              "<style scoped>\n",
              "    .dataframe tbody tr th:only-of-type {\n",
              "        vertical-align: middle;\n",
              "    }\n",
              "\n",
              "    .dataframe tbody tr th {\n",
              "        vertical-align: top;\n",
              "    }\n",
              "\n",
              "    .dataframe thead tr th {\n",
              "        text-align: left;\n",
              "    }\n",
              "\n",
              "    .dataframe thead tr:last-of-type th {\n",
              "        text-align: right;\n",
              "    }\n",
              "</style>\n",
              "<table border=\"1\" class=\"dataframe\">\n",
              "  <thead>\n",
              "    <tr>\n",
              "      <th></th>\n",
              "      <th colspan=\"2\" halign=\"left\">order_amount</th>\n",
              "      <th colspan=\"2\" halign=\"left\">order_per_item_price</th>\n",
              "    </tr>\n",
              "    <tr>\n",
              "      <th>sneaker_type</th>\n",
              "      <th>expensive</th>\n",
              "      <th>normal</th>\n",
              "      <th>expensive</th>\n",
              "      <th>normal</th>\n",
              "    </tr>\n",
              "    <tr>\n",
              "      <th>purchase_type</th>\n",
              "      <th></th>\n",
              "      <th></th>\n",
              "      <th></th>\n",
              "      <th></th>\n",
              "    </tr>\n",
              "  </thead>\n",
              "  <tbody>\n",
              "    <tr>\n",
              "      <th>retail</th>\n",
              "      <td>49213.043478</td>\n",
              "      <td>302.580514</td>\n",
              "      <td>25725.0</td>\n",
              "      <td>151.788536</td>\n",
              "    </tr>\n",
              "    <tr>\n",
              "      <th>wholesale</th>\n",
              "      <td>NaN</td>\n",
              "      <td>704000.000000</td>\n",
              "      <td>NaN</td>\n",
              "      <td>352.000000</td>\n",
              "    </tr>\n",
              "  </tbody>\n",
              "</table>\n",
              "</div>"
            ],
            "text/plain": [
              "               order_amount                order_per_item_price            \n",
              "sneaker_type      expensive         normal            expensive      normal\n",
              "purchase_type                                                              \n",
              "retail         49213.043478     302.580514              25725.0  151.788536\n",
              "wholesale               NaN  704000.000000                  NaN  352.000000"
            ]
          },
          "metadata": {},
          "execution_count": 46
        }
      ]
    },
    {
      "cell_type": "markdown",
      "metadata": {
        "id": "xvP2uaaBHFcr"
      },
      "source": [
        "# Conclusion.\n",
        "The Pivot table could help us identify AOV and AOV_per_item for different group of customers.\n",
        "\n",
        "We could found wholesale customer and who bought expensive sneakers are different groups. \n",
        "\n",
        "For **Retail customers**, normal sneakers buyers spend 302.58 average per order, and average sneaker price per order is 151.79.\n",
        "Expensive sneakers buyers spend 49213.04 average per order, and average item price per order is 25725.\n",
        "\n",
        "\n",
        "For **Wholesale customers**, they only buy normal sneakers, they spend 704000 per order. The average item per order is 352.\n",
        "\n"
      ]
    },
    {
      "cell_type": "markdown",
      "metadata": {
        "id": "maS6SfTiIdhD"
      },
      "source": [
        "# Question 2: \n",
        "For this question you’ll need to use SQL. Follow this link to access the data set required for the challenge. Please use queries to answer the following questions. Paste your queries along with your final numerical answers below.\n"
      ]
    },
    {
      "cell_type": "markdown",
      "metadata": {
        "id": "dKi7HTtWI7_g"
      },
      "source": [
        "\n",
        "1. How many orders were shipped by Speedy Express in total?"
      ]
    },
    {
      "cell_type": "code",
      "metadata": {
        "id": "DOgv_q40I90w"
      },
      "source": [
        "%%sql \n",
        "SELECT ShipperName, COUNT(Orders.OrderID)\n",
        "FROM Orders\n",
        "INNER JOIN Shippers ON Orders.ShipperID = Shippers.ShipperID\n",
        "WHERE ShipperName == 'Speedy Express'\n",
        "GROUP BY Orders.ShipperID"
      ],
      "execution_count": null,
      "outputs": []
    },
    {
      "cell_type": "markdown",
      "metadata": {
        "id": "jMaGJIhkQAFm"
      },
      "source": [
        "ANSWER: 54 orders were shipped by Speedy Express"
      ]
    },
    {
      "cell_type": "markdown",
      "metadata": {
        "id": "5QH0SY0TJBm4"
      },
      "source": [
        "2. What is the last name of the employee with the most orders?\n",
        "\n",
        "\n"
      ]
    },
    {
      "cell_type": "code",
      "metadata": {
        "id": "PWAjwERPJFpT"
      },
      "source": [
        "%%sql \n",
        "SELECT LastName, COUNT(Orders.EmployeeID)\n",
        "FROM Orders\n",
        "INNER JOIN Employees ON Orders.EmployeeID = Employees.EmployeeID\n",
        "GROUP BY LastName\n",
        "ORDER BY COUNT(Orders.EmployeeID) DESC LIMIT 3;"
      ],
      "execution_count": null,
      "outputs": []
    },
    {
      "cell_type": "markdown",
      "metadata": {
        "id": "Nw9t4i5KQIpP"
      },
      "source": [
        "ANSWER: Peacock is the last name of the employee with most orders."
      ]
    },
    {
      "cell_type": "markdown",
      "metadata": {
        "id": "U46hmP1rJEnf"
      },
      "source": [
        "3. What product was ordered the most by customers in Germany?"
      ]
    },
    {
      "cell_type": "code",
      "metadata": {
        "id": "fDBdJMn4JGKb"
      },
      "source": [
        "# Not considering quantity of the order\n",
        "%%sql \n",
        "SELECT Products.ProductName as Product_Name, COUNT(Orders.OrderID) as OrderCount\n",
        "FROM Orders\n",
        "INNER JOIN Customers ON Orders.CustomerID=Customers.CustomerID\n",
        "INNER JOIN OrderDetails ON Orders.OrderID=OrderDetails.OrderID\n",
        "INNER JOIN Products ON Products.ProductID=OrderDetails.ProductID\n",
        "WHERE Country = 'Germany'\n",
        "GROUP BY Product_Name\n",
        "ORDER BY COUNT(Orders.OrderID) DESC LIMIT 3\n",
        "\n"
      ],
      "execution_count": null,
      "outputs": []
    },
    {
      "cell_type": "markdown",
      "metadata": {
        "id": "RoudpZ87P9bK"
      },
      "source": [
        "ANSWER: If only considering the order count, 'Gorgonzola Telino' was ordered the most by customers in Germany, there are 5 orders."
      ]
    },
    {
      "cell_type": "code",
      "metadata": {
        "id": "b0Z4U_uHP9h5"
      },
      "source": [
        "# Considering quantity of the order\n",
        "%%sql\n",
        "SELECT Products.ProductName as Product_Name, SUM(OrderDetails.Quantity) as Total_Quantity\n",
        "FROM Orders\n",
        "INNER JOIN Customers ON Orders.CustomerID=Customers.CustomerID\n",
        "INNER JOIN OrderDetails ON Orders.OrderID=OrderDetails.OrderID\n",
        "INNER JOIN Products ON Products.ProductID=OrderDetails.ProductID\n",
        "WHERE Country = 'Germany'\n",
        "GROUP BY Product_Name\n",
        "ORDER BY Total_Quantity Desc LIMIT 3"
      ],
      "execution_count": null,
      "outputs": []
    },
    {
      "cell_type": "markdown",
      "metadata": {
        "id": "uYDKDCYWQeOf"
      },
      "source": [
        "If considering the quantity of every order, 'Boston Crab Meat' was ordered the most by customers in Germany with the quantity of 160."
      ]
    }
  ]
}