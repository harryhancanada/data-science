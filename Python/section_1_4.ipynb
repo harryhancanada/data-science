{
 "cells": [
  {
   "cell_type": "code",
   "execution_count": 1,
   "metadata": {
    "colab": {
     "base_uri": "https://localhost:8080/"
    },
    "executionInfo": {
     "elapsed": 13220,
     "status": "ok",
     "timestamp": 1620972563248,
     "user": {
      "displayName": "Maxim Makovskiy",
      "photoUrl": "https://lh3.googleusercontent.com/a-/AOh14GhUtm5ocMLn80-L5o-Cp82nAfgZ1zEFQtL7Rx0Ddw=s64",
      "userId": "09226676459757968136"
     },
     "user_tz": -360
    },
    "id": "i5Y0L9lvmAoG",
    "outputId": "1c268cd1-8947-40e9-f051-87bcecd8f3a7"
   },
   "outputs": [
    {
     "name": "stderr",
     "output_type": "stream",
     "text": [
      "/mnt/d/work/tsa4-python/.venv/lib/python3.8/site-packages/pandas/core/arrays/datetimes.py:1101: UserWarning: Converting to PeriodArray/Index representation will drop timezone information.\n",
      "  warnings.warn(\n"
     ]
    }
   ],
   "source": [
    "import numpy as np\n",
    "import pandas as pd\n",
    "import matplotlib.pyplot as plt\n",
    "import statsmodels.api as sm\n",
    "from astsadata import *"
   ]
  },
  {
   "cell_type": "code",
   "execution_count": 2,
   "metadata": {
    "executionInfo": {
     "elapsed": 13218,
     "status": "ok",
     "timestamp": 1620972563248,
     "user": {
      "displayName": "Maxim Makovskiy",
      "photoUrl": "https://lh3.googleusercontent.com/a-/AOh14GhUtm5ocMLn80-L5o-Cp82nAfgZ1zEFQtL7Rx0Ddw=s64",
      "userId": "09226676459757968136"
     },
     "user_tz": -360
    },
    "id": "dpB8jHFd343f"
   },
   "outputs": [],
   "source": [
    "def ccf(x, y, max_lag, ccf_type=\"correlation\", ax=None, **kwargs):\n",
    "    lags = np.arange(-max_lag, max_lag + 1)\n",
    "\n",
    "    if ccf_type == \"correlation\":\n",
    "        backwards = sm.tsa.ccf(x[::-1], y[::-1], adjusted=False)[max_lag::-1]\n",
    "        forwards = sm.tsa.ccf(x, y, adjusted=False)[:max_lag + 1]\n",
    "        ccf = np.r_[backwards[:-1], forwards]\n",
    "        ylabel = \"CCF\"\n",
    "    elif ccf_type == \"covariance\":\n",
    "        backwards = sm.tsa.ccovf(x[::-1], y[::-1], adjusted=False)[max_lag::-1]\n",
    "        forwards = sm.tsa.ccovf(x, y, adjusted=False)[:max_lag + 1]\n",
    "        ccf = np.r_[backwards[:-1], forwards]\n",
    "        ylabel = \"CCoV\"\n",
    "\n",
    "    if ax is None:\n",
    "        ax = plt.gca()\n",
    "    \n",
    "    ax.bar(lags, ccf, **kwargs)\n",
    "    ax.axhline(0, color=\"black\", linewidth=1)\n",
    "    ax.axvline(0, color=\"black\", linestyle=\"--\", linewidth=1)\n",
    "    if ccf_type == \"correlation\":\n",
    "        conf_level = 1.96 / np.sqrt(x.shape[0])\n",
    "        ax.axhline(conf_level, color=\"red\", linestyle=\"--\", linewidth=1)\n",
    "        ax.axhline(-conf_level, color=\"red\", linestyle=\"--\", linewidth=1)\n",
    "    ax.set_xlabel(\"LAG\")\n",
    "    ax.set_ylabel(ylabel)\n",
    "\n",
    "    return ax"
   ]
  },
  {
   "cell_type": "markdown",
   "metadata": {
    "id": "hXgz0NFnmP7A"
   },
   "source": [
    "# Section 1.4 Stationary Time Series\n"
   ]
  },
  {
   "cell_type": "code",
   "execution_count": 3,
   "metadata": {
    "colab": {
     "base_uri": "https://localhost:8080/",
     "height": 295
    },
    "executionInfo": {
     "elapsed": 13814,
     "status": "ok",
     "timestamp": 1620972563849,
     "user": {
      "displayName": "Maxim Makovskiy",
      "photoUrl": "https://lh3.googleusercontent.com/a-/AOh14GhUtm5ocMLn80-L5o-Cp82nAfgZ1zEFQtL7Rx0Ddw=s64",
      "userId": "09226676459757968136"
     },
     "user_tz": -360
    },
    "id": "A3B7rvVpmJwt",
    "outputId": "99c3c007-663d-4c92-95f7-a4234471c11c"
   },
   "outputs": [
    {
     "data": {
      "image/png": "[encoded data removed]",
      "text/plain": [
       "<Figure size 432x288 with 1 Axes>"
      ]
     },
     "metadata": {
      "needs_background": "light"
     },
     "output_type": "display_data"
    }
   ],
   "source": [
    "# Example 1.24\n",
    "np.random.seed(2)\n",
    "x = pd.Series(data=np.random.normal(size=100))\n",
    "y = x.shift(5) + np.random.normal(size=100)\n",
    "\n",
    "ax = ccf(y.dropna(), x, max_lag=15, ccf_type=\"covariance\", width=.3)\n",
    "ax.text(11, .9, \"x leads\", horizontalalignment='center',\n",
    "        verticalalignment='center')\n",
    "ax.text(-9, .9, \"y leads\", horizontalalignment='center',\n",
    "        verticalalignment='center')\n",
    "ax.set_title(\"y & x\")\n",
    "plt.show()"
   ]
  }
 ],
 "metadata": {
  "colab": {
   "collapsed_sections": [],
   "name": "section_1_4.ipynb",
   "provenance": []
  },
  "kernelspec": {
   "display_name": "Python 3",
   "language": "python",
   "name": "python3"
  },
  "language_info": {
   "codemirror_mode": {
    "name": "ipython",
    "version": 3
   },
   "file_extension": ".py",
   "mimetype": "text/x-python",
   "name": "python",
   "nbconvert_exporter": "python",
   "pygments_lexer": "ipython3",
   "version": "3.8.5"
  }
 },
 "nbformat": 4,
 "nbformat_minor": 4
}
