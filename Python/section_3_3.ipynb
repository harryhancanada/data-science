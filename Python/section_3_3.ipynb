{
 "cells": [
  {
   "cell_type": "code",
   "execution_count": 1,
   "metadata": {
    "colab": {
     "base_uri": "https://localhost:8080/"
    },
    "executionInfo": {
     "elapsed": 13192,
     "status": "ok",
     "timestamp": 1620973200723,
     "user": {
      "displayName": "Maxim Makovskiy",
      "photoUrl": "https://lh3.googleusercontent.com/a-/AOh14GhUtm5ocMLn80-L5o-Cp82nAfgZ1zEFQtL7Rx0Ddw=s64",
      "userId": "09226676459757968136"
     },
     "user_tz": -360
    },
    "id": "Zk1h9HLERVds",
    "outputId": "1562cfe7-0c14-4e2d-d7ec-2290d3c7fde4"
   },
   "outputs": [
    {
     "name": "stderr",
     "output_type": "stream",
     "text": [
      "/mnt/d/work/tsa4-python/.venv/lib/python3.8/site-packages/pandas/core/arrays/datetimes.py:1101: UserWarning: Converting to PeriodArray/Index representation will drop timezone information.\n",
      "  warnings.warn(\n"
     ]
    }
   ],
   "source": [
    "import numpy as np\n",
    "import pandas as pd\n",
    "import matplotlib.pyplot as plt\n",
    "import statsmodels.api as sm\n",
    "import statsmodels.tsa as tsm\n",
    "from astsadata import *"
   ]
  },
  {
   "cell_type": "code",
   "execution_count": 2,
   "metadata": {
    "executionInfo": {
     "elapsed": 13192,
     "status": "ok",
     "timestamp": 1620973200725,
     "user": {
      "displayName": "Maxim Makovskiy",
      "photoUrl": "https://lh3.googleusercontent.com/a-/AOh14GhUtm5ocMLn80-L5o-Cp82nAfgZ1zEFQtL7Rx0Ddw=s64",
      "userId": "09226676459757968136"
     },
     "user_tz": -360
    },
    "id": "GFhc3HCnxs1J"
   },
   "outputs": [],
   "source": [
    "def acf1(x, nlags=None, acf_type=\"correlation\", pacf=False, ax=None, **kwargs):\n",
    "    lags = np.arange(1, nlags + 1)\n",
    "\n",
    "    if pacf:\n",
    "        if acf_type == \"correlation\":\n",
    "            values = sm.tsa.pacf(x, nlags=nlags)[1:]\n",
    "            ylabel = \"PACF\"\n",
    "    else:\n",
    "        if acf_type == \"correlation\":\n",
    "            values = sm.tsa.acf(x, nlags=nlags, fft=False)[1:]\n",
    "            ylabel = \"ACF\"\n",
    "        elif acf_type == \"covariance\":\n",
    "            values = sm.tsa.acovf(x, nlag=nlags)[1:]\n",
    "            ylabel = \"ACoV\"\n",
    "\n",
    "    if ax is None:\n",
    "        ax = plt.gca()\n",
    " \n",
    "    ax.bar(lags, values, **kwargs)\n",
    "    ax.axhline(0, color=\"black\", linewidth=1)\n",
    "    if acf_type == \"correlation\":\n",
    "        conf_level = 1.96 / np.sqrt(x.shape[0])\n",
    "        ax.axhline(conf_level, color=\"red\", linestyle=\"--\", linewidth=1)\n",
    "        ax.axhline(-conf_level, color=\"red\", linestyle=\"--\", linewidth=1)\n",
    "    ax.set_xlabel(\"LAG\")\n",
    "    ax.set_ylabel(ylabel)\n",
    "\n",
    "    return ax"
   ]
  },
  {
   "cell_type": "markdown",
   "metadata": {
    "id": "lpI6Vr_eROaz"
   },
   "source": [
    "# Section 3.3 Autocorrelation and Partial Autocorrelation"
   ]
  },
  {
   "cell_type": "code",
   "execution_count": 3,
   "metadata": {
    "colab": {
     "base_uri": "https://localhost:8080/",
     "height": 369
    },
    "executionInfo": {
     "elapsed": 13952,
     "status": "ok",
     "timestamp": 1620973201492,
     "user": {
      "displayName": "Maxim Makovskiy",
      "photoUrl": "https://lh3.googleusercontent.com/a-/AOh14GhUtm5ocMLn80-L5o-Cp82nAfgZ1zEFQtL7Rx0Ddw=s64",
      "userId": "09226676459757968136"
     },
     "user_tz": -360
    },
    "id": "TH9_MdGxRpyS",
    "outputId": "8fc6a9ca-fdf0-4171-9be6-b792371dda8a"
   },
   "outputs": [
    {
     "data": {
      "image/png": "[encoded data removed]",
      "text/plain": [
       "<Figure size 576x360 with 2 Axes>"
      ]
     },
     "metadata": {
      "needs_background": "light"
     },
     "output_type": "display_data"
    }
   ],
   "source": [
    "# Example 3.16\n",
    "ar2_acf = tsm.arima_process.arma_acf(ar=[1, -1.5, .75], ma=[1, 0], lags=25)[1:]\n",
    "ar2_pacf = tsm.arima_process.arma_pacf(ar=[1, -1.5, .75], ma=[1, 0], lags=25)[1:]\n",
    "lags = np.arange(1, 25)\n",
    "\n",
    "fig, axes = plt.subplots(ncols=2, figsize=(8, 5))\n",
    "axes[0].bar(lags, ar2_acf, width=.3)\n",
    "axes[0].axhline(0, color=\"black\", linewidth=1)\n",
    "axes[0].set_xlabel(\"lag\")\n",
    "axes[0].set_ylabel(\"ar2_acf\")\n",
    "\n",
    "axes[1].bar(lags, ar2_pacf, width=.3)\n",
    "axes[1].axhline(0, color=\"black\", linewidth=1)\n",
    "axes[1].set_xlabel(\"lag\")\n",
    "axes[1].set_ylabel(\"ar2_pacf\")\n",
    "\n",
    "fig.tight_layout()\n",
    "plt.show()"
   ]
  },
  {
   "cell_type": "code",
   "execution_count": 4,
   "metadata": {
    "colab": {
     "base_uri": "https://localhost:8080/"
    },
    "executionInfo": {
     "elapsed": 13949,
     "status": "ok",
     "timestamp": 1620973201493,
     "user": {
      "displayName": "Maxim Makovskiy",
      "photoUrl": "https://lh3.googleusercontent.com/a-/AOh14GhUtm5ocMLn80-L5o-Cp82nAfgZ1zEFQtL7Rx0Ddw=s64",
      "userId": "09226676459757968136"
     },
     "user_tz": -360
    },
    "id": "Mxnm61IIXKW-",
    "outputId": "871926f2-b0dc-40cf-ffa1-b1765abdd0f5"
   },
   "outputs": [
    {
     "name": "stdout",
     "output_type": "stream",
     "text": [
      "[ 0.92180421  0.78291817  0.62699624  0.47734917  0.35543191  0.25928198\n",
      "  0.1824141   0.126923    0.09365357  0.07410671  0.05711484  0.0239486\n",
      " -0.03710841 -0.11579969 -0.1877115  -0.23996874 -0.2668297  -0.26777909\n",
      " -0.2412331  -0.18507433 -0.1097977  -0.0334266   0.03031228  0.06428622\n",
      "  0.05662246  0.02101004 -0.01831943 -0.0585743  -0.09314434 -0.11844084\n",
      " -0.12504868 -0.10636648 -0.05417787  0.01962291  0.08477073  0.11615412\n",
      "  0.10277312  0.05791282  0.0096687  -0.01966107 -0.03336518 -0.0331922\n",
      " -0.02047722  0.01143469  0.05929651  0.11710424  0.1743476   0.20495483] \n",
      "\n",
      "[ 0.9238436  -0.45795879 -0.04275725 -0.01592385  0.07715979 -0.03326433\n",
      " -0.03220548  0.03921676  0.05028842 -0.02102956 -0.0585199  -0.1485316\n",
      " -0.15525155 -0.05387466  0.05889749  0.00949503  0.0057794   0.02564797\n",
      "  0.0952969   0.11788724  0.0284908  -0.03251751 -0.00856125 -0.07383949\n",
      " -0.13183565 -0.03238931  0.05172264 -0.09371912 -0.04471695 -0.03044726\n",
      "  0.07252379  0.05531913  0.16682644  0.1050421  -0.04731091 -0.11398518\n",
      " -0.10118406 -0.02137672  0.05665231  0.09822543 -0.02516673 -0.00836346\n",
      " -0.01982297  0.06201924  0.00902646  0.06464217  0.09518282 -0.05104222]\n"
     ]
    }
   ],
   "source": [
    "# Example 3.18\n",
    "print(sm.tsa.acf(rec, nlags=48, fft=False)[1:], \"\\n\")\n",
    "print(sm.tsa.pacf(rec, nlags=48)[1:])"
   ]
  },
  {
   "cell_type": "code",
   "execution_count": 5,
   "metadata": {
    "colab": {
     "base_uri": "https://localhost:8080/",
     "height": 513
    },
    "executionInfo": {
     "elapsed": 14305,
     "status": "ok",
     "timestamp": 1620973201854,
     "user": {
      "displayName": "Maxim Makovskiy",
      "photoUrl": "https://lh3.googleusercontent.com/a-/AOh14GhUtm5ocMLn80-L5o-Cp82nAfgZ1zEFQtL7Rx0Ddw=s64",
      "userId": "09226676459757968136"
     },
     "user_tz": -360
    },
    "id": "Xr-Z_PHCb8Zc",
    "outputId": "921ec3e4-56db-4519-9894-9b7f07d45197"
   },
   "outputs": [
    {
     "data": {
      "image/png": "[encoded data removed]",
      "text/plain": [
       "<Figure size 504x504 with 2 Axes>"
      ]
     },
     "metadata": {
      "needs_background": "light"
     },
     "output_type": "display_data"
    }
   ],
   "source": [
    "fig, axes = plt.subplots(nrows=2, figsize=(7, 7))\n",
    "\n",
    "acf1(rec, nlags=48, ax=axes[0], width=.3)\n",
    "axes[0].set_title(\"Series: rec\")\n",
    "\n",
    "acf1(rec, nlags=48, pacf=True, ax=axes[1], width=.3)\n",
    "\n",
    "fig.tight_layout()\n",
    "plt.show()"
   ]
  },
  {
   "cell_type": "code",
   "execution_count": 6,
   "metadata": {
    "colab": {
     "base_uri": "https://localhost:8080/"
    },
    "executionInfo": {
     "elapsed": 14302,
     "status": "ok",
     "timestamp": 1620973201854,
     "user": {
      "displayName": "Maxim Makovskiy",
      "photoUrl": "https://lh3.googleusercontent.com/a-/AOh14GhUtm5ocMLn80-L5o-Cp82nAfgZ1zEFQtL7Rx0Ddw=s64",
      "userId": "09226676459757968136"
     },
     "user_tz": -360
    },
    "id": "QDCqbT5-gaJT",
    "outputId": "99f7af0f-53e3-47e5-f974-db2382c41630"
   },
   "outputs": [
    {
     "name": "stdout",
     "output_type": "stream",
     "text": [
      "                            AutoReg Model Results                             \n",
      "==============================================================================\n",
      "Dep. Variable:                  value   No. Observations:                  453\n",
      "Model:                     AutoReg(2)   Log Likelihood               -1653.938\n",
      "Method:               Conditional MLE   S.D. of innovations              9.472\n",
      "Date:                Tue, 18 May 2021   AIC                              4.514\n",
      "Time:                        12:26:17   BIC                              4.551\n",
      "Sample:                    03-31-1950   HQIC                             4.529\n",
      "                         - 09-30-1987                                         \n",
      "==============================================================================\n",
      "                 coef    std err          z      P>|z|      [0.025      0.975]\n",
      "------------------------------------------------------------------------------\n",
      "intercept      6.7371      1.111      6.066      0.000       4.560       8.914\n",
      "value.L1       1.3541      0.042     32.403      0.000       1.272       1.436\n",
      "value.L2      -0.4632      0.042    -11.060      0.000      -0.545      -0.381\n",
      "                                    Roots                                    \n",
      "=============================================================================\n",
      "                  Real          Imaginary           Modulus         Frequency\n",
      "-----------------------------------------------------------------------------\n",
      "AR.1            1.4617           -0.1496j            1.4694           -0.0162\n",
      "AR.2            1.4617           +0.1496j            1.4694            0.0162\n",
      "-----------------------------------------------------------------------------\n"
     ]
    },
    {
     "name": "stderr",
     "output_type": "stream",
     "text": [
      "/mnt/d/work/tsa4-python/.venv/lib/python3.8/site-packages/statsmodels/tsa/ar_model.py:248: FutureWarning: The parameter names will change after 0.12 is released. Set old_names to False to use the new names now. Set old_names to True to use the old names. \n",
      "  warnings.warn(\n"
     ]
    }
   ],
   "source": [
    "regr = sm.tsa.AutoReg(rec, lags=2).fit()\n",
    "print(regr.summary())"
   ]
  }
 ],
 "metadata": {
  "colab": {
   "collapsed_sections": [],
   "name": "section_3_3.ipynb",
   "provenance": []
  },
  "kernelspec": {
   "display_name": "Python 3",
   "language": "python",
   "name": "python3"
  },
  "language_info": {
   "codemirror_mode": {
    "name": "ipython",
    "version": 3
   },
   "file_extension": ".py",
   "mimetype": "text/x-python",
   "name": "python",
   "nbconvert_exporter": "python",
   "pygments_lexer": "ipython3",
   "version": "3.8.5"
  }
 },
 "nbformat": 4,
 "nbformat_minor": 4
}
