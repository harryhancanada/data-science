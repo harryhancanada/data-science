{
 "cells": [
  {
   "cell_type": "code",
   "execution_count": 1,
   "metadata": {
    "colab": {
     "base_uri": "https://localhost:8080/"
    },
    "executionInfo": {
     "elapsed": 14453,
     "status": "ok",
     "timestamp": 1620973289936,
     "user": {
      "displayName": "Maxim Makovskiy",
      "photoUrl": "https://lh3.googleusercontent.com/a-/AOh14GhUtm5ocMLn80-L5o-Cp82nAfgZ1zEFQtL7Rx0Ddw=s64",
      "userId": "09226676459757968136"
     },
     "user_tz": -360
    },
    "id": "Zk1h9HLERVds",
    "outputId": "3ad1b400-44a2-490c-812d-cc456e3443e4"
   },
   "outputs": [
    {
     "name": "stderr",
     "output_type": "stream",
     "text": [
      "/mnt/d/work/tsa4-python/.venv/lib/python3.8/site-packages/pandas/core/arrays/datetimes.py:1101: UserWarning: Converting to PeriodArray/Index representation will drop timezone information.\n",
      "  warnings.warn(\n"
     ]
    }
   ],
   "source": [
    "import numpy as np\n",
    "import pandas as pd\n",
    "import matplotlib.pyplot as plt\n",
    "import statsmodels.api as sm\n",
    "import statsmodels.tsa as tsm\n",
    "from scipy import stats\n",
    "from astsadata import *"
   ]
  },
  {
   "cell_type": "markdown",
   "metadata": {
    "id": "Q9PVxolW-Mql"
   },
   "source": [
    "# Section 3.5 Estimation"
   ]
  },
  {
   "cell_type": "code",
   "execution_count": 2,
   "metadata": {
    "colab": {
     "base_uri": "https://localhost:8080/"
    },
    "executionInfo": {
     "elapsed": 14448,
     "status": "ok",
     "timestamp": 1620973289937,
     "user": {
      "displayName": "Maxim Makovskiy",
      "photoUrl": "https://lh3.googleusercontent.com/a-/AOh14GhUtm5ocMLn80-L5o-Cp82nAfgZ1zEFQtL7Rx0Ddw=s64",
      "userId": "09226676459757968136"
     },
     "user_tz": -360
    },
    "id": "NF_uMyvHn83g",
    "outputId": "a548a548-0805-4485-e1a5-e351b6e1b5fc"
   },
   "outputs": [
    {
     "name": "stdout",
     "output_type": "stream",
     "text": [
      "                               SARIMAX Results                                \n",
      "==============================================================================\n",
      "Dep. Variable:                  value   No. Observations:                  453\n",
      "Model:                 ARIMA(2, 0, 0)   Log Likelihood               -1654.336\n",
      "Date:                Tue, 18 May 2021   AIC                           3316.671\n",
      "Time:                        12:33:42   BIC                           3333.117\n",
      "Sample:                    01-31-1950   HQIC                          3323.152\n",
      "                         - 09-30-1987                                         \n",
      "Covariance Type:                  opg                                         \n",
      "==============================================================================\n",
      "                 coef    std err          z      P>|z|      [0.025      0.975]\n",
      "------------------------------------------------------------------------------\n",
      "const         61.8960      4.233     14.622      0.000      53.599      70.193\n",
      "ar.L1          1.3318      0.043     30.894      0.000       1.247       1.416\n",
      "ar.L2         -0.4447      0.039    -11.325      0.000      -0.522      -0.368\n",
      "sigma2        94.1063      5.716     16.465      0.000      82.904     105.309\n",
      "===================================================================================\n",
      "Ljung-Box (L1) (Q):                   0.01   Jarque-Bera (JB):                86.78\n",
      "Prob(Q):                              0.94   Prob(JB):                         0.00\n",
      "Heteroskedasticity (H):               1.24   Skew:                             0.31\n",
      "Prob(H) (two-sided):                  0.19   Kurtosis:                         5.06\n",
      "===================================================================================\n",
      "\n",
      "Warnings:\n",
      "[1] Covariance matrix calculated using the outer product of gradients (complex-step).\n"
     ]
    }
   ],
   "source": [
    "# Example 3.28\n",
    "rec_ar = sm.tsa.arima.ARIMA(rec, order=(2, 0, 0), enforce_stationarity=False, enforce_invertibility=False).fit(method=\"yule_walker\")\n",
    "print(rec_ar.summary())"
   ]
  },
  {
   "cell_type": "code",
   "execution_count": 3,
   "metadata": {
    "colab": {
     "base_uri": "https://localhost:8080/",
     "height": 279
    },
    "executionInfo": {
     "elapsed": 15112,
     "status": "ok",
     "timestamp": 1620973290606,
     "user": {
      "displayName": "Maxim Makovskiy",
      "photoUrl": "https://lh3.googleusercontent.com/a-/AOh14GhUtm5ocMLn80-L5o-Cp82nAfgZ1zEFQtL7Rx0Ddw=s64",
      "userId": "09226676459757968136"
     },
     "user_tz": -360
    },
    "id": "KfkPizpZvqjL",
    "outputId": "268e6f6a-204d-4771-9a1b-674c64f38bda"
   },
   "outputs": [
    {
     "data": {
      "image/png": "[encoded data removed]",
      "text/plain": [
       "<Figure size 432x288 with 1 Axes>"
      ]
     },
     "metadata": {
      "needs_background": "light"
     },
     "output_type": "display_data"
    }
   ],
   "source": [
    "rec_pr = rec_ar.get_prediction(start=len(rec), end=len(rec) + 23)\n",
    "U = rec_pr.predicted_mean + rec_pr.se_mean\n",
    "L = rec_pr.predicted_mean - rec_pr.se_mean\n",
    "\n",
    "rec[\"1980\":].plot(xlabel=\"Time\", legend=False)\n",
    "rec_pr.predicted_mean.plot(marker=\"o\")\n",
    "plt.plot(U, color=\"red\", linestyle=\"--\")\n",
    "plt.plot(L, color=\"red\", linestyle=\"--\")\n",
    "plt.show()"
   ]
  },
  {
   "cell_type": "code",
   "execution_count": 4,
   "metadata": {
    "colab": {
     "base_uri": "https://localhost:8080/"
    },
    "executionInfo": {
     "elapsed": 15109,
     "status": "ok",
     "timestamp": 1620973290607,
     "user": {
      "displayName": "Maxim Makovskiy",
      "photoUrl": "https://lh3.googleusercontent.com/a-/AOh14GhUtm5ocMLn80-L5o-Cp82nAfgZ1zEFQtL7Rx0Ddw=s64",
      "userId": "09226676459757968136"
     },
     "user_tz": -360
    },
    "id": "P-qWvgPd5RvL",
    "outputId": "9dc796e5-cd67-4eaa-dbef-d86651aab913"
   },
   "outputs": [
    {
     "name": "stdout",
     "output_type": "stream",
     "text": [
      "[0.34800403]\n"
     ]
    }
   ],
   "source": [
    "# Example 3.29\n",
    "np.random.seed(2)\n",
    "ma1 = sm.tsa.arma_generate_sample(ar=[1, 0], ma=[1, .9], nsample=50)\n",
    "acf_1 = sm.tsa.acf(ma1, nlags=1, fft=False)[1:] # = .348 (lag 1 sample ACF)\n",
    "print(acf_1)"
   ]
  },
  {
   "cell_type": "code",
   "execution_count": 5,
   "metadata": {
    "colab": {
     "base_uri": "https://localhost:8080/"
    },
    "executionInfo": {
     "elapsed": 15431,
     "status": "ok",
     "timestamp": 1620973290933,
     "user": {
      "displayName": "Maxim Makovskiy",
      "photoUrl": "https://lh3.googleusercontent.com/a-/AOh14GhUtm5ocMLn80-L5o-Cp82nAfgZ1zEFQtL7Rx0Ddw=s64",
      "userId": "09226676459757968136"
     },
     "user_tz": -360
    },
    "id": "yeMEGP-m6Pwf",
    "outputId": "19d3869e-a9b4-44de-d542-d59dd18f99d2"
   },
   "outputs": [
    {
     "name": "stdout",
     "output_type": "stream",
     "text": [
      "                               SARIMAX Results                                \n",
      "==============================================================================\n",
      "Dep. Variable:                  value   No. Observations:                  453\n",
      "Model:                 ARIMA(2, 0, 0)   Log Likelihood               -1653.944\n",
      "Date:                Tue, 18 May 2021   AIC                           3315.889\n",
      "Time:                        12:33:43   BIC                           3332.334\n",
      "Sample:                    01-31-1950   HQIC                          3322.370\n",
      "                         - 09-30-1987                                         \n",
      "Covariance Type:                  opg                                         \n",
      "==============================================================================\n",
      "                 coef    std err          z      P>|z|      [0.025      0.975]\n",
      "------------------------------------------------------------------------------\n",
      "const         61.8949      4.127     14.997      0.000      53.806      69.984\n",
      "ar.L1          1.3512      0.041     32.832      0.000       1.271       1.432\n",
      "ar.L2         -0.4612      0.037    -12.389      0.000      -0.534      -0.388\n",
      "sigma2        89.3344      5.149     17.349      0.000      79.242      99.427\n",
      "===================================================================================\n",
      "Ljung-Box (L1) (Q):                   0.12   Jarque-Bera (JB):                91.63\n",
      "Prob(Q):                              0.72   Prob(JB):                         0.00\n",
      "Heteroskedasticity (H):               1.23   Skew:                             0.30\n",
      "Prob(H) (two-sided):                  0.20   Kurtosis:                         5.12\n",
      "===================================================================================\n",
      "\n",
      "Warnings:\n",
      "[1] Covariance matrix calculated using the outer product of gradients (complex-step).\n"
     ]
    }
   ],
   "source": [
    "#-------------------- Maximum likelihood --------------------- \n",
    "# Example 3.31\n",
    "rec_mle = sm.tsa.arima.ARIMA(rec, order=(2, 0, 0), enforce_stationarity=False, enforce_invertibility=False).fit(method=\"innovations_mle\")\n",
    "print(rec_mle.summary())"
   ]
  },
  {
   "cell_type": "code",
   "execution_count": 6,
   "metadata": {
    "colab": {
     "base_uri": "https://localhost:8080/",
     "height": 281
    },
    "executionInfo": {
     "elapsed": 29730,
     "status": "ok",
     "timestamp": 1620973305237,
     "user": {
      "displayName": "Maxim Makovskiy",
      "photoUrl": "https://lh3.googleusercontent.com/a-/AOh14GhUtm5ocMLn80-L5o-Cp82nAfgZ1zEFQtL7Rx0Ddw=s64",
      "userId": "09226676459757968136"
     },
     "user_tz": -360
    },
    "id": "CVkNKsEL-2IU",
    "outputId": "9f69eeb1-c3e4-4985-d121-9c653a830723"
   },
   "outputs": [
    {
     "data": {
      "image/png": "[encoded data removed]",
      "text/plain": [
       "<Figure size 432x288 with 1 Axes>"
      ]
     },
     "metadata": {
      "needs_background": "light"
     },
     "output_type": "display_data"
    }
   ],
   "source": [
    "# Example 3.33\n",
    "x = varve.apply(np.log).diff().dropna()\n",
    "# Evaluate Sc on a Grid\n",
    "num = x.shape[0]\n",
    "w = np.zeros(num)\n",
    "Sc = np.array([])\n",
    "th = np.arange(-.3, -.95, -.01)\n",
    "\n",
    "for p in np.arange(len(th)):\n",
    "    for i in np.arange(1, num):\n",
    "        w[i] = x.iloc[i] - th[p] * w[i-1]\n",
    "    Sc = np.append(Sc, np.sum(w**2))\n",
    "\n",
    "plt.plot(th, Sc)\n",
    "plt.ylabel(r\"$S_{c}(\\theta)$\")\n",
    "plt.xlabel(r\"$\\theta$\")\n",
    "plt.show()"
   ]
  },
  {
   "cell_type": "code",
   "execution_count": 7,
   "metadata": {
    "colab": {
     "base_uri": "https://localhost:8080/",
     "height": 426
    },
    "executionInfo": {
     "elapsed": 31636,
     "status": "ok",
     "timestamp": 1620973307148,
     "user": {
      "displayName": "Maxim Makovskiy",
      "photoUrl": "https://lh3.googleusercontent.com/a-/AOh14GhUtm5ocMLn80-L5o-Cp82nAfgZ1zEFQtL7Rx0Ddw=s64",
      "userId": "09226676459757968136"
     },
     "user_tz": -360
    },
    "id": "U7K1sn5FStdt",
    "outputId": "743cd636-d65f-471f-9317-4a0de238a1cf"
   },
   "outputs": [
    {
     "data": {
      "text/html": [
       "<div>\n",
       "<style scoped>\n",
       "    .dataframe tbody tr th:only-of-type {\n",
       "        vertical-align: middle;\n",
       "    }\n",
       "\n",
       "    .dataframe tbody tr th {\n",
       "        vertical-align: top;\n",
       "    }\n",
       "\n",
       "    .dataframe thead th {\n",
       "        text-align: right;\n",
       "    }\n",
       "</style>\n",
       "<table border=\"1\" class=\"dataframe\">\n",
       "  <thead>\n",
       "    <tr style=\"text-align: right;\">\n",
       "      <th></th>\n",
       "      <th>iteration</th>\n",
       "      <th>thetahat</th>\n",
       "      <th>Sc</th>\n",
       "      <th>Sz</th>\n",
       "    </tr>\n",
       "  </thead>\n",
       "  <tbody>\n",
       "    <tr>\n",
       "      <th>0</th>\n",
       "      <td>0</td>\n",
       "      <td>-0.495</td>\n",
       "      <td>158.739</td>\n",
       "      <td>171.240</td>\n",
       "    </tr>\n",
       "    <tr>\n",
       "      <th>1</th>\n",
       "      <td>1</td>\n",
       "      <td>-0.668</td>\n",
       "      <td>150.747</td>\n",
       "      <td>235.266</td>\n",
       "    </tr>\n",
       "    <tr>\n",
       "      <th>2</th>\n",
       "      <td>2</td>\n",
       "      <td>-0.733</td>\n",
       "      <td>149.264</td>\n",
       "      <td>300.562</td>\n",
       "    </tr>\n",
       "    <tr>\n",
       "      <th>3</th>\n",
       "      <td>3</td>\n",
       "      <td>-0.756</td>\n",
       "      <td>149.031</td>\n",
       "      <td>336.823</td>\n",
       "    </tr>\n",
       "    <tr>\n",
       "      <th>4</th>\n",
       "      <td>4</td>\n",
       "      <td>-0.766</td>\n",
       "      <td>148.990</td>\n",
       "      <td>354.173</td>\n",
       "    </tr>\n",
       "    <tr>\n",
       "      <th>5</th>\n",
       "      <td>5</td>\n",
       "      <td>-0.769</td>\n",
       "      <td>148.982</td>\n",
       "      <td>362.167</td>\n",
       "    </tr>\n",
       "    <tr>\n",
       "      <th>6</th>\n",
       "      <td>6</td>\n",
       "      <td>-0.771</td>\n",
       "      <td>148.980</td>\n",
       "      <td>365.801</td>\n",
       "    </tr>\n",
       "    <tr>\n",
       "      <th>7</th>\n",
       "      <td>7</td>\n",
       "      <td>-0.772</td>\n",
       "      <td>148.980</td>\n",
       "      <td>367.446</td>\n",
       "    </tr>\n",
       "    <tr>\n",
       "      <th>8</th>\n",
       "      <td>8</td>\n",
       "      <td>-0.772</td>\n",
       "      <td>148.980</td>\n",
       "      <td>368.188</td>\n",
       "    </tr>\n",
       "    <tr>\n",
       "      <th>9</th>\n",
       "      <td>9</td>\n",
       "      <td>-0.772</td>\n",
       "      <td>148.980</td>\n",
       "      <td>368.522</td>\n",
       "    </tr>\n",
       "    <tr>\n",
       "      <th>10</th>\n",
       "      <td>10</td>\n",
       "      <td>-0.773</td>\n",
       "      <td>148.980</td>\n",
       "      <td>368.673</td>\n",
       "    </tr>\n",
       "    <tr>\n",
       "      <th>11</th>\n",
       "      <td>11</td>\n",
       "      <td>-0.773</td>\n",
       "      <td>148.980</td>\n",
       "      <td>368.741</td>\n",
       "    </tr>\n",
       "  </tbody>\n",
       "</table>\n",
       "</div>"
      ],
      "text/plain": [
       "    iteration  thetahat       Sc       Sz\n",
       "0           0    -0.495  158.739  171.240\n",
       "1           1    -0.668  150.747  235.266\n",
       "2           2    -0.733  149.264  300.562\n",
       "3           3    -0.756  149.031  336.823\n",
       "4           4    -0.766  148.990  354.173\n",
       "5           5    -0.769  148.982  362.167\n",
       "6           6    -0.771  148.980  365.801\n",
       "7           7    -0.772  148.980  367.446\n",
       "8           8    -0.772  148.980  368.188\n",
       "9           9    -0.772  148.980  368.522\n",
       "10         10    -0.773  148.980  368.673\n",
       "11         11    -0.773  148.980  368.741"
      ]
     },
     "execution_count": 7,
     "metadata": {},
     "output_type": "execute_result"
    }
   ],
   "source": [
    "# Gauss-Newton Estimation\n",
    "r = sm.tsa.acf(x, nlags=1, fft=False)[1:]\n",
    "rstart = (1 - np.sqrt(1 - 4 * (r**2))) / (2 * r) # from (3.105)\n",
    "w = np.zeros(num)\n",
    "z = np.zeros(num)\n",
    "Sc_1 = np.array([])\n",
    "Sz = np.array([])\n",
    "Szw = np.array([])\n",
    "para = np.array([])\n",
    "para = np.append(para, rstart)\n",
    "niter = 12\n",
    "\n",
    "for p in np.arange(niter):\n",
    "    for i in np.arange(1, num):\n",
    "        w[i] = x.iloc[i] - para[p] * w[i-1]\n",
    "        z[i] = w[i-1] - para[p] * z[i-1]\n",
    "    Sc_1 = np.append(Sc_1, np.sum(w**2))\n",
    "    Sz = np.append(Sz, np.sum(z**2))\n",
    "    Szw = np.append(Szw, np.sum(z * w))\n",
    "    para = np.append(para, para[p] + Szw[p]/Sz[p])\n",
    "\n",
    "pd.DataFrame({\"iteration\": np.arange(12), \"thetahat\": para[:niter], \"Sc\": Sc_1, \"Sz\": Sz}).round(3)"
   ]
  },
  {
   "cell_type": "code",
   "execution_count": 8,
   "metadata": {
    "colab": {
     "base_uri": "https://localhost:8080/",
     "height": 281
    },
    "executionInfo": {
     "elapsed": 31963,
     "status": "ok",
     "timestamp": 1620973307479,
     "user": {
      "displayName": "Maxim Makovskiy",
      "photoUrl": "https://lh3.googleusercontent.com/a-/AOh14GhUtm5ocMLn80-L5o-Cp82nAfgZ1zEFQtL7Rx0Ddw=s64",
      "userId": "09226676459757968136"
     },
     "user_tz": -360
    },
    "id": "SxInj-E8hH-w",
    "outputId": "2062d8af-14b4-40a0-c82e-4efa90b84abe"
   },
   "outputs": [
    {
     "data": {
      "image/png": "[encoded data removed]",
      "text/plain": [
       "<Figure size 432x288 with 1 Axes>"
      ]
     },
     "metadata": {
      "needs_background": "light"
     },
     "output_type": "display_data"
    }
   ],
   "source": [
    "plt.plot(th, Sc)\n",
    "plt.scatter(para[:niter], Sc_1, s=13, color=\"black\")\n",
    "plt.vlines(para[:niter], ymin=min(Sc) - 1, ymax=max(Sc), color=\"black\", linestyles=\"--\", linewidth=1)\n",
    "plt.ylabel(r\"$S_{c}(\\theta)$\")\n",
    "plt.xlabel(r\"$\\theta$\")\n",
    "plt.show()"
   ]
  },
  {
   "cell_type": "code",
   "execution_count": 9,
   "metadata": {
    "colab": {
     "base_uri": "https://localhost:8080/",
     "height": 279
    },
    "executionInfo": {
     "elapsed": 32471,
     "status": "ok",
     "timestamp": 1620973307992,
     "user": {
      "displayName": "Maxim Makovskiy",
      "photoUrl": "https://lh3.googleusercontent.com/a-/AOh14GhUtm5ocMLn80-L5o-Cp82nAfgZ1zEFQtL7Rx0Ddw=s64",
      "userId": "09226676459757968136"
     },
     "user_tz": -360
    },
    "id": "bkNPDs6Hj0MC",
    "outputId": "bb17b3e5-0b57-4c18-f22e-14b441367249"
   },
   "outputs": [
    {
     "data": {
      "image/png": "[encoded data removed]",
      "text/plain": [
       "<Figure size 432x288 with 1 Axes>"
      ]
     },
     "metadata": {
      "needs_background": "light"
     },
     "output_type": "display_data"
    }
   ],
   "source": [
    "# Example 3.36\n",
    "np.random.seed(101010)\n",
    "\n",
    "def innov(size):\n",
    "    e = np.random.exponential(scale=2, size=size)\n",
    "    u = np.random.uniform(low=-1, high=1, size=size)\n",
    "    return e * np.sign(u)\n",
    "\n",
    "dex = 50 + sm.tsa.arma_generate_sample(ar=[1, -.95], ma=[1, 0], nsample=100, burnin=50, distrvs=innov)\n",
    "\n",
    "plt.plot(dex, marker=\"o\", markersize=4)\n",
    "plt.xlabel(\"Time\")\n",
    "plt.ylabel(r\"$X_{t}$\")\n",
    "plt.show()"
   ]
  },
  {
   "cell_type": "code",
   "execution_count": 10,
   "metadata": {
    "colab": {
     "base_uri": "https://localhost:8080/",
     "height": 265
    },
    "executionInfo": {
     "elapsed": 54806,
     "status": "ok",
     "timestamp": 1620973330331,
     "user": {
      "displayName": "Maxim Makovskiy",
      "photoUrl": "https://lh3.googleusercontent.com/a-/AOh14GhUtm5ocMLn80-L5o-Cp82nAfgZ1zEFQtL7Rx0Ddw=s64",
      "userId": "09226676459757968136"
     },
     "user_tz": -360
    },
    "id": "sBUaKDNj2pQw",
    "outputId": "7018d2fc-0f27-498f-e87f-4e92dcfc6a4d"
   },
   "outputs": [
    {
     "data": {
      "image/png": "[encoded data removed]",
      "text/plain": [
       "<Figure size 432x288 with 1 Axes>"
      ]
     },
     "metadata": {
      "needs_background": "light"
     },
     "output_type": "display_data"
    }
   ],
   "source": [
    "# small sample and asymptotic distn\n",
    "np.random.seed(111)\n",
    "phi_yw = np.empty(1000)\n",
    "\n",
    "for i in np.arange(1000):\n",
    "    x = 50 + sm.tsa.arma_generate_sample(ar=[1, -.95], ma=[1, 0], nsample=100, distrvs=innov, burnin=50)\n",
    "    phi_yw[i] = sm.tsa.arima.ARIMA(x, order=(1, 0, 0), enforce_stationarity=False, enforce_invertibility=False).fit(method=\"yule_walker\").arparams\n",
    "\n",
    "kde = sm.nonparametric.KDEUnivariate(phi_yw).fit(bw=.015)\n",
    "\n",
    "plt.hist(phi_yw, density=True)\n",
    "plt.plot(kde.support, kde.density, lw=2, color=\"black\")\n",
    "\n",
    "true_values = stats.norm.pdf(loc=.96, scale=.03, x=kde.support) \n",
    "plt.plot(kde.support, true_values, lw=2, color=\"black\", linestyle=\"--\")\n",
    "plt.show()"
   ]
  },
  {
   "cell_type": "code",
   "execution_count": 11,
   "metadata": {
    "executionInfo": {
     "elapsed": 61858,
     "status": "ok",
     "timestamp": 1620973337385,
     "user": {
      "displayName": "Maxim Makovskiy",
      "photoUrl": "https://lh3.googleusercontent.com/a-/AOh14GhUtm5ocMLn80-L5o-Cp82nAfgZ1zEFQtL7Rx0Ddw=s64",
      "userId": "09226676459757968136"
     },
     "user_tz": -360
    },
    "id": "skWPSVOUlwi7"
   },
   "outputs": [],
   "source": [
    "# Bootstrap\n",
    "np.random.seed(666) # not that 666\n",
    "fit = sm.tsa.arima.ARIMA(dex, order=(1, 0, 0), enforce_stationarity=False, enforce_invertibility=False).fit(method=\"yule_walker\")\n",
    "m = fit.params[0] # estimate of mean\n",
    "phi = fit.arparams # estimate of phi\n",
    "nboot = 250 # number of bootstrap replicates\n",
    "resids = fit.resid[1:] # the 99 innovations\n",
    "x_star = dex # initialize x*\n",
    "phi_star_yw = np.zeros(nboot)\n",
    "\n",
    "for i in np.arange(nboot):\n",
    "    resid_star = np.random.choice(resids, size=len(resids))\n",
    "    for t in np.arange(99):\n",
    "        x_star[t+1] = m + phi * (x_star[t] - m) + resid_star[t]\n",
    "    phi_star_yw[i] = sm.tsa.arima.ARIMA(x_star, order=(1, 0, 0), enforce_stationarity=False, enforce_invertibility=False).fit(method=\"yule_walker\").arparams"
   ]
  },
  {
   "cell_type": "code",
   "execution_count": 12,
   "metadata": {
    "colab": {
     "base_uri": "https://localhost:8080/",
     "height": 265
    },
    "executionInfo": {
     "elapsed": 61854,
     "status": "ok",
     "timestamp": 1620973337385,
     "user": {
      "displayName": "Maxim Makovskiy",
      "photoUrl": "https://lh3.googleusercontent.com/a-/AOh14GhUtm5ocMLn80-L5o-Cp82nAfgZ1zEFQtL7Rx0Ddw=s64",
      "userId": "09226676459757968136"
     },
     "user_tz": -360
    },
    "id": "v3OrOOHLq4EZ",
    "outputId": "03dffef1-4ecb-42a0-ddc5-d5f8b85767e5"
   },
   "outputs": [
    {
     "data": {
      "image/png": "[encoded data removed]",
      "text/plain": [
       "<Figure size 432x288 with 1 Axes>"
      ]
     },
     "metadata": {
      "needs_background": "light"
     },
     "output_type": "display_data"
    }
   ],
   "source": [
    "# Picture\n",
    "kde = sm.nonparametric.KDEUnivariate(phi_yw).fit(bw=.02)\n",
    "\n",
    "plt.hist(phi_star_yw, color=(.5, .7,1, .5), density=True, label=\"bootstrap destribution\")\n",
    "plt.plot(kde.support, kde.density, lw=2, color=\"black\", label=\"true distribution\")\n",
    "\n",
    "plt.plot(kde.support, true_values, lw=2, color=\"black\", linestyle=\"--\", label=\"normal approximation\")\n",
    "plt.legend()\n",
    "plt.show()"
   ]
  }
 ],
 "metadata": {
  "colab": {
   "authorship_tag": "ABX9TyPqLKtF5Y5N3Jb1AsvZMXzE",
   "collapsed_sections": [],
   "name": "section_3_5.ipynb",
   "provenance": []
  },
  "kernelspec": {
   "display_name": "Python 3",
   "language": "python",
   "name": "python3"
  },
  "language_info": {
   "codemirror_mode": {
    "name": "ipython",
    "version": 3
   },
   "file_extension": ".py",
   "mimetype": "text/x-python",
   "name": "python",
   "nbconvert_exporter": "python",
   "pygments_lexer": "ipython3",
   "version": "3.8.5"
  }
 },
 "nbformat": 4,
 "nbformat_minor": 4
}
